{
 "cells": [
  {
   "cell_type": "markdown",
   "id": "a0f4311c",
   "metadata": {},
   "source": [
    "# Grafik Cesitleri;"
   ]
  },
  {
   "cell_type": "code",
   "execution_count": 1,
   "id": "2f920937",
   "metadata": {},
   "outputs": [],
   "source": [
    "import numpy as np\n",
    "import pandas as pd\n",
    "import matplotlib.pyplot as  plt"
   ]
  },
  {
   "cell_type": "code",
   "execution_count": 2,
   "id": "0234c3a4",
   "metadata": {},
   "outputs": [],
   "source": [
    "%matplotlib inline"
   ]
  },
  {
   "cell_type": "code",
   "execution_count": 3,
   "id": "506c20ba",
   "metadata": {},
   "outputs": [],
   "source": [
    "numpyArray = np.linspace(1, 20, 30)"
   ]
  },
  {
   "cell_type": "code",
   "execution_count": 4,
   "id": "d49640d7",
   "metadata": {},
   "outputs": [
    {
     "data": {
      "text/plain": [
       "array([ 1.        ,  1.65517241,  2.31034483,  2.96551724,  3.62068966,\n",
       "        4.27586207,  4.93103448,  5.5862069 ,  6.24137931,  6.89655172,\n",
       "        7.55172414,  8.20689655,  8.86206897,  9.51724138, 10.17241379,\n",
       "       10.82758621, 11.48275862, 12.13793103, 12.79310345, 13.44827586,\n",
       "       14.10344828, 14.75862069, 15.4137931 , 16.06896552, 16.72413793,\n",
       "       17.37931034, 18.03448276, 18.68965517, 19.34482759, 20.        ])"
      ]
     },
     "execution_count": 4,
     "metadata": {},
     "output_type": "execute_result"
    }
   ],
   "source": [
    "numpyArray"
   ]
  },
  {
   "cell_type": "markdown",
   "id": "f6c88f9f",
   "metadata": {},
   "source": [
    "## Scatter(Sacilma);"
   ]
  },
  {
   "cell_type": "code",
   "execution_count": 5,
   "id": "a188ea18",
   "metadata": {},
   "outputs": [
    {
     "data": {
      "text/plain": [
       "<matplotlib.collections.PathCollection at 0x1d3e4641af0>"
      ]
     },
     "execution_count": 5,
     "metadata": {},
     "output_type": "execute_result"
    },
    {
     "data": {
      "image/png": "[encoded data removed]",
      "text/plain": [
       "<Figure size 432x288 with 1 Axes>"
      ]
     },
     "metadata": {
      "needs_background": "light"
     },
     "output_type": "display_data"
    }
   ],
   "source": [
    "plt.scatter(numpyArray, numpyArray ** 2)"
   ]
  },
  {
   "cell_type": "markdown",
   "id": "6dbfc2bb",
   "metadata": {},
   "source": [
    "## Histogram;"
   ]
  },
  {
   "cell_type": "code",
   "execution_count": 6,
   "id": "d8f2cd5a",
   "metadata": {},
   "outputs": [],
   "source": [
    "newNumpyArray = np.random.randint(0, 100, 50)"
   ]
  },
  {
   "cell_type": "code",
   "execution_count": 7,
   "id": "d0c74ab1",
   "metadata": {},
   "outputs": [
    {
     "data": {
      "text/plain": [
       "array([92, 97, 94, 39, 42,  7, 25,  9, 66, 94, 34, 35,  6, 88,  2, 28, 15,\n",
       "       93, 66, 92, 14, 83, 95, 56, 63, 83,  6, 35, 70, 64, 37, 21, 51, 83,\n",
       "       32, 92, 97, 22, 85, 37,  1, 54, 72, 98, 64, 79, 99, 44,  8, 64])"
      ]
     },
     "execution_count": 7,
     "metadata": {},
     "output_type": "execute_result"
    }
   ],
   "source": [
    "newNumpyArray"
   ]
  },
  {
   "cell_type": "code",
   "execution_count": 8,
   "id": "dfc3eff2",
   "metadata": {},
   "outputs": [
    {
     "data": {
      "text/plain": [
       "(array([ 7.,  2.,  4.,  7.,  2.,  3.,  6.,  3.,  5., 11.]),\n",
       " array([ 1. , 10.8, 20.6, 30.4, 40.2, 50. , 59.8, 69.6, 79.4, 89.2, 99. ]),\n",
       " <BarContainer object of 10 artists>)"
      ]
     },
     "execution_count": 8,
     "metadata": {},
     "output_type": "execute_result"
    },
    {
     "data": {
      "image/png": "[encoded data removed]",
      "text/plain": [
       "<Figure size 432x288 with 1 Axes>"
      ]
     },
     "metadata": {
      "needs_background": "light"
     },
     "output_type": "display_data"
    }
   ],
   "source": [
    "plt.hist(newNumpyArray)"
   ]
  },
  {
   "cell_type": "markdown",
   "id": "2ec46413",
   "metadata": {},
   "source": [
    "## BoxPlot;"
   ]
  },
  {
   "cell_type": "code",
   "execution_count": 9,
   "id": "1120620c",
   "metadata": {},
   "outputs": [
    {
     "data": {
      "text/plain": [
       "{'whiskers': [<matplotlib.lines.Line2D at 0x1d3e67d8970>,\n",
       "  <matplotlib.lines.Line2D at 0x1d3e67d8c40>],\n",
       " 'caps': [<matplotlib.lines.Line2D at 0x1d3e67d8fd0>,\n",
       "  <matplotlib.lines.Line2D at 0x1d3e67ea220>],\n",
       " 'boxes': [<matplotlib.lines.Line2D at 0x1d3e67d86a0>],\n",
       " 'medians': [<matplotlib.lines.Line2D at 0x1d3e67ea4f0>],\n",
       " 'fliers': [<matplotlib.lines.Line2D at 0x1d3e67ea7c0>],\n",
       " 'means': []}"
      ]
     },
     "execution_count": 9,
     "metadata": {},
     "output_type": "execute_result"
    },
    {
     "data": {
      "image/png": "[encoded data removed]",
      "text/plain": [
       "<Figure size 432x288 with 1 Axes>"
      ]
     },
     "metadata": {
      "needs_background": "light"
     },
     "output_type": "display_data"
    }
   ],
   "source": [
    "plt.boxplot(newNumpyArray)"
   ]
  },
  {
   "cell_type": "markdown",
   "id": "b1cb3803",
   "metadata": {},
   "source": [
    "## Grouped Bar;"
   ]
  },
  {
   "cell_type": "code",
   "execution_count": 19,
   "id": "722c21ff",
   "metadata": {},
   "outputs": [],
   "source": [
    "labels = ['G1', 'G2', 'G3', 'G4', 'G5']\n",
    "men_means = [20, 24, 40, 33, 46]\n",
    "women_means = [25, 29, 34, 42, 44]"
   ]
  },
  {
   "cell_type": "code",
   "execution_count": 20,
   "id": "f5ef7916",
   "metadata": {},
   "outputs": [],
   "source": [
    "x = np.arange(len(labels))"
   ]
  },
  {
   "cell_type": "code",
   "execution_count": 21,
   "id": "0dbf2138",
   "metadata": {
    "scrolled": true
   },
   "outputs": [
    {
     "data": {
      "text/plain": [
       "array([0, 1, 2, 3, 4])"
      ]
     },
     "execution_count": 21,
     "metadata": {},
     "output_type": "execute_result"
    }
   ],
   "source": [
    "x"
   ]
  },
  {
   "cell_type": "code",
   "execution_count": 30,
   "id": "51bdd2d8",
   "metadata": {},
   "outputs": [],
   "source": [
    "width = 0.3"
   ]
  },
  {
   "cell_type": "code",
   "execution_count": 50,
   "id": "3c8f7e2e",
   "metadata": {},
   "outputs": [
    {
     "data": {
      "image/png": "[encoded data removed]",
      "text/plain": [
       "<Figure size 600x400 with 1 Axes>"
      ]
     },
     "metadata": {
      "needs_background": "light"
     },
     "output_type": "display_data"
    }
   ],
   "source": [
    "fig, ax = plt.subplots(dpi=100)\n",
    "rects1 = ax.bar(x-width/2, men_means, width, label='Men', color='k')\n",
    "rects2 = ax.bar(x+width/2, women_means, width, label='Women', color='r')\n",
    "\n",
    "ax.set_ylabel('Scores')\n",
    "ax.set_title('Score by group and gender')\n",
    "ax.set_xticks(x, labels)\n",
    "ax.legend()\n",
    "\n",
    "ax.bar_label(rects1, padding=3)\n",
    "ax.bar_label(rects2, padding=3)\n",
    "\n",
    "fig.tight_layout()"
   ]
  },
  {
   "cell_type": "code",
   "execution_count": null,
   "id": "e312e7e0",
   "metadata": {},
   "outputs": [],
   "source": []
  }
 ],
 "metadata": {
  "kernelspec": {
   "display_name": "Python 3 (ipykernel)",
   "language": "python",
   "name": "python3"
  },
  "language_info": {
   "codemirror_mode": {
    "name": "ipython",
    "version": 3
   },
   "file_extension": ".py",
   "mimetype": "text/x-python",
   "name": "python",
   "nbconvert_exporter": "python",
   "pygments_lexer": "ipython3",
   "version": "3.9.5"
  }
 },
 "nbformat": 4,
 "nbformat_minor": 5
}
