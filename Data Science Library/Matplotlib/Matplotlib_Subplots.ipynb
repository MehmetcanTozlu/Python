{
 "cells": [
  {
   "cell_type": "markdown",
   "id": "3bf2de71",
   "metadata": {},
   "source": [
    "# SubplotS;"
   ]
  },
  {
   "cell_type": "code",
   "execution_count": 1,
   "id": "80a95f9c",
   "metadata": {},
   "outputs": [],
   "source": [
    "import numpy as np\n",
    "import pandas as pd\n",
    "import matplotlib.pyplot as plt"
   ]
  },
  {
   "cell_type": "code",
   "execution_count": 2,
   "id": "34e935df",
   "metadata": {},
   "outputs": [],
   "source": [
    "%matplotlib inline"
   ]
  },
  {
   "cell_type": "code",
   "execution_count": 3,
   "id": "8f3d204b",
   "metadata": {},
   "outputs": [],
   "source": [
    "numpyArray1 = np.linspace(1, 10, 20)\n",
    "numpyArray2 = numpyArray1 ** 3"
   ]
  },
  {
   "cell_type": "code",
   "execution_count": 8,
   "id": "f6b072ad",
   "metadata": {},
   "outputs": [
    {
     "data": {
      "text/plain": [
       "array([ 1.        ,  1.47368421,  1.94736842,  2.42105263,  2.89473684,\n",
       "        3.36842105,  3.84210526,  4.31578947,  4.78947368,  5.26315789,\n",
       "        5.73684211,  6.21052632,  6.68421053,  7.15789474,  7.63157895,\n",
       "        8.10526316,  8.57894737,  9.05263158,  9.52631579, 10.        ])"
      ]
     },
     "execution_count": 8,
     "metadata": {},
     "output_type": "execute_result"
    }
   ],
   "source": [
    "numpyArray1"
   ]
  },
  {
   "cell_type": "code",
   "execution_count": 9,
   "id": "5702b321",
   "metadata": {},
   "outputs": [
    {
     "data": {
      "text/plain": [
       "array([   1.        ,    3.20046654,    7.38489576,   14.19098994,\n",
       "         24.25645138,   38.21898236,   56.71628517,   80.38606211,\n",
       "        109.86601545,  145.7938475 ,  188.80726053,  239.54395685,\n",
       "        298.64163872,  366.73800846,  444.47076833,  532.47762064,\n",
       "        631.39626768,  741.86441172,  864.51975507, 1000.        ])"
      ]
     },
     "execution_count": 9,
     "metadata": {},
     "output_type": "execute_result"
    }
   ],
   "source": [
    "numpyArray2"
   ]
  },
  {
   "cell_type": "markdown",
   "id": "567576a2",
   "metadata": {},
   "source": [
    "subplots(row sayisi, column sayisi) 2 parametre tutar bunlardan 1.si shape'in old., 2.si de axesler'in old."
   ]
  },
  {
   "cell_type": "code",
   "execution_count": 18,
   "id": "4ce73c95",
   "metadata": {},
   "outputs": [
    {
     "data": {
      "image/png": "[encoded data removed]",
      "text/plain": [
       "<Figure size 432x288 with 2 Axes>"
      ]
     },
     "metadata": {
      "needs_background": "light"
     },
     "output_type": "display_data"
    }
   ],
   "source": [
    "(figur, axes) = plt.subplots(nrows=1, ncols=2) # satir sayisini ve sutun sayisini parametre aliyor"
   ]
  },
  {
   "cell_type": "markdown",
   "id": "2ac7d1fc",
   "metadata": {},
   "source": [
    "### subplot 2 parametre tutar dedik 1. si sekillerin tutuldugu; figur"
   ]
  },
  {
   "cell_type": "code",
   "execution_count": 16,
   "id": "ff94b35f",
   "metadata": {},
   "outputs": [
    {
     "data": {
      "image/png": "[encoded data removed]",
      "text/plain": [
       "<Figure size 432x288 with 2 Axes>"
      ]
     },
     "execution_count": 16,
     "metadata": {},
     "output_type": "execute_result"
    }
   ],
   "source": [
    "figur"
   ]
  },
  {
   "cell_type": "markdown",
   "id": "9612b941",
   "metadata": {},
   "source": [
    "### 2. si de axeslerin bilgisinin tutuldugu; axes"
   ]
  },
  {
   "cell_type": "code",
   "execution_count": 17,
   "id": "9198a6e0",
   "metadata": {},
   "outputs": [
    {
     "data": {
      "text/plain": [
       "array([<AxesSubplot:>, <AxesSubplot:>], dtype=object)"
      ]
     },
     "execution_count": 17,
     "metadata": {},
     "output_type": "execute_result"
    }
   ],
   "source": [
    "axes"
   ]
  },
  {
   "cell_type": "markdown",
   "id": "be828817",
   "metadata": {},
   "source": [
    "(figur, axes) = plt.subplots(nrows=1, ncols=2)\n",
    "axes.plot(numpyArray1, numpyArray2) ->  bu sekilde yazdirmaya kalkarsak hata aliriz cunku 1 den fazla axes bilgisini donduruyor!"
   ]
  },
  {
   "cell_type": "code",
   "execution_count": 27,
   "id": "27c49d28",
   "metadata": {},
   "outputs": [
    {
     "data": {
      "image/png": "[encoded data removed]",
      "text/plain": [
       "<Figure size 432x288 with 2 Axes>"
      ]
     },
     "metadata": {
      "needs_background": "light"
     },
     "output_type": "display_data"
    }
   ],
   "source": [
    "(figur, axes) = plt.subplots(nrows=1, ncols=2)\n",
    "\n",
    "for i in axes:\n",
    "    i.plot(numpyArray1, numpyArray2)\n",
    "    i.set_title('Main Title')\n",
    "plt.tight_layout() # 2 grafik arasindaki mesafeyi acar"
   ]
  },
  {
   "cell_type": "code",
   "execution_count": null,
   "id": "2b0e95a5",
   "metadata": {},
   "outputs": [],
   "source": []
  }
 ],
 "metadata": {
  "kernelspec": {
   "display_name": "Python 3 (ipykernel)",
   "language": "python",
   "name": "python3"
  },
  "language_info": {
   "codemirror_mode": {
    "name": "ipython",
    "version": 3
   },
   "file_extension": ".py",
   "mimetype": "text/x-python",
   "name": "python",
   "nbconvert_exporter": "python",
   "pygments_lexer": "ipython3",
   "version": "3.9.5"
  }
 },
 "nbformat": 4,
 "nbformat_minor": 5
}
