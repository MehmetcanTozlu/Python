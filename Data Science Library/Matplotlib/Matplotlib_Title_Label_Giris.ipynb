{
 "cells": [
  {
   "cell_type": "markdown",
   "id": "639d4225",
   "metadata": {},
   "source": [
    "# Matplotlib Giris"
   ]
  },
  {
   "cell_type": "code",
   "execution_count": 2,
   "id": "b92a1257",
   "metadata": {},
   "outputs": [],
   "source": [
    "import numpy as np\n",
    "import pandas as pd\n",
    "import matplotlib.pyplot as plt"
   ]
  },
  {
   "cell_type": "markdown",
   "id": "67f8d3b5",
   "metadata": {},
   "source": [
    "## Yaptigimiz her degisikligi bir grafikte gormek istersek eger alt satirdaki kodu yazmaliyiz;\n",
    "\n",
    "### Bu kod sadece Jupyter Notebook icindir!\n",
    "\n",
    "Surekli plt.show() kullanmamiza gerek de kalmaz"
   ]
  },
  {
   "cell_type": "code",
   "execution_count": 4,
   "id": "be32c891",
   "metadata": {},
   "outputs": [],
   "source": [
    "%matplotlib inline"
   ]
  },
  {
   "cell_type": "code",
   "execution_count": 22,
   "id": "6607dbbd",
   "metadata": {},
   "outputs": [],
   "source": [
    "ageArr1 = [10, 20, 30, 30, 40, 45, 47, 47, 49, 50, 60, 70]"
   ]
  },
  {
   "cell_type": "code",
   "execution_count": 23,
   "id": "a942cc73",
   "metadata": {},
   "outputs": [],
   "source": [
    "weightArr1 = [45, 70, 75, 70, 80, 80, 70, 80, 90, 90, 100, 90]"
   ]
  },
  {
   "cell_type": "markdown",
   "id": "806869c9",
   "metadata": {},
   "source": [
    "### Array'leri Numpy Array'i olarak kullanmamiz daha islevsel olur!"
   ]
  },
  {
   "cell_type": "code",
   "execution_count": 24,
   "id": "d4bb51b6",
   "metadata": {},
   "outputs": [],
   "source": [
    "numpyAgeArr = np.array(ageArr1)"
   ]
  },
  {
   "cell_type": "code",
   "execution_count": 25,
   "id": "219423df",
   "metadata": {},
   "outputs": [],
   "source": [
    "numpyWeightArr = np.array(weightArr1)"
   ]
  },
  {
   "cell_type": "code",
   "execution_count": 26,
   "id": "45763568",
   "metadata": {},
   "outputs": [
    {
     "data": {
      "text/plain": [
       "array([10, 20, 30, 30, 40, 45, 47, 47, 49, 50, 60, 70])"
      ]
     },
     "execution_count": 26,
     "metadata": {},
     "output_type": "execute_result"
    }
   ],
   "source": [
    "numpyAgeArr"
   ]
  },
  {
   "cell_type": "code",
   "execution_count": 27,
   "id": "fdc2dadd",
   "metadata": {},
   "outputs": [
    {
     "data": {
      "text/plain": [
       "array([ 45,  70,  75,  70,  80,  80,  70,  80,  90,  90, 100,  90])"
      ]
     },
     "execution_count": 27,
     "metadata": {},
     "output_type": "execute_result"
    }
   ],
   "source": [
    "numpyWeightArr"
   ]
  },
  {
   "cell_type": "markdown",
   "id": "c1f206c7",
   "metadata": {},
   "source": [
    "## Bu Array'lerimizi grafige dokmek istersek;"
   ]
  },
  {
   "cell_type": "markdown",
   "id": "a1b8b8d1",
   "metadata": {},
   "source": [
    "plt.plot(x-ekseni, y-ekseni, renk ve sekil) genelde red, green, blue kullanilir"
   ]
  },
  {
   "cell_type": "markdown",
   "id": "29781b7d",
   "metadata": {},
   "source": [
    "#### Yasin Kiloya gore degisimini gosterdik, aksi halde kilonun yasa gore gosterimi mantiksiz olabilir"
   ]
  },
  {
   "cell_type": "code",
   "execution_count": 41,
   "id": "4294273f",
   "metadata": {},
   "outputs": [
    {
     "data": {
      "text/plain": [
       "[<matplotlib.lines.Line2D at 0x1ad48b2ba90>]"
      ]
     },
     "execution_count": 41,
     "metadata": {},
     "output_type": "execute_result"
    },
    {
     "data": {
      "image/png": "[encoded data removed]",
      "text/plain": [
       "<Figure size 432x288 with 1 Axes>"
      ]
     },
     "metadata": {
      "needs_background": "light"
     },
     "output_type": "display_data"
    }
   ],
   "source": [
    "plt.plot(numpyAgeArr, numpyWeightArr, 'r')"
   ]
  },
  {
   "cell_type": "code",
   "execution_count": 42,
   "id": "a6e9e254",
   "metadata": {},
   "outputs": [
    {
     "data": {
      "text/plain": [
       "[<matplotlib.lines.Line2D at 0x1ad48b8dc70>]"
      ]
     },
     "execution_count": 42,
     "metadata": {},
     "output_type": "execute_result"
    },
    {
     "data": {
      "image/png": "[encoded data removed]",
      "text/plain": [
       "<Figure size 432x288 with 1 Axes>"
      ]
     },
     "metadata": {
      "needs_background": "light"
     },
     "output_type": "display_data"
    }
   ],
   "source": [
    "plt.plot(numpyAgeArr, numpyWeightArr, 'g*')"
   ]
  },
  {
   "cell_type": "markdown",
   "id": "98a73d8f",
   "metadata": {},
   "source": [
    "#### Alttaki satiri baska bir ide-editorde yazsaydik plt.show() diyecektik ancak %matplotlib inline satiri sayesinde jupyter notebook'da yazmamiza gerek kalmadi"
   ]
  },
  {
   "cell_type": "markdown",
   "id": "7e187672",
   "metadata": {},
   "source": [
    "x-eksenine ve y-eksenine label'lerini verdik. Orta baslik tanimladik"
   ]
  },
  {
   "cell_type": "code",
   "execution_count": 45,
   "id": "774d6433",
   "metadata": {},
   "outputs": [
    {
     "data": {
      "text/plain": [
       "Text(0.5, 1.0, 'Yas-Kilo Grafigi')"
      ]
     },
     "execution_count": 45,
     "metadata": {},
     "output_type": "execute_result"
    },
    {
     "data": {
      "image/png": "[encoded data removed]",
      "text/plain": [
       "<Figure size 432x288 with 1 Axes>"
      ]
     },
     "metadata": {
      "needs_background": "light"
     },
     "output_type": "display_data"
    }
   ],
   "source": [
    "plt.plot(numpyAgeArr, numpyWeightArr)\n",
    "plt.xlabel('Yas')\n",
    "plt.ylabel('Kilo')\n",
    "plt.title('Yas-Kilo Grafigi')"
   ]
  },
  {
   "cell_type": "code",
   "execution_count": null,
   "id": "9ced66eb",
   "metadata": {},
   "outputs": [],
   "source": []
  }
 ],
 "metadata": {
  "kernelspec": {
   "display_name": "Python 3 (ipykernel)",
   "language": "python",
   "name": "python3"
  },
  "language_info": {
   "codemirror_mode": {
    "name": "ipython",
    "version": 3
   },
   "file_extension": ".py",
   "mimetype": "text/x-python",
   "name": "python",
   "nbconvert_exporter": "python",
   "pygments_lexer": "ipython3",
   "version": "3.9.5"
  }
 },
 "nbformat": 4,
 "nbformat_minor": 5
}
