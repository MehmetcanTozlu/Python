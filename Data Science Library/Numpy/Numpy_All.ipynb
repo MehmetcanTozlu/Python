{
 "cells": [
  {
   "cell_type": "markdown",
   "id": "b08ec8a8",
   "metadata": {},
   "source": [
    "# All\n",
    "\n",
    "Array'in tum elemanlari verilen conditional'i sagliyor mu?"
   ]
  },
  {
   "cell_type": "code",
   "execution_count": 1,
   "id": "5aae57e8",
   "metadata": {},
   "outputs": [],
   "source": [
    "import numpy as np"
   ]
  },
  {
   "cell_type": "code",
   "execution_count": 4,
   "id": "13e3a0a9",
   "metadata": {},
   "outputs": [],
   "source": [
    "arr = np.arange(20).reshape(4, 5)"
   ]
  },
  {
   "cell_type": "code",
   "execution_count": 5,
   "id": "11a10ee4",
   "metadata": {},
   "outputs": [
    {
     "data": {
      "text/plain": [
       "array([[ 0,  1,  2,  3,  4],\n",
       "       [ 5,  6,  7,  8,  9],\n",
       "       [10, 11, 12, 13, 14],\n",
       "       [15, 16, 17, 18, 19]])"
      ]
     },
     "execution_count": 5,
     "metadata": {},
     "output_type": "execute_result"
    }
   ],
   "source": [
    "arr"
   ]
  },
  {
   "cell_type": "markdown",
   "id": "e0d620cc",
   "metadata": {},
   "source": [
    "Kosulumuz;"
   ]
  },
  {
   "cell_type": "code",
   "execution_count": 6,
   "id": "be1b5de1",
   "metadata": {},
   "outputs": [],
   "source": [
    "filter = arr > -1"
   ]
  },
  {
   "cell_type": "code",
   "execution_count": 7,
   "id": "7d087012",
   "metadata": {},
   "outputs": [
    {
     "data": {
      "text/plain": [
       "array([[ True,  True,  True,  True,  True],\n",
       "       [ True,  True,  True,  True,  True],\n",
       "       [ True,  True,  True,  True,  True],\n",
       "       [ True,  True,  True,  True,  True]])"
      ]
     },
     "execution_count": 7,
     "metadata": {},
     "output_type": "execute_result"
    }
   ],
   "source": [
    "filter"
   ]
  },
  {
   "cell_type": "code",
   "execution_count": 8,
   "id": "8b56c9d6",
   "metadata": {},
   "outputs": [
    {
     "data": {
      "text/plain": [
       "array([ 0,  1,  2,  3,  4,  5,  6,  7,  8,  9, 10, 11, 12, 13, 14, 15, 16,\n",
       "       17, 18, 19])"
      ]
     },
     "execution_count": 8,
     "metadata": {},
     "output_type": "execute_result"
    }
   ],
   "source": [
    "arr[filter]"
   ]
  },
  {
   "cell_type": "code",
   "execution_count": 9,
   "id": "a669c821",
   "metadata": {},
   "outputs": [
    {
     "data": {
      "text/plain": [
       "True"
      ]
     },
     "execution_count": 9,
     "metadata": {},
     "output_type": "execute_result"
    }
   ],
   "source": [
    "np.all(filter)"
   ]
  },
  {
   "cell_type": "code",
   "execution_count": 10,
   "id": "129f5b3c",
   "metadata": {},
   "outputs": [
    {
     "data": {
      "text/plain": [
       "False"
      ]
     },
     "execution_count": 10,
     "metadata": {},
     "output_type": "execute_result"
    }
   ],
   "source": [
    "np.all(arr > 5)"
   ]
  },
  {
   "cell_type": "markdown",
   "id": "5d383952",
   "metadata": {},
   "source": [
    "### All Fonksiyonu Array'deki tum kosullari kapsar. 1 tanesi bile false olursa false dondurur."
   ]
  },
  {
   "cell_type": "markdown",
   "id": "c36e95aa",
   "metadata": {},
   "source": [
    "#### Simdi de Axis'ler uzerinde All Fonk. uygulayalim"
   ]
  },
  {
   "cell_type": "code",
   "execution_count": 25,
   "id": "21ddcef5",
   "metadata": {},
   "outputs": [],
   "source": [
    "filter = arr > 3"
   ]
  },
  {
   "cell_type": "code",
   "execution_count": 26,
   "id": "de21e112",
   "metadata": {},
   "outputs": [
    {
     "data": {
      "text/plain": [
       "array([[False, False, False, False,  True],\n",
       "       [ True,  True,  True,  True,  True],\n",
       "       [ True,  True,  True,  True,  True],\n",
       "       [ True,  True,  True,  True,  True]])"
      ]
     },
     "execution_count": 26,
     "metadata": {},
     "output_type": "execute_result"
    }
   ],
   "source": [
    "filter"
   ]
  },
  {
   "cell_type": "markdown",
   "id": "0f87985f",
   "metadata": {},
   "source": [
    "Vertical olarak;"
   ]
  },
  {
   "cell_type": "code",
   "execution_count": 27,
   "id": "743294d8",
   "metadata": {},
   "outputs": [
    {
     "data": {
      "text/plain": [
       "array([False, False, False, False,  True])"
      ]
     },
     "execution_count": 27,
     "metadata": {},
     "output_type": "execute_result"
    }
   ],
   "source": [
    "np.all(filter, axis=0)"
   ]
  },
  {
   "cell_type": "markdown",
   "id": "2c2d27d0",
   "metadata": {},
   "source": [
    "Horizontal olarak;"
   ]
  },
  {
   "cell_type": "code",
   "execution_count": 28,
   "id": "c7ec47d6",
   "metadata": {},
   "outputs": [
    {
     "data": {
      "text/plain": [
       "array([False,  True,  True,  True])"
      ]
     },
     "execution_count": 28,
     "metadata": {},
     "output_type": "execute_result"
    }
   ],
   "source": [
    "np.all(filter, axis=1)"
   ]
  },
  {
   "cell_type": "code",
   "execution_count": null,
   "id": "790573be",
   "metadata": {},
   "outputs": [],
   "source": []
  }
 ],
 "metadata": {
  "kernelspec": {
   "display_name": "Python 3 (ipykernel)",
   "language": "python",
   "name": "python3"
  },
  "language_info": {
   "codemirror_mode": {
    "name": "ipython",
    "version": 3
   },
   "file_extension": ".py",
   "mimetype": "text/x-python",
   "name": "python",
   "nbconvert_exporter": "python",
   "pygments_lexer": "ipython3",
   "version": "3.9.5"
  }
 },
 "nbformat": 4,
 "nbformat_minor": 5
}
