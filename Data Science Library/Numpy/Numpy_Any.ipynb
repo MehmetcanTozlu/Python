{
 "cells": [
  {
   "cell_type": "markdown",
   "id": "b52156c5",
   "metadata": {},
   "source": [
    "# Any\n",
    "\n",
    "\n",
    "Conditional expression'u Arraydeki her bir eleman icin uygular.\n",
    "\n",
    "## All -> Hepsi\n",
    "## Any -> Her Biri"
   ]
  },
  {
   "cell_type": "code",
   "execution_count": 1,
   "id": "d32d26f6",
   "metadata": {},
   "outputs": [],
   "source": [
    "import numpy as np"
   ]
  },
  {
   "cell_type": "code",
   "execution_count": 2,
   "id": "011cdab3",
   "metadata": {},
   "outputs": [],
   "source": [
    "arr = np.arange(20).reshape(4,5)"
   ]
  },
  {
   "cell_type": "code",
   "execution_count": 3,
   "id": "d141906e",
   "metadata": {},
   "outputs": [
    {
     "data": {
      "text/plain": [
       "array([[ 0,  1,  2,  3,  4],\n",
       "       [ 5,  6,  7,  8,  9],\n",
       "       [10, 11, 12, 13, 14],\n",
       "       [15, 16, 17, 18, 19]])"
      ]
     },
     "execution_count": 3,
     "metadata": {},
     "output_type": "execute_result"
    }
   ],
   "source": [
    "arr"
   ]
  },
  {
   "cell_type": "code",
   "execution_count": 8,
   "id": "cdcba3ad",
   "metadata": {},
   "outputs": [],
   "source": [
    "filter = arr > 16"
   ]
  },
  {
   "cell_type": "code",
   "execution_count": 9,
   "id": "dbf4f6f4",
   "metadata": {},
   "outputs": [
    {
     "data": {
      "text/plain": [
       "array([[False, False, False, False, False],\n",
       "       [False, False, False, False, False],\n",
       "       [False, False, False, False, False],\n",
       "       [False, False,  True,  True,  True]])"
      ]
     },
     "execution_count": 9,
     "metadata": {},
     "output_type": "execute_result"
    }
   ],
   "source": [
    "filter"
   ]
  },
  {
   "cell_type": "code",
   "execution_count": 10,
   "id": "f9bf6aac",
   "metadata": {},
   "outputs": [
    {
     "data": {
      "text/plain": [
       "True"
      ]
     },
     "execution_count": 10,
     "metadata": {},
     "output_type": "execute_result"
    }
   ],
   "source": [
    "np.any(filter)"
   ]
  },
  {
   "cell_type": "markdown",
   "id": "7e69cbd3",
   "metadata": {},
   "source": [
    "Bulundugu Axis'de sadece 1 tanesinin True olmasi sonucu True yapar!"
   ]
  },
  {
   "cell_type": "code",
   "execution_count": 15,
   "id": "d97847c7",
   "metadata": {},
   "outputs": [
    {
     "data": {
      "text/plain": [
       "array([False, False,  True,  True,  True])"
      ]
     },
     "execution_count": 15,
     "metadata": {},
     "output_type": "execute_result"
    }
   ],
   "source": [
    "np.any(filter, axis=0) # Vertical"
   ]
  },
  {
   "cell_type": "code",
   "execution_count": 16,
   "id": "14449d04",
   "metadata": {},
   "outputs": [
    {
     "data": {
      "text/plain": [
       "array([False, False, False,  True])"
      ]
     },
     "execution_count": 16,
     "metadata": {},
     "output_type": "execute_result"
    }
   ],
   "source": [
    "np.any(filter, axis=1) # Horizontal"
   ]
  },
  {
   "cell_type": "code",
   "execution_count": null,
   "id": "67496db9",
   "metadata": {},
   "outputs": [],
   "source": []
  }
 ],
 "metadata": {
  "kernelspec": {
   "display_name": "Python 3 (ipykernel)",
   "language": "python",
   "name": "python3"
  },
  "language_info": {
   "codemirror_mode": {
    "name": "ipython",
    "version": 3
   },
   "file_extension": ".py",
   "mimetype": "text/x-python",
   "name": "python",
   "nbconvert_exporter": "python",
   "pygments_lexer": "ipython3",
   "version": "3.9.5"
  }
 },
 "nbformat": 4,
 "nbformat_minor": 5
}
