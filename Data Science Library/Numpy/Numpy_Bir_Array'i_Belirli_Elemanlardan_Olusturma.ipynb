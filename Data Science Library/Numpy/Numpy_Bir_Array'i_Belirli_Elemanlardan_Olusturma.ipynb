{
 "cells": [
  {
   "cell_type": "markdown",
   "id": "2b83fa9d",
   "metadata": {},
   "source": [
    "# Bir Diziyi Tek Tip Elemanlardan Olusturma"
   ]
  },
  {
   "cell_type": "code",
   "execution_count": 40,
   "id": "a104f95d",
   "metadata": {},
   "outputs": [],
   "source": [
    "import numpy as np"
   ]
  },
  {
   "cell_type": "markdown",
   "id": "381dfd02",
   "metadata": {},
   "source": [
    "4*5'lik bir matrisin elemanlarini 5 olarak verdik"
   ]
  },
  {
   "cell_type": "code",
   "execution_count": 41,
   "id": "9e0d29f1",
   "metadata": {},
   "outputs": [],
   "source": [
    "arr = np.full((4, 5), 5)"
   ]
  },
  {
   "cell_type": "code",
   "execution_count": 42,
   "id": "24912adf",
   "metadata": {},
   "outputs": [
    {
     "data": {
      "text/plain": [
       "array([[5, 5, 5, 5, 5],\n",
       "       [5, 5, 5, 5, 5],\n",
       "       [5, 5, 5, 5, 5],\n",
       "       [5, 5, 5, 5, 5]])"
      ]
     },
     "execution_count": 42,
     "metadata": {},
     "output_type": "execute_result"
    }
   ],
   "source": [
    "arr"
   ]
  },
  {
   "cell_type": "code",
   "execution_count": 43,
   "id": "8c7e30e6",
   "metadata": {},
   "outputs": [],
   "source": [
    "arr2 = np.full((5, 5), 5.7, dtype='str')"
   ]
  },
  {
   "cell_type": "code",
   "execution_count": 44,
   "id": "c686368b",
   "metadata": {},
   "outputs": [
    {
     "data": {
      "text/plain": [
       "array([['5', '5', '5', '5', '5'],\n",
       "       ['5', '5', '5', '5', '5'],\n",
       "       ['5', '5', '5', '5', '5'],\n",
       "       ['5', '5', '5', '5', '5'],\n",
       "       ['5', '5', '5', '5', '5']], dtype='<U1')"
      ]
     },
     "execution_count": 44,
     "metadata": {},
     "output_type": "execute_result"
    }
   ],
   "source": [
    "arr2"
   ]
  },
  {
   "cell_type": "markdown",
   "id": "51837233",
   "metadata": {},
   "source": [
    "Satiri 1 olarak alir. Sutunu 2. Degerlerine de 3 yazar."
   ]
  },
  {
   "cell_type": "code",
   "execution_count": 45,
   "id": "1eb00212",
   "metadata": {},
   "outputs": [],
   "source": [
    "a = np.full(2,3)"
   ]
  },
  {
   "cell_type": "code",
   "execution_count": 46,
   "id": "a24903bb",
   "metadata": {},
   "outputs": [
    {
     "data": {
      "text/plain": [
       "array([3, 3])"
      ]
     },
     "execution_count": 46,
     "metadata": {},
     "output_type": "execute_result"
    }
   ],
   "source": [
    "a"
   ]
  },
  {
   "cell_type": "code",
   "execution_count": 49,
   "id": "17af3ef1",
   "metadata": {},
   "outputs": [
    {
     "data": {
      "text/plain": [
       "array([ 1.        ,  1.59183673,  2.18367347,  2.7755102 ,  3.36734694,\n",
       "        3.95918367,  4.55102041,  5.14285714,  5.73469388,  6.32653061,\n",
       "        6.91836735,  7.51020408,  8.10204082,  8.69387755,  9.28571429,\n",
       "        9.87755102, 10.46938776, 11.06122449, 11.65306122, 12.24489796,\n",
       "       12.83673469, 13.42857143, 14.02040816, 14.6122449 , 15.20408163,\n",
       "       15.79591837, 16.3877551 , 16.97959184, 17.57142857, 18.16326531,\n",
       "       18.75510204, 19.34693878, 19.93877551, 20.53061224, 21.12244898,\n",
       "       21.71428571, 22.30612245, 22.89795918, 23.48979592, 24.08163265,\n",
       "       24.67346939, 25.26530612, 25.85714286, 26.44897959, 27.04081633,\n",
       "       27.63265306, 28.2244898 , 28.81632653, 29.40816327, 30.        ])"
      ]
     },
     "execution_count": 49,
     "metadata": {},
     "output_type": "execute_result"
    }
   ],
   "source": [
    "np.linspace(1, 30)"
   ]
  },
  {
   "cell_type": "code",
   "execution_count": null,
   "id": "f5b56d67",
   "metadata": {},
   "outputs": [],
   "source": []
  }
 ],
 "metadata": {
  "kernelspec": {
   "display_name": "Python 3 (ipykernel)",
   "language": "python",
   "name": "python3"
  },
  "language_info": {
   "codemirror_mode": {
    "name": "ipython",
    "version": 3
   },
   "file_extension": ".py",
   "mimetype": "text/x-python",
   "name": "python",
   "nbconvert_exporter": "python",
   "pygments_lexer": "ipython3",
   "version": "3.9.5"
  }
 },
 "nbformat": 4,
 "nbformat_minor": 5
}
