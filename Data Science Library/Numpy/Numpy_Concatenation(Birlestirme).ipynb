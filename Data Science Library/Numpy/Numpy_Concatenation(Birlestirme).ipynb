{
 "cells": [
  {
   "cell_type": "markdown",
   "id": "2b461e6e",
   "metadata": {},
   "source": [
    "# 2 Numpy dizisini birlestirme"
   ]
  },
  {
   "cell_type": "markdown",
   "id": "5430f6f6",
   "metadata": {},
   "source": [
    "2 veya daha fazla array'i birlestirebiliriz. np.concatenate([arr1, arr2, arr3...])\n",
    "\n",
    "Birlestirilecek array'lerin Numpy Array'i olma zorunlulugu da yoktur."
   ]
  },
  {
   "cell_type": "code",
   "execution_count": 1,
   "id": "ee251e33",
   "metadata": {},
   "outputs": [],
   "source": [
    "import numpy as np"
   ]
  },
  {
   "cell_type": "code",
   "execution_count": 2,
   "id": "c62363ae",
   "metadata": {},
   "outputs": [],
   "source": [
    "arr1 = np.array([1, 2, 3, 4, 5])"
   ]
  },
  {
   "cell_type": "code",
   "execution_count": 3,
   "id": "743821e0",
   "metadata": {},
   "outputs": [],
   "source": [
    "arr2 = np.array([6, 7, 8, 9, 10])"
   ]
  },
  {
   "cell_type": "code",
   "execution_count": 4,
   "id": "454d074e",
   "metadata": {},
   "outputs": [
    {
     "data": {
      "text/plain": [
       "array([1, 2, 3, 4, 5])"
      ]
     },
     "execution_count": 4,
     "metadata": {},
     "output_type": "execute_result"
    }
   ],
   "source": [
    "arr1"
   ]
  },
  {
   "cell_type": "code",
   "execution_count": 5,
   "id": "2800837c",
   "metadata": {},
   "outputs": [
    {
     "data": {
      "text/plain": [
       "array([ 6,  7,  8,  9, 10])"
      ]
     },
     "execution_count": 5,
     "metadata": {},
     "output_type": "execute_result"
    }
   ],
   "source": [
    "arr2"
   ]
  },
  {
   "cell_type": "markdown",
   "id": "b63d16bb",
   "metadata": {},
   "source": [
    "concatenation ile 2 array'i birlestirelim"
   ]
  },
  {
   "cell_type": "code",
   "execution_count": 6,
   "id": "d67310ea",
   "metadata": {},
   "outputs": [
    {
     "data": {
      "text/plain": [
       "array([ 1,  2,  3,  4,  5,  6,  7,  8,  9, 10])"
      ]
     },
     "execution_count": 6,
     "metadata": {},
     "output_type": "execute_result"
    }
   ],
   "source": [
    "np.concatenate([arr1, arr2])"
   ]
  },
  {
   "cell_type": "code",
   "execution_count": 7,
   "id": "4d28710d",
   "metadata": {},
   "outputs": [],
   "source": [
    "liste = [11, 12, 13]"
   ]
  },
  {
   "cell_type": "markdown",
   "id": "49cb6578",
   "metadata": {},
   "source": [
    "#### 2 tane Numpy Array'i 1 tane normal listeyi birlestirdik"
   ]
  },
  {
   "cell_type": "code",
   "execution_count": 8,
   "id": "a4d79788",
   "metadata": {},
   "outputs": [
    {
     "data": {
      "text/plain": [
       "array([ 1,  2,  3,  4,  5,  6,  7,  8,  9, 10, 11, 12, 13])"
      ]
     },
     "execution_count": 8,
     "metadata": {},
     "output_type": "execute_result"
    }
   ],
   "source": [
    "np.concatenate([arr1, arr2, liste])"
   ]
  },
  {
   "cell_type": "markdown",
   "id": "4e7bbd4f",
   "metadata": {},
   "source": [
    "#### Iclerinden birisi float ise;"
   ]
  },
  {
   "cell_type": "code",
   "execution_count": 9,
   "id": "81e9992f",
   "metadata": {},
   "outputs": [],
   "source": [
    "l = [11, 12, 13, 14.5]"
   ]
  },
  {
   "cell_type": "code",
   "execution_count": 10,
   "id": "1161c2fc",
   "metadata": {},
   "outputs": [
    {
     "data": {
      "text/plain": [
       "array([ 1. ,  2. ,  3. ,  4. ,  5. ,  6. ,  7. ,  8. ,  9. , 10. , 11. ,\n",
       "       12. , 13. , 14.5])"
      ]
     },
     "execution_count": 10,
     "metadata": {},
     "output_type": "execute_result"
    }
   ],
   "source": [
    "np.concatenate([arr1, arr2, l])"
   ]
  },
  {
   "cell_type": "markdown",
   "id": "1a7c232f",
   "metadata": {},
   "source": [
    "Goruldugu gibi hepsini #float turune cast etmis oldu"
   ]
  },
  {
   "cell_type": "markdown",
   "id": "07482671",
   "metadata": {},
   "source": [
    "#### Iclerinden birisi string ise;"
   ]
  },
  {
   "cell_type": "code",
   "execution_count": 11,
   "id": "68651a6e",
   "metadata": {},
   "outputs": [],
   "source": [
    "l = [11, 12, '13', 14.4]"
   ]
  },
  {
   "cell_type": "code",
   "execution_count": 12,
   "id": "b886f996",
   "metadata": {},
   "outputs": [
    {
     "data": {
      "text/plain": [
       "array(['1', '2', '3', '4', '5', '6', '7', '8', '9', '10', '11', '12',\n",
       "       '13', '14.4'], dtype='<U32')"
      ]
     },
     "execution_count": 12,
     "metadata": {},
     "output_type": "execute_result"
    }
   ],
   "source": [
    "np.concatenate([arr1, arr2, l])"
   ]
  },
  {
   "cell_type": "markdown",
   "id": "19a330b7",
   "metadata": {},
   "source": [
    "Goruldugu gibi hepsini #string turune cast etti"
   ]
  },
  {
   "cell_type": "markdown",
   "id": "7e5ecc18",
   "metadata": {},
   "source": [
    "### Tuple verirsek?"
   ]
  },
  {
   "cell_type": "code",
   "execution_count": 13,
   "id": "3bab8505",
   "metadata": {},
   "outputs": [],
   "source": [
    "l = (11, 12, 13, 14, 15)"
   ]
  },
  {
   "cell_type": "code",
   "execution_count": 14,
   "id": "a85bb199",
   "metadata": {},
   "outputs": [
    {
     "data": {
      "text/plain": [
       "array([ 1,  2,  3,  4,  5,  6,  7,  8,  9, 10, 11, 12, 13, 14, 15])"
      ]
     },
     "execution_count": 14,
     "metadata": {},
     "output_type": "execute_result"
    }
   ],
   "source": [
    "np.concatenate([arr1, arr2, l])"
   ]
  },
  {
   "cell_type": "markdown",
   "id": "e409f42e",
   "metadata": {},
   "source": [
    "Goruldugu gibi hepsini ortak bir listede birlestirdi."
   ]
  },
  {
   "cell_type": "code",
   "execution_count": null,
   "id": "1e267edf",
   "metadata": {},
   "outputs": [],
   "source": []
  }
 ],
 "metadata": {
  "kernelspec": {
   "display_name": "Python 3 (ipykernel)",
   "language": "python",
   "name": "python3"
  },
  "language_info": {
   "codemirror_mode": {
    "name": "ipython",
    "version": 3
   },
   "file_extension": ".py",
   "mimetype": "text/x-python",
   "name": "python",
   "nbconvert_exporter": "python",
   "pygments_lexer": "ipython3",
   "version": "3.9.5"
  }
 },
 "nbformat": 4,
 "nbformat_minor": 5
}
