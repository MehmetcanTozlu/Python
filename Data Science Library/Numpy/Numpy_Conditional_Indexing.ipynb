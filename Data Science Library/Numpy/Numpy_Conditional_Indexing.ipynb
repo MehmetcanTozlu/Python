{
 "cells": [
  {
   "cell_type": "markdown",
   "id": "38d46f20",
   "metadata": {},
   "source": [
    "# Conditional Indexing - Filter"
   ]
  },
  {
   "cell_type": "code",
   "execution_count": 4,
   "id": "735b5f30",
   "metadata": {},
   "outputs": [],
   "source": [
    "import numpy as np"
   ]
  },
  {
   "cell_type": "code",
   "execution_count": 7,
   "id": "566f8e94",
   "metadata": {},
   "outputs": [],
   "source": [
    "arr = np.arange(1, 10)"
   ]
  },
  {
   "cell_type": "code",
   "execution_count": 8,
   "id": "bfa85fac",
   "metadata": {},
   "outputs": [
    {
     "data": {
      "text/plain": [
       "array([1, 2, 3, 4, 5, 6, 7, 8, 9])"
      ]
     },
     "execution_count": 8,
     "metadata": {},
     "output_type": "execute_result"
    }
   ],
   "source": [
    "arr"
   ]
  },
  {
   "cell_type": "markdown",
   "id": "b2ced154",
   "metadata": {},
   "source": [
    "Boyle bir kullanim geriye Boolean bir Array dondurur."
   ]
  },
  {
   "cell_type": "code",
   "execution_count": 12,
   "id": "482c88b3",
   "metadata": {},
   "outputs": [
    {
     "data": {
      "text/plain": [
       "array([ True,  True,  True,  True, False, False, False, False, False])"
      ]
     },
     "execution_count": 12,
     "metadata": {},
     "output_type": "execute_result"
    }
   ],
   "source": [
    "arr < 5"
   ]
  },
  {
   "cell_type": "markdown",
   "id": "b6f63d88",
   "metadata": {},
   "source": [
    "Boyle bir kullanimda ise Array icinde 5'den kucuk olan degerleri getirir"
   ]
  },
  {
   "cell_type": "code",
   "execution_count": 14,
   "id": "9b5e41f3",
   "metadata": {},
   "outputs": [
    {
     "data": {
      "text/plain": [
       "array([1, 2, 3, 4])"
      ]
     },
     "execution_count": 14,
     "metadata": {},
     "output_type": "execute_result"
    }
   ],
   "source": [
    "arr[arr < 5]"
   ]
  },
  {
   "cell_type": "markdown",
   "id": "b577f412",
   "metadata": {},
   "source": [
    "### Condition expression'u bir value'ye esitleyerekde yapabiliriz;"
   ]
  },
  {
   "cell_type": "code",
   "execution_count": 15,
   "id": "3bd2e085",
   "metadata": {},
   "outputs": [],
   "source": [
    "filter = arr < 5"
   ]
  },
  {
   "cell_type": "code",
   "execution_count": 16,
   "id": "afb72124",
   "metadata": {},
   "outputs": [
    {
     "data": {
      "text/plain": [
       "array([ True,  True,  True,  True, False, False, False, False, False])"
      ]
     },
     "execution_count": 16,
     "metadata": {},
     "output_type": "execute_result"
    }
   ],
   "source": [
    "filter"
   ]
  },
  {
   "cell_type": "code",
   "execution_count": 17,
   "id": "cc061442",
   "metadata": {},
   "outputs": [
    {
     "data": {
      "text/plain": [
       "array([1, 2, 3, 4])"
      ]
     },
     "execution_count": 17,
     "metadata": {},
     "output_type": "execute_result"
    }
   ],
   "source": [
    "arr[filter]"
   ]
  },
  {
   "cell_type": "markdown",
   "id": "828221c1",
   "metadata": {},
   "source": [
    "### Simdide 2 farkli Array'in ayni olan degerlerini filter ile bulalim..."
   ]
  },
  {
   "cell_type": "code",
   "execution_count": 18,
   "id": "0d7fba54",
   "metadata": {},
   "outputs": [
    {
     "data": {
      "text/plain": [
       "array([1, 2, 3, 4, 5, 6, 7, 8, 9])"
      ]
     },
     "execution_count": 18,
     "metadata": {},
     "output_type": "execute_result"
    }
   ],
   "source": [
    "arr"
   ]
  },
  {
   "cell_type": "code",
   "execution_count": 34,
   "id": "aa5f013c",
   "metadata": {},
   "outputs": [],
   "source": [
    "b = np.array([1, 2, 4, 6, 7, 9, 11, 13, 9])"
   ]
  },
  {
   "cell_type": "code",
   "execution_count": 35,
   "id": "97ed08c2",
   "metadata": {},
   "outputs": [
    {
     "data": {
      "text/plain": [
       "array([ 1,  2,  4,  6,  7,  9, 11, 13,  9])"
      ]
     },
     "execution_count": 35,
     "metadata": {},
     "output_type": "execute_result"
    }
   ],
   "source": [
    "b"
   ]
  },
  {
   "cell_type": "markdown",
   "id": "12d5a3ec",
   "metadata": {},
   "source": [
    "Boyle bir Conditional ifadesi Bool olarak geri doner"
   ]
  },
  {
   "cell_type": "code",
   "execution_count": 36,
   "id": "9bf708bf",
   "metadata": {},
   "outputs": [
    {
     "data": {
      "text/plain": [
       "array([ True,  True, False, False, False, False, False, False,  True])"
      ]
     },
     "execution_count": 36,
     "metadata": {},
     "output_type": "execute_result"
    }
   ],
   "source": [
    "arr == b"
   ]
  },
  {
   "cell_type": "code",
   "execution_count": 37,
   "id": "92f1035d",
   "metadata": {},
   "outputs": [
    {
     "data": {
      "text/plain": [
       "array([1, 2, 9])"
      ]
     },
     "execution_count": 37,
     "metadata": {},
     "output_type": "execute_result"
    }
   ],
   "source": [
    "arr[arr == b]"
   ]
  },
  {
   "cell_type": "code",
   "execution_count": 38,
   "id": "323fa9f8",
   "metadata": {},
   "outputs": [
    {
     "data": {
      "text/plain": [
       "array([1, 2, 9])"
      ]
     },
     "execution_count": 38,
     "metadata": {},
     "output_type": "execute_result"
    }
   ],
   "source": [
    "b[b == arr]"
   ]
  },
  {
   "cell_type": "markdown",
   "id": "2a4ddc87",
   "metadata": {},
   "source": [
    "Goruldugu gibi ayni index'deki ayni degerleri bize getirdi."
   ]
  },
  {
   "cell_type": "markdown",
   "id": "16593324",
   "metadata": {},
   "source": [
    "## Normal Python'da kullandigimiz and, or kavramlari Numpy'da kullanamiyoruz. and = &   ,   or = |    operatorleri kullanilir."
   ]
  },
  {
   "cell_type": "markdown",
   "id": "bd31ab75",
   "metadata": {},
   "source": [
    "Bu kod satiri hata dondurur."
   ]
  },
  {
   "cell_type": "code",
   "execution_count": 40,
   "id": "39c1adc9",
   "metadata": {
    "collapsed": true
   },
   "outputs": [
    {
     "ename": "ValueError",
     "evalue": "The truth value of an array with more than one element is ambiguous. Use a.any() or a.all()",
     "output_type": "error",
     "traceback": [
      "\u001b[1;31m---------------------------------------------------------------------------\u001b[0m",
      "\u001b[1;31mValueError\u001b[0m                                Traceback (most recent call last)",
      "Input \u001b[1;32mIn [40]\u001b[0m, in \u001b[0;36m<cell line: 1>\u001b[1;34m()\u001b[0m\n\u001b[1;32m----> 1\u001b[0m (arr \u001b[38;5;241m<\u001b[39m \u001b[38;5;241m3\u001b[39m) \u001b[38;5;129;01mor\u001b[39;00m (arr \u001b[38;5;241m>\u001b[39m \u001b[38;5;241m5\u001b[39m)\n",
      "\u001b[1;31mValueError\u001b[0m: The truth value of an array with more than one element is ambiguous. Use a.any() or a.all()"
     ]
    }
   ],
   "source": [
    "(arr < 3) or (arr > 5)"
   ]
  },
  {
   "cell_type": "markdown",
   "id": "6edb973c",
   "metadata": {},
   "source": [
    "Bool Array'i dondurur."
   ]
  },
  {
   "cell_type": "code",
   "execution_count": 41,
   "id": "0d628c4e",
   "metadata": {},
   "outputs": [
    {
     "data": {
      "text/plain": [
       "array([ True,  True, False, False, False,  True,  True,  True,  True])"
      ]
     },
     "execution_count": 41,
     "metadata": {},
     "output_type": "execute_result"
    }
   ],
   "source": [
    "(arr < 3) | (arr > 5)"
   ]
  },
  {
   "cell_type": "markdown",
   "id": "4b040cec",
   "metadata": {},
   "source": [
    "Normal degerler iceren Array dondurur."
   ]
  },
  {
   "cell_type": "code",
   "execution_count": 44,
   "id": "a5a014b2",
   "metadata": {},
   "outputs": [
    {
     "data": {
      "text/plain": [
       "array([1, 2, 6, 7, 8, 9])"
      ]
     },
     "execution_count": 44,
     "metadata": {},
     "output_type": "execute_result"
    }
   ],
   "source": [
    "arr[(arr < 3) | (arr > 5)]"
   ]
  },
  {
   "cell_type": "markdown",
   "id": "1bdc4a1f",
   "metadata": {},
   "source": [
    "### Conditional Expression'u bir value'ye esitleyerekde filter yapabiliriz."
   ]
  },
  {
   "cell_type": "code",
   "execution_count": 45,
   "id": "3f44a2fc",
   "metadata": {},
   "outputs": [],
   "source": [
    "filter = (arr < 3) | (arr > 5)"
   ]
  },
  {
   "cell_type": "code",
   "execution_count": 46,
   "id": "8d9faf87",
   "metadata": {},
   "outputs": [
    {
     "data": {
      "text/plain": [
       "array([ True,  True, False, False, False,  True,  True,  True,  True])"
      ]
     },
     "execution_count": 46,
     "metadata": {},
     "output_type": "execute_result"
    }
   ],
   "source": [
    "filter"
   ]
  },
  {
   "cell_type": "code",
   "execution_count": 47,
   "id": "4f97092c",
   "metadata": {},
   "outputs": [
    {
     "data": {
      "text/plain": [
       "array([1, 2, 6, 7, 8, 9])"
      ]
     },
     "execution_count": 47,
     "metadata": {},
     "output_type": "execute_result"
    }
   ],
   "source": [
    "arr[filter]"
   ]
  },
  {
   "cell_type": "markdown",
   "id": "e77eb11d",
   "metadata": {},
   "source": [
    "### Eger Conditional Expression'unun Degilini alacaksak   ~ (Tilda) isaretini getiriyoruz..."
   ]
  },
  {
   "cell_type": "markdown",
   "id": "2e8c3cec",
   "metadata": {},
   "source": [
    "3'den buyuk veya esit, 5'den kucuk veya esit degerleri getirir"
   ]
  },
  {
   "cell_type": "code",
   "execution_count": 49,
   "id": "e3f92387",
   "metadata": {},
   "outputs": [
    {
     "data": {
      "text/plain": [
       "array([3, 4, 5])"
      ]
     },
     "execution_count": 49,
     "metadata": {},
     "output_type": "execute_result"
    }
   ],
   "source": [
    "arr[~filter]"
   ]
  },
  {
   "cell_type": "code",
   "execution_count": null,
   "id": "7aac96d8",
   "metadata": {},
   "outputs": [],
   "source": []
  }
 ],
 "metadata": {
  "kernelspec": {
   "display_name": "Python 3 (ipykernel)",
   "language": "python",
   "name": "python3"
  },
  "language_info": {
   "codemirror_mode": {
    "name": "ipython",
    "version": 3
   },
   "file_extension": ".py",
   "mimetype": "text/x-python",
   "name": "python",
   "nbconvert_exporter": "python",
   "pygments_lexer": "ipython3",
   "version": "3.9.5"
  }
 },
 "nbformat": 4,
 "nbformat_minor": 5
}
