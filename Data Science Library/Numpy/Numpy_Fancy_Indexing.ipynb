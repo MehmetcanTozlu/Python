{
 "cells": [
  {
   "cell_type": "markdown",
   "id": "9b433fea",
   "metadata": {},
   "source": [
    "# Fancy(Suslu) Indexing\n",
    "\n",
    "### Fancy Indexing ile bir kac tane belirli index'deki elemanlari getir demis olacagiz."
   ]
  },
  {
   "cell_type": "code",
   "execution_count": 1,
   "id": "553f725f",
   "metadata": {},
   "outputs": [],
   "source": [
    "import numpy as np"
   ]
  },
  {
   "cell_type": "code",
   "execution_count": 4,
   "id": "b9d47f44",
   "metadata": {},
   "outputs": [],
   "source": [
    "arr = np.arange(1, 15)"
   ]
  },
  {
   "cell_type": "code",
   "execution_count": 5,
   "id": "d893e577",
   "metadata": {},
   "outputs": [
    {
     "data": {
      "text/plain": [
       "array([ 1,  2,  3,  4,  5,  6,  7,  8,  9, 10, 11, 12, 13, 14])"
      ]
     },
     "execution_count": 5,
     "metadata": {},
     "output_type": "execute_result"
    }
   ],
   "source": [
    "arr"
   ]
  },
  {
   "cell_type": "markdown",
   "id": "b6161de0",
   "metadata": {},
   "source": [
    "#### Bulmak istedigimiz indexleri bir liste atadik"
   ]
  },
  {
   "cell_type": "code",
   "execution_count": 8,
   "id": "c34fd164",
   "metadata": {},
   "outputs": [],
   "source": [
    "indexing = [1, 3, 2, 7, 5]"
   ]
  },
  {
   "cell_type": "code",
   "execution_count": 9,
   "id": "380bfdcd",
   "metadata": {},
   "outputs": [
    {
     "data": {
      "text/plain": [
       "array([2, 4, 3, 8, 6])"
      ]
     },
     "execution_count": 9,
     "metadata": {},
     "output_type": "execute_result"
    }
   ],
   "source": [
    "arr[indexing]"
   ]
  },
  {
   "cell_type": "markdown",
   "id": "025e7d2e",
   "metadata": {},
   "source": [
    "## Multi Dimensional Arraylerde de gecerli bu kural"
   ]
  },
  {
   "cell_type": "code",
   "execution_count": 10,
   "id": "c0b1c556",
   "metadata": {},
   "outputs": [],
   "source": [
    "arr = np.arange(1, 13).reshape(3, 4)"
   ]
  },
  {
   "cell_type": "code",
   "execution_count": 11,
   "id": "4b4841db",
   "metadata": {},
   "outputs": [
    {
     "data": {
      "text/plain": [
       "array([[ 1,  2,  3,  4],\n",
       "       [ 5,  6,  7,  8],\n",
       "       [ 9, 10, 11, 12]])"
      ]
     },
     "execution_count": 11,
     "metadata": {},
     "output_type": "execute_result"
    }
   ],
   "source": [
    "arr"
   ]
  },
  {
   "cell_type": "markdown",
   "id": "cc5eebff",
   "metadata": {},
   "source": [
    "arr[buradaki deger rowda indexing yapar -> arr[0:2] gibi    ,     buradaki deger columnda indexing yapar -> arr[, 2] gibi ]"
   ]
  },
  {
   "cell_type": "markdown",
   "id": "acb31630",
   "metadata": {},
   "source": [
    "Row'da 0'dan 3.index'e kadar 2. Column'daki degerleri getir"
   ]
  },
  {
   "cell_type": "code",
   "execution_count": 16,
   "id": "dde2c063",
   "metadata": {},
   "outputs": [
    {
     "data": {
      "text/plain": [
       "array([ 3,  7, 11])"
      ]
     },
     "execution_count": 16,
     "metadata": {},
     "output_type": "execute_result"
    }
   ],
   "source": [
    "arr[0:3, 2]"
   ]
  },
  {
   "cell_type": "code",
   "execution_count": 17,
   "id": "86b09ad2",
   "metadata": {},
   "outputs": [
    {
     "data": {
      "text/plain": [
       "array([[2, 3],\n",
       "       [6, 7]])"
      ]
     },
     "execution_count": 17,
     "metadata": {},
     "output_type": "execute_result"
    }
   ],
   "source": [
    "arr[0:2, 1:3]"
   ]
  },
  {
   "cell_type": "markdown",
   "id": "8e706772",
   "metadata": {},
   "source": [
    "Tum Row'lari tara, 0. ve 2. indexteki Column'lari getir."
   ]
  },
  {
   "cell_type": "code",
   "execution_count": 22,
   "id": "f0c3bec8",
   "metadata": {},
   "outputs": [
    {
     "data": {
      "text/plain": [
       "array([[ 1,  3],\n",
       "       [ 5,  7],\n",
       "       [ 9, 11]])"
      ]
     },
     "execution_count": 22,
     "metadata": {},
     "output_type": "execute_result"
    }
   ],
   "source": [
    "arr[:, [0,2]]"
   ]
  },
  {
   "cell_type": "code",
   "execution_count": 23,
   "id": "4d454528",
   "metadata": {},
   "outputs": [],
   "source": [
    "array = np.arange(20).reshape(4,5)"
   ]
  },
  {
   "cell_type": "code",
   "execution_count": 24,
   "id": "2cf13945",
   "metadata": {},
   "outputs": [
    {
     "data": {
      "text/plain": [
       "array([[ 0,  1,  2,  3,  4],\n",
       "       [ 5,  6,  7,  8,  9],\n",
       "       [10, 11, 12, 13, 14],\n",
       "       [15, 16, 17, 18, 19]])"
      ]
     },
     "execution_count": 24,
     "metadata": {},
     "output_type": "execute_result"
    }
   ],
   "source": [
    "array"
   ]
  },
  {
   "cell_type": "code",
   "execution_count": 25,
   "id": "822bbba9",
   "metadata": {},
   "outputs": [],
   "source": [
    "indx1 = [1, 3, 2]"
   ]
  },
  {
   "cell_type": "code",
   "execution_count": 26,
   "id": "24f50ac5",
   "metadata": {},
   "outputs": [],
   "source": [
    "indx2 = [0, 4, 2]"
   ]
  },
  {
   "cell_type": "markdown",
   "id": "420c12ac",
   "metadata": {},
   "source": [
    "index1 ve index2 deki kesisen degerleri array multi dimensional array'de getirdi\n"
   ]
  },
  {
   "cell_type": "code",
   "execution_count": 30,
   "id": "aa8a02b2",
   "metadata": {},
   "outputs": [
    {
     "data": {
      "text/plain": [
       "array([ 5, 19, 12])"
      ]
     },
     "execution_count": 30,
     "metadata": {},
     "output_type": "execute_result"
    }
   ],
   "source": [
    "array[indx1, indx2]"
   ]
  },
  {
   "cell_type": "code",
   "execution_count": null,
   "id": "03ce34c3",
   "metadata": {},
   "outputs": [],
   "source": []
  }
 ],
 "metadata": {
  "kernelspec": {
   "display_name": "Python 3 (ipykernel)",
   "language": "python",
   "name": "python3"
  },
  "language_info": {
   "codemirror_mode": {
    "name": "ipython",
    "version": 3
   },
   "file_extension": ".py",
   "mimetype": "text/x-python",
   "name": "python",
   "nbconvert_exporter": "python",
   "pygments_lexer": "ipython3",
   "version": "3.9.5"
  }
 },
 "nbformat": 4,
 "nbformat_minor": 5
}
