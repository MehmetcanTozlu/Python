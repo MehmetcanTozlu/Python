{
 "cells": [
  {
   "cell_type": "markdown",
   "id": "80a6712f",
   "metadata": {},
   "source": [
    "# Numpy Arrays"
   ]
  },
  {
   "cell_type": "markdown",
   "id": "df7c30b3",
   "metadata": {},
   "source": [
    "Numpy Array'leri homojen yani tek tip verilerden olusmali."
   ]
  },
  {
   "cell_type": "code",
   "execution_count": 1,
   "id": "f58f2164",
   "metadata": {},
   "outputs": [],
   "source": [
    "import numpy as np"
   ]
  },
  {
   "cell_type": "code",
   "execution_count": 2,
   "id": "108f769c",
   "metadata": {},
   "outputs": [],
   "source": [
    "arr = [10, 20, 30, 40]"
   ]
  },
  {
   "cell_type": "markdown",
   "id": "7aa28d69",
   "metadata": {},
   "source": [
    "Normal bir diziyi Numpy dizisi haline cevirme"
   ]
  },
  {
   "cell_type": "code",
   "execution_count": 3,
   "id": "8858ee9f",
   "metadata": {},
   "outputs": [
    {
     "data": {
      "text/plain": [
       "array([10, 20, 30, 40])"
      ]
     },
     "execution_count": 3,
     "metadata": {},
     "output_type": "execute_result"
    }
   ],
   "source": [
    "np.array(arr)"
   ]
  },
  {
   "cell_type": "code",
   "execution_count": 4,
   "id": "5fba4516",
   "metadata": {},
   "outputs": [],
   "source": [
    "matrix = [[10, 20, 30], [40, 50, 60], [70, 80, 90]]"
   ]
  },
  {
   "cell_type": "code",
   "execution_count": 5,
   "id": "4a4d6516",
   "metadata": {},
   "outputs": [
    {
     "data": {
      "text/plain": [
       "[[10, 20, 30], [40, 50, 60], [70, 80, 90]]"
      ]
     },
     "execution_count": 5,
     "metadata": {},
     "output_type": "execute_result"
    }
   ],
   "source": [
    "matrix"
   ]
  },
  {
   "cell_type": "code",
   "execution_count": 7,
   "id": "7e2e3763",
   "metadata": {},
   "outputs": [
    {
     "data": {
      "text/plain": [
       "array([[10, 20, 30],\n",
       "       [40, 50, 60],\n",
       "       [70, 80, 90]])"
      ]
     },
     "execution_count": 7,
     "metadata": {},
     "output_type": "execute_result"
    }
   ],
   "source": [
    "np.array(matrix)"
   ]
  },
  {
   "cell_type": "markdown",
   "id": "c1e73c76",
   "metadata": {},
   "source": [
    "# arange"
   ]
  },
  {
   "cell_type": "markdown",
   "id": "79db0267",
   "metadata": {},
   "source": [
    "Normal range ile olusturdugumuz dizimiz"
   ]
  },
  {
   "cell_type": "code",
   "execution_count": 8,
   "id": "3c5b4ddb",
   "metadata": {},
   "outputs": [
    {
     "data": {
      "text/plain": [
       "[0, 1, 2, 3, 4, 5, 6, 7, 8, 9]"
      ]
     },
     "execution_count": 8,
     "metadata": {},
     "output_type": "execute_result"
    }
   ],
   "source": [
    "list(range(0, 10))"
   ]
  },
  {
   "cell_type": "markdown",
   "id": "35fca290",
   "metadata": {},
   "source": [
    "Numpy dizisi turunde arange ile olusturdugumuz dizimiz"
   ]
  },
  {
   "cell_type": "code",
   "execution_count": 9,
   "id": "9cc85c18",
   "metadata": {},
   "outputs": [
    {
     "data": {
      "text/plain": [
       "array([0, 1, 2, 3, 4, 5, 6, 7, 8, 9])"
      ]
     },
     "execution_count": 9,
     "metadata": {},
     "output_type": "execute_result"
    }
   ],
   "source": [
    "np.arange(0, 10)"
   ]
  },
  {
   "cell_type": "code",
   "execution_count": 10,
   "id": "03213218",
   "metadata": {},
   "outputs": [
    {
     "data": {
      "text/plain": [
       "array([ 0,  3,  6,  9, 12, 15, 18])"
      ]
     },
     "execution_count": 10,
     "metadata": {},
     "output_type": "execute_result"
    }
   ],
   "source": [
    "np.arange(0, 20, 3)"
   ]
  },
  {
   "cell_type": "markdown",
   "id": "265a5037",
   "metadata": {},
   "source": [
    "### zeros"
   ]
  },
  {
   "cell_type": "markdown",
   "id": "a906e0c7",
   "metadata": {},
   "source": [
    "Numpy dizisinin tum elemanlarinin 0 old. durumdur"
   ]
  },
  {
   "cell_type": "code",
   "execution_count": 11,
   "id": "830313a2",
   "metadata": {},
   "outputs": [
    {
     "data": {
      "text/plain": [
       "array([0., 0., 0., 0., 0., 0., 0.])"
      ]
     },
     "execution_count": 11,
     "metadata": {},
     "output_type": "execute_result"
    }
   ],
   "source": [
    "np.zeros(7)"
   ]
  },
  {
   "cell_type": "code",
   "execution_count": 12,
   "id": "00018bf9",
   "metadata": {},
   "outputs": [
    {
     "data": {
      "text/plain": [
       "array([[0., 0., 0., 0., 0.],\n",
       "       [0., 0., 0., 0., 0.],\n",
       "       [0., 0., 0., 0., 0.],\n",
       "       [0., 0., 0., 0., 0.],\n",
       "       [0., 0., 0., 0., 0.]])"
      ]
     },
     "execution_count": 12,
     "metadata": {},
     "output_type": "execute_result"
    }
   ],
   "source": [
    "np.zeros((5, 5))"
   ]
  },
  {
   "cell_type": "markdown",
   "id": "77cccd1f",
   "metadata": {},
   "source": [
    "### ones"
   ]
  },
  {
   "cell_type": "markdown",
   "id": "3b019cbe",
   "metadata": {},
   "source": [
    "Numpy dizisinin tum elemanlarinin 1 old. durumdur"
   ]
  },
  {
   "cell_type": "code",
   "execution_count": 13,
   "id": "e9af0e4a",
   "metadata": {},
   "outputs": [
    {
     "data": {
      "text/plain": [
       "array([1., 1., 1., 1., 1.])"
      ]
     },
     "execution_count": 13,
     "metadata": {},
     "output_type": "execute_result"
    }
   ],
   "source": [
    "np.ones(5)"
   ]
  },
  {
   "cell_type": "code",
   "execution_count": 14,
   "id": "50a7641a",
   "metadata": {},
   "outputs": [
    {
     "data": {
      "text/plain": [
       "array([[1., 1., 1., 1., 1., 1., 1.],\n",
       "       [1., 1., 1., 1., 1., 1., 1.],\n",
       "       [1., 1., 1., 1., 1., 1., 1.],\n",
       "       [1., 1., 1., 1., 1., 1., 1.],\n",
       "       [1., 1., 1., 1., 1., 1., 1.],\n",
       "       [1., 1., 1., 1., 1., 1., 1.],\n",
       "       [1., 1., 1., 1., 1., 1., 1.]])"
      ]
     },
     "execution_count": 14,
     "metadata": {},
     "output_type": "execute_result"
    }
   ],
   "source": [
    "np.ones((7, 7))"
   ]
  },
  {
   "cell_type": "markdown",
   "id": "80269789",
   "metadata": {},
   "source": [
    "# linspace"
   ]
  },
  {
   "cell_type": "markdown",
   "id": "4a98546e",
   "metadata": {},
   "source": [
    "belirlenen 2 parametre arasinda 3. parametre kadar aralik belirleyip bir Numpy dizisi olusturmaya yarar"
   ]
  },
  {
   "cell_type": "code",
   "execution_count": 26,
   "id": "f0812a62",
   "metadata": {},
   "outputs": [
    {
     "data": {
      "text/plain": [
       "array([ 0.        ,  2.22222222,  4.44444444,  6.66666667,  8.88888889,\n",
       "       11.11111111, 13.33333333, 15.55555556, 17.77777778, 20.        ])"
      ]
     },
     "execution_count": 26,
     "metadata": {},
     "output_type": "execute_result"
    }
   ],
   "source": [
    "np.linspace(0, 20, 10) # 0 ve 20 de dahil o.u bu araligi 10 esit parcaya bol"
   ]
  },
  {
   "cell_type": "markdown",
   "id": "b4bc8856",
   "metadata": {},
   "source": [
    "# eye"
   ]
  },
  {
   "cell_type": "markdown",
   "id": "ba4cb98a",
   "metadata": {},
   "source": [
    "satir ve sututun esit oldugu durumlari 1 yapan matrix(birim matrix)'i olusturur"
   ]
  },
  {
   "cell_type": "code",
   "execution_count": 16,
   "id": "e6bb0029",
   "metadata": {},
   "outputs": [
    {
     "data": {
      "text/plain": [
       "array([[1., 0., 0., 0., 0.],\n",
       "       [0., 1., 0., 0., 0.],\n",
       "       [0., 0., 1., 0., 0.],\n",
       "       [0., 0., 0., 1., 0.],\n",
       "       [0., 0., 0., 0., 1.]])"
      ]
     },
     "execution_count": 16,
     "metadata": {},
     "output_type": "execute_result"
    }
   ],
   "source": [
    "np.eye(5)"
   ]
  },
  {
   "cell_type": "code",
   "execution_count": 42,
   "id": "b6c15e62",
   "metadata": {},
   "outputs": [
    {
     "data": {
      "text/plain": [
       "array([[1., 0., 0., 0., 0.],\n",
       "       [0., 1., 0., 0., 0.],\n",
       "       [0., 0., 1., 0., 0.]])"
      ]
     },
     "execution_count": 42,
     "metadata": {},
     "output_type": "execute_result"
    }
   ],
   "source": [
    "np.eye(3, 5)"
   ]
  },
  {
   "cell_type": "markdown",
   "id": "8457b6ba",
   "metadata": {},
   "source": [
    "# random"
   ]
  },
  {
   "cell_type": "code",
   "execution_count": 17,
   "id": "d9cbbb4f",
   "metadata": {},
   "outputs": [
    {
     "data": {
      "text/plain": [
       "array([ 0.62871664,  0.88353225, -0.27593447, -0.22346328, -1.19219636,\n",
       "       -1.92350427, -0.36670335,  0.9496553 , -0.76093476, -0.58822309])"
      ]
     },
     "execution_count": 17,
     "metadata": {},
     "output_type": "execute_result"
    }
   ],
   "source": [
    "np.random.randn(10)"
   ]
  },
  {
   "cell_type": "code",
   "execution_count": 18,
   "id": "fc4249cb",
   "metadata": {},
   "outputs": [
    {
     "data": {
      "text/plain": [
       "array([[ 3.76744026, -1.50706992, -1.09231375, -1.3272111 , -1.36407385],\n",
       "       [-1.7207967 , -0.35980218, -0.15941094,  0.30148028,  0.15359941],\n",
       "       [ 0.71764431,  0.65459184, -0.16678779, -0.3247893 ,  2.04927718],\n",
       "       [ 1.02638694,  0.42828411, -0.30800076, -0.53898109, -1.79559473],\n",
       "       [ 0.59040361,  0.64554282, -0.90967642, -0.66257617, -0.44279668]])"
      ]
     },
     "execution_count": 18,
     "metadata": {},
     "output_type": "execute_result"
    }
   ],
   "source": [
    "np.random.randn(5, 5)"
   ]
  },
  {
   "cell_type": "markdown",
   "id": "b190a2e7",
   "metadata": {},
   "source": [
    "7 tane 4*3'luk matris olusturur"
   ]
  },
  {
   "cell_type": "code",
   "execution_count": 19,
   "id": "4fe8a95d",
   "metadata": {},
   "outputs": [
    {
     "data": {
      "text/plain": [
       "array([[[ 0.6116159 , -0.25970745, -0.03392586],\n",
       "        [ 0.21758322,  1.84109302, -0.34816822],\n",
       "        [ 0.05753762, -1.00008416, -1.94045836],\n",
       "        [-1.23908222,  0.24964193, -0.82507932]],\n",
       "\n",
       "       [[-1.62441615,  1.39273091,  0.44202864],\n",
       "        [ 0.93248216,  0.38443164,  0.37547533],\n",
       "        [ 0.48057166, -0.97794094, -0.63921247],\n",
       "        [-0.51016721,  0.62241109, -0.91150178]],\n",
       "\n",
       "       [[-1.92081939, -0.20045866, -0.9494199 ],\n",
       "        [ 0.16543717, -0.0535726 ,  1.52106707],\n",
       "        [ 1.23136317,  0.56334106, -0.08119371],\n",
       "        [-0.05779488, -0.464037  , -0.82188829]],\n",
       "\n",
       "       [[ 1.52267926,  0.16400346, -0.23860054],\n",
       "        [ 0.92123248, -0.19370248,  1.0563643 ],\n",
       "        [ 1.37377113,  1.18110699,  0.40650588],\n",
       "        [ 1.13287633,  1.01181534,  0.42468384]],\n",
       "\n",
       "       [[ 0.62020262, -0.58866718,  2.79448068],\n",
       "        [-1.58170564, -1.1773437 , -0.45872588],\n",
       "        [-0.21450216, -1.04438488, -2.23849489],\n",
       "        [ 0.60143814,  1.15274885, -1.5889075 ]],\n",
       "\n",
       "       [[ 1.92269872, -0.14704307, -2.20608694],\n",
       "        [-1.01379779, -1.19115593,  0.86507395],\n",
       "        [ 0.1524738 , -1.15953191,  0.22396692],\n",
       "        [ 0.32056632, -0.99152285, -0.09745759]],\n",
       "\n",
       "       [[ 1.0959652 ,  2.44154076, -3.45479911],\n",
       "        [-0.55201085, -0.96297611,  0.25465958],\n",
       "        [ 0.46713061,  0.26896858,  0.95724355],\n",
       "        [-0.6830346 , -0.84808821, -0.32668143]]])"
      ]
     },
     "execution_count": 19,
     "metadata": {},
     "output_type": "execute_result"
    }
   ],
   "source": [
    "np.random.randn(7, 4, 3)"
   ]
  },
  {
   "cell_type": "markdown",
   "id": "41594edf",
   "metadata": {},
   "source": [
    "0'dan 30'a kadar 8 tane random deger getir"
   ]
  },
  {
   "cell_type": "code",
   "execution_count": 28,
   "id": "f4a2c177",
   "metadata": {},
   "outputs": [
    {
     "data": {
      "text/plain": [
       "array([ 2,  8,  0, 23, 22, 28, 25, 10])"
      ]
     },
     "execution_count": 28,
     "metadata": {},
     "output_type": "execute_result"
    }
   ],
   "source": [
    "np.random.randint(0, 30, 8)"
   ]
  },
  {
   "cell_type": "code",
   "execution_count": 30,
   "id": "108dd8dc",
   "metadata": {},
   "outputs": [
    {
     "data": {
      "text/plain": [
       "array([[8, 1, 8],\n",
       "       [7, 9, 6],\n",
       "       [1, 1, 1],\n",
       "       [4, 2, 3]])"
      ]
     },
     "execution_count": 30,
     "metadata": {},
     "output_type": "execute_result"
    }
   ],
   "source": [
    "np.random.randint(1, 10, (4, 3)) # 1 dahil 10 arasinda 4*3'luk matris olustur"
   ]
  },
  {
   "cell_type": "markdown",
   "id": "d8bafaff",
   "metadata": {},
   "source": [
    "# Numpy Dizi Methodlari"
   ]
  },
  {
   "cell_type": "code",
   "execution_count": 21,
   "id": "c0616bad",
   "metadata": {},
   "outputs": [],
   "source": [
    "dizi = np.arange(30)"
   ]
  },
  {
   "cell_type": "code",
   "execution_count": 22,
   "id": "ef33ae9d",
   "metadata": {},
   "outputs": [
    {
     "data": {
      "text/plain": [
       "array([ 0,  1,  2,  3,  4,  5,  6,  7,  8,  9, 10, 11, 12, 13, 14, 15, 16,\n",
       "       17, 18, 19, 20, 21, 22, 23, 24, 25, 26, 27, 28, 29])"
      ]
     },
     "execution_count": 22,
     "metadata": {},
     "output_type": "execute_result"
    }
   ],
   "source": [
    "dizi"
   ]
  },
  {
   "cell_type": "markdown",
   "id": "ca4ddbcc",
   "metadata": {},
   "source": [
    "ust satirdaki dizi listemizin eleman sayisi 30 old. satir ve sutunlarinin carpimi 30'a esit olmasi gerekir"
   ]
  },
  {
   "cell_type": "code",
   "execution_count": 23,
   "id": "ffab218b",
   "metadata": {},
   "outputs": [
    {
     "data": {
      "text/plain": [
       "array([[ 0,  1,  2,  3,  4,  5],\n",
       "       [ 6,  7,  8,  9, 10, 11],\n",
       "       [12, 13, 14, 15, 16, 17],\n",
       "       [18, 19, 20, 21, 22, 23],\n",
       "       [24, 25, 26, 27, 28, 29]])"
      ]
     },
     "execution_count": 23,
     "metadata": {},
     "output_type": "execute_result"
    }
   ],
   "source": [
    "dizi.reshape(5, 6)"
   ]
  },
  {
   "cell_type": "code",
   "execution_count": 24,
   "id": "e5a6463c",
   "metadata": {},
   "outputs": [
    {
     "data": {
      "text/plain": [
       "array([[ 0,  1,  2,  3,  4],\n",
       "       [ 5,  6,  7,  8,  9],\n",
       "       [10, 11, 12, 13, 14],\n",
       "       [15, 16, 17, 18, 19],\n",
       "       [20, 21, 22, 23, 24],\n",
       "       [25, 26, 27, 28, 29]])"
      ]
     },
     "execution_count": 24,
     "metadata": {},
     "output_type": "execute_result"
    }
   ],
   "source": [
    "dizi.reshape(6, 5)"
   ]
  },
  {
   "cell_type": "markdown",
   "id": "73b6c0cf",
   "metadata": {},
   "source": [
    "alt satirda gorundugu gibi dizimizin orijinal durumu degismemektedir"
   ]
  },
  {
   "cell_type": "code",
   "execution_count": 25,
   "id": "ea0a3f4f",
   "metadata": {},
   "outputs": [
    {
     "data": {
      "text/plain": [
       "array([ 0,  1,  2,  3,  4,  5,  6,  7,  8,  9, 10, 11, 12, 13, 14, 15, 16,\n",
       "       17, 18, 19, 20, 21, 22, 23, 24, 25, 26, 27, 28, 29])"
      ]
     },
     "execution_count": 25,
     "metadata": {},
     "output_type": "execute_result"
    }
   ],
   "source": [
    "dizi"
   ]
  },
  {
   "cell_type": "markdown",
   "id": "679ee15f",
   "metadata": {},
   "source": [
    "#### Rastgele uretilen sayilardan toplamda kac tane uretildiklerini bulan kod "
   ]
  },
  {
   "cell_type": "code",
   "execution_count": 40,
   "id": "aee4bfbd",
   "metadata": {},
   "outputs": [],
   "source": [
    "d = {}\n",
    "for _ in range(100):\n",
    "    value = np.random.randint(1, 10)\n",
    "    \n",
    "    if value not in d:\n",
    "        d[value] = 1\n",
    "    else:\n",
    "        d[value] += 1"
   ]
  },
  {
   "cell_type": "code",
   "execution_count": 41,
   "id": "f486a505",
   "metadata": {},
   "outputs": [
    {
     "data": {
      "text/plain": [
       "{2: 10, 9: 9, 5: 16, 3: 13, 8: 9, 6: 14, 7: 12, 4: 8, 1: 9}"
      ]
     },
     "execution_count": 41,
     "metadata": {},
     "output_type": "execute_result"
    }
   ],
   "source": [
    "d"
   ]
  },
  {
   "cell_type": "code",
   "execution_count": null,
   "id": "d4df8e05",
   "metadata": {},
   "outputs": [],
   "source": []
  }
 ],
 "metadata": {
  "kernelspec": {
   "display_name": "Python 3 (ipykernel)",
   "language": "python",
   "name": "python3"
  },
  "language_info": {
   "codemirror_mode": {
    "name": "ipython",
    "version": 3
   },
   "file_extension": ".py",
   "mimetype": "text/x-python",
   "name": "python",
   "nbconvert_exporter": "python",
   "pygments_lexer": "ipython3",
   "version": "3.9.5"
  }
 },
 "nbformat": 4,
 "nbformat_minor": 5
}
