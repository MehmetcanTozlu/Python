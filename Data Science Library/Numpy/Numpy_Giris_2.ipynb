{
 "cells": [
  {
   "cell_type": "code",
   "execution_count": 1,
   "id": "225dd6f1",
   "metadata": {},
   "outputs": [],
   "source": [
    "import numpy as np"
   ]
  },
  {
   "cell_type": "code",
   "execution_count": 4,
   "id": "afc63bbb",
   "metadata": {},
   "outputs": [
    {
     "data": {
      "text/plain": [
       "array([ 0,  1,  2,  3,  4,  5,  6,  7,  8,  9, 10, 11, 12, 13, 14])"
      ]
     },
     "execution_count": 4,
     "metadata": {},
     "output_type": "execute_result"
    }
   ],
   "source": [
    "arr = np.arange(0, 15)\n",
    "arr"
   ]
  },
  {
   "cell_type": "code",
   "execution_count": 5,
   "id": "a513f869",
   "metadata": {},
   "outputs": [
    {
     "data": {
      "text/plain": [
       "5"
      ]
     },
     "execution_count": 5,
     "metadata": {},
     "output_type": "execute_result"
    }
   ],
   "source": [
    "arr[5]"
   ]
  },
  {
   "cell_type": "code",
   "execution_count": 6,
   "id": "3c720d4a",
   "metadata": {},
   "outputs": [
    {
     "data": {
      "text/plain": [
       "array([2, 3, 4, 5, 6])"
      ]
     },
     "execution_count": 6,
     "metadata": {},
     "output_type": "execute_result"
    }
   ],
   "source": [
    "arr[2: 7]"
   ]
  },
  {
   "cell_type": "code",
   "execution_count": 7,
   "id": "b5f54b1e",
   "metadata": {},
   "outputs": [
    {
     "data": {
      "text/plain": [
       "array([14, 13, 12, 11, 10,  9,  8,  7,  6,  5,  4,  3,  2,  1,  0])"
      ]
     },
     "execution_count": 7,
     "metadata": {},
     "output_type": "execute_result"
    }
   ],
   "source": [
    "arr[::-1]"
   ]
  },
  {
   "cell_type": "markdown",
   "id": "5352b51d",
   "metadata": {},
   "source": [
    "bir dizinin belirli araligindaki elemanlarin hepsine deger atama yaptik"
   ]
  },
  {
   "cell_type": "code",
   "execution_count": 13,
   "id": "9c55d426",
   "metadata": {},
   "outputs": [
    {
     "data": {
      "text/plain": [
       "array([ 0,  1, -1, -1, -1, -1, -1,  7,  8,  9, 10, 11, 12, 13, 14])"
      ]
     },
     "execution_count": 13,
     "metadata": {},
     "output_type": "execute_result"
    }
   ],
   "source": [
    "arr[2: 7] = -1\n",
    "arr"
   ]
  },
  {
   "cell_type": "code",
   "execution_count": 14,
   "id": "cbaa3725",
   "metadata": {},
   "outputs": [
    {
     "data": {
      "text/plain": [
       "array([0, 1, 2, 3, 4, 5, 6, 7, 8, 9])"
      ]
     },
     "execution_count": 14,
     "metadata": {},
     "output_type": "execute_result"
    }
   ],
   "source": [
    "arr2 = np.arange(0, 10)\n",
    "arr2"
   ]
  },
  {
   "cell_type": "markdown",
   "id": "75539157",
   "metadata": {},
   "source": [
    "bir dizinin belirli bir bolumunu baska bir diziye asagidaki gibi atadik"
   ]
  },
  {
   "cell_type": "code",
   "execution_count": 16,
   "id": "5794814c",
   "metadata": {},
   "outputs": [
    {
     "data": {
      "text/plain": [
       "array([2, 3, 4, 5, 6])"
      ]
     },
     "execution_count": 16,
     "metadata": {},
     "output_type": "execute_result"
    }
   ],
   "source": [
    "sliceArr = arr2[2: 7]\n",
    "sliceArr"
   ]
  },
  {
   "cell_type": "markdown",
   "id": "0d6681ee",
   "metadata": {},
   "source": [
    "bir dizinin butun elemanlarina tek degeri atama"
   ]
  },
  {
   "cell_type": "code",
   "execution_count": 17,
   "id": "c0d3f592",
   "metadata": {},
   "outputs": [
    {
     "data": {
      "text/plain": [
       "array([666, 666, 666, 666, 666])"
      ]
     },
     "execution_count": 17,
     "metadata": {},
     "output_type": "execute_result"
    }
   ],
   "source": [
    "sliceArr[:] = 666\n",
    "sliceArr"
   ]
  },
  {
   "cell_type": "markdown",
   "id": "7b1ae4de",
   "metadata": {},
   "source": [
    "sliceArr'i arr2'den parcalayip atamistik. Goruldugu gibi dizinin orijinali arr2'de degisti"
   ]
  },
  {
   "cell_type": "code",
   "execution_count": 19,
   "id": "66b1dfd0",
   "metadata": {},
   "outputs": [
    {
     "data": {
      "text/plain": [
       "array([  0,   1, 666, 666, 666, 666, 666,   7,   8,   9])"
      ]
     },
     "execution_count": 19,
     "metadata": {},
     "output_type": "execute_result"
    }
   ],
   "source": [
    "arr2"
   ]
  },
  {
   "cell_type": "markdown",
   "id": "80487853",
   "metadata": {},
   "source": [
    "#### Simdi bu islemleri orijinal diziyi degistirmeden yapalim! "
   ]
  },
  {
   "cell_type": "code",
   "execution_count": 20,
   "id": "c995d0e6",
   "metadata": {},
   "outputs": [],
   "source": [
    "exampleArr = np.arange(0, 15)"
   ]
  },
  {
   "cell_type": "markdown",
   "id": "61312999",
   "metadata": {},
   "source": [
    "kopyalayacagimiz dizinin varsayilan degerleri degismemesi icin asagidaki gibi bir islem yapiyoruz"
   ]
  },
  {
   "cell_type": "code",
   "execution_count": 22,
   "id": "ffd53fd8",
   "metadata": {},
   "outputs": [
    {
     "data": {
      "text/plain": [
       "array([ 0,  1,  2,  3,  4,  5,  6,  7,  8,  9, 10, 11, 12, 13, 14])"
      ]
     },
     "execution_count": 22,
     "metadata": {},
     "output_type": "execute_result"
    }
   ],
   "source": [
    "kopyaArr = exampleArr.copy()\n",
    "kopyaArr"
   ]
  },
  {
   "cell_type": "code",
   "execution_count": 31,
   "id": "2150d306",
   "metadata": {},
   "outputs": [
    {
     "data": {
      "text/plain": [
       "array([ 0,  1,  2,  3,  4,  5,  6,  7,  8,  9, 10, 11, 12, 13, 14])"
      ]
     },
     "execution_count": 31,
     "metadata": {},
     "output_type": "execute_result"
    }
   ],
   "source": [
    "exampleArr"
   ]
  },
  {
   "cell_type": "markdown",
   "id": "e46748b4",
   "metadata": {},
   "source": [
    "dizinin belli bir bolumunu baska diziye atadik"
   ]
  },
  {
   "cell_type": "code",
   "execution_count": 32,
   "id": "a3ab6a70",
   "metadata": {},
   "outputs": [],
   "source": [
    "kopyaArrSlicing = kopyaArr[2: 7]"
   ]
  },
  {
   "cell_type": "markdown",
   "id": "a2558e24",
   "metadata": {},
   "source": [
    "atadigimiz dizinin elemanlarini degistirdik"
   ]
  },
  {
   "cell_type": "code",
   "execution_count": 33,
   "id": "26701fa7",
   "metadata": {},
   "outputs": [],
   "source": [
    "kopyaArrSlicing[:] = -111"
   ]
  },
  {
   "cell_type": "markdown",
   "id": "57684607",
   "metadata": {},
   "source": [
    "#### Bir kısmı alınıp atanan dizi "
   ]
  },
  {
   "cell_type": "code",
   "execution_count": 28,
   "id": "40a95793",
   "metadata": {},
   "outputs": [
    {
     "data": {
      "text/plain": [
       "array([-111, -111, -111, -111, -111])"
      ]
     },
     "execution_count": 28,
     "metadata": {},
     "output_type": "execute_result"
    }
   ],
   "source": [
    "kopyaArrSlicing"
   ]
  },
  {
   "cell_type": "markdown",
   "id": "7734a08f",
   "metadata": {},
   "source": [
    "#### copy() ile kopyaladigimiz dizi "
   ]
  },
  {
   "cell_type": "code",
   "execution_count": 34,
   "id": "e406f06b",
   "metadata": {},
   "outputs": [
    {
     "data": {
      "text/plain": [
       "array([   0,    1, -111, -111, -111, -111, -111,    7,    8,    9,   10,\n",
       "         11,   12,   13,   14])"
      ]
     },
     "execution_count": 34,
     "metadata": {},
     "output_type": "execute_result"
    }
   ],
   "source": [
    "kopyaArr"
   ]
  },
  {
   "cell_type": "markdown",
   "id": "fd78c23c",
   "metadata": {},
   "source": [
    "#### Ilk olusturdugumuz orj dizimiz "
   ]
  },
  {
   "cell_type": "markdown",
   "id": "bebf075c",
   "metadata": {},
   "source": [
    "Goruldugu gibi ilk dizimiz degismedi, degismemesi icin copy() ile kopyalamamiz lazim!"
   ]
  },
  {
   "cell_type": "code",
   "execution_count": 35,
   "id": "12da9efb",
   "metadata": {},
   "outputs": [
    {
     "data": {
      "text/plain": [
       "array([ 0,  1,  2,  3,  4,  5,  6,  7,  8,  9, 10, 11, 12, 13, 14])"
      ]
     },
     "execution_count": 35,
     "metadata": {},
     "output_type": "execute_result"
    }
   ],
   "source": [
    "exampleArr"
   ]
  },
  {
   "cell_type": "markdown",
   "id": "ef5fce07",
   "metadata": {},
   "source": [
    "# Matrix"
   ]
  },
  {
   "cell_type": "code",
   "execution_count": 36,
   "id": "e63a6e25",
   "metadata": {},
   "outputs": [],
   "source": [
    "matrixArr = [[10, 20, 30], [40, 50, 60], [70, 80, 90]]"
   ]
  },
  {
   "cell_type": "code",
   "execution_count": 37,
   "id": "2be1f657",
   "metadata": {},
   "outputs": [],
   "source": [
    "matrixArrCopy = np.array(matrixArr)"
   ]
  },
  {
   "cell_type": "code",
   "execution_count": 38,
   "id": "e39fa45e",
   "metadata": {},
   "outputs": [
    {
     "data": {
      "text/plain": [
       "array([[10, 20, 30],\n",
       "       [40, 50, 60],\n",
       "       [70, 80, 90]])"
      ]
     },
     "execution_count": 38,
     "metadata": {},
     "output_type": "execute_result"
    }
   ],
   "source": [
    "matrixArrCopy"
   ]
  },
  {
   "cell_type": "code",
   "execution_count": 40,
   "id": "d149435d",
   "metadata": {},
   "outputs": [
    {
     "data": {
      "text/plain": [
       "array([10, 20, 30])"
      ]
     },
     "execution_count": 40,
     "metadata": {},
     "output_type": "execute_result"
    }
   ],
   "source": [
    "matrixArrCopy[0]"
   ]
  },
  {
   "cell_type": "code",
   "execution_count": 44,
   "id": "2978ce2f",
   "metadata": {},
   "outputs": [
    {
     "data": {
      "text/plain": [
       "10"
      ]
     },
     "execution_count": 44,
     "metadata": {},
     "output_type": "execute_result"
    }
   ],
   "source": [
    "matrixArrCopy[0][0] # Satir Sutun"
   ]
  },
  {
   "cell_type": "code",
   "execution_count": 45,
   "id": "f79b5df5",
   "metadata": {},
   "outputs": [
    {
     "data": {
      "text/plain": [
       "90"
      ]
     },
     "execution_count": 45,
     "metadata": {},
     "output_type": "execute_result"
    }
   ],
   "source": [
    "matrixArrCopy[2, 2]"
   ]
  },
  {
   "cell_type": "code",
   "execution_count": 48,
   "id": "a01345f4",
   "metadata": {},
   "outputs": [],
   "source": [
    "newArr = [[1, 2, 3, 4, 5], [6, 7, 8, 9, 10], [11, 12, 13, 14, 15], [16, 17, 18, 19, 20], [21, 22, 23, 24, 25]]"
   ]
  },
  {
   "cell_type": "code",
   "execution_count": 49,
   "id": "6c6d447b",
   "metadata": {},
   "outputs": [
    {
     "data": {
      "text/plain": [
       "[[1, 2, 3, 4, 5],\n",
       " [6, 7, 8, 9, 10],\n",
       " [11, 12, 13, 14, 15],\n",
       " [16, 17, 18, 19, 20],\n",
       " [21, 22, 23, 24, 25]]"
      ]
     },
     "execution_count": 49,
     "metadata": {},
     "output_type": "execute_result"
    }
   ],
   "source": [
    "newArr"
   ]
  },
  {
   "cell_type": "code",
   "execution_count": 50,
   "id": "e918201d",
   "metadata": {},
   "outputs": [],
   "source": [
    "newMatrix = np.array(newArr)"
   ]
  },
  {
   "cell_type": "code",
   "execution_count": 51,
   "id": "5b193428",
   "metadata": {},
   "outputs": [
    {
     "data": {
      "text/plain": [
       "array([[ 1,  2,  3,  4,  5],\n",
       "       [ 6,  7,  8,  9, 10],\n",
       "       [11, 12, 13, 14, 15],\n",
       "       [16, 17, 18, 19, 20],\n",
       "       [21, 22, 23, 24, 25]])"
      ]
     },
     "execution_count": 51,
     "metadata": {},
     "output_type": "execute_result"
    }
   ],
   "source": [
    "newMatrix"
   ]
  },
  {
   "cell_type": "markdown",
   "id": "925e91fe",
   "metadata": {},
   "source": [
    "Belirlenen satirlari getirme islemi"
   ]
  },
  {
   "cell_type": "code",
   "execution_count": 53,
   "id": "cf0857e6",
   "metadata": {},
   "outputs": [
    {
     "data": {
      "text/plain": [
       "array([[ 1,  2,  3,  4,  5],\n",
       "       [ 6,  7,  8,  9, 10],\n",
       "       [21, 22, 23, 24, 25]])"
      ]
     },
     "execution_count": 53,
     "metadata": {},
     "output_type": "execute_result"
    }
   ],
   "source": [
    "newMatrix[[0, 1, 4]]"
   ]
  },
  {
   "cell_type": "code",
   "execution_count": null,
   "id": "6da21894",
   "metadata": {},
   "outputs": [],
   "source": []
  }
 ],
 "metadata": {
  "kernelspec": {
   "display_name": "Python 3 (ipykernel)",
   "language": "python",
   "name": "python3"
  },
  "language_info": {
   "codemirror_mode": {
    "name": "ipython",
    "version": 3
   },
   "file_extension": ".py",
   "mimetype": "text/x-python",
   "name": "python",
   "nbconvert_exporter": "python",
   "pygments_lexer": "ipython3",
   "version": "3.9.5"
  }
 },
 "nbformat": 4,
 "nbformat_minor": 5
}
