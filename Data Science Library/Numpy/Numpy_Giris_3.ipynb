{
 "cells": [
  {
   "cell_type": "markdown",
   "id": "bc96a49d",
   "metadata": {},
   "source": [
    "# Numpy Operasyonlar"
   ]
  },
  {
   "cell_type": "code",
   "execution_count": 2,
   "id": "21b4f667",
   "metadata": {},
   "outputs": [],
   "source": [
    "import numpy as np"
   ]
  },
  {
   "cell_type": "markdown",
   "id": "cdc7813b",
   "metadata": {},
   "source": [
    "1'den 100'e kadar 20 tane rastgele int deger uretme"
   ]
  },
  {
   "cell_type": "code",
   "execution_count": 6,
   "id": "51322046",
   "metadata": {},
   "outputs": [],
   "source": [
    "arr = np.random.randint(1, 100, 20)"
   ]
  },
  {
   "cell_type": "code",
   "execution_count": 7,
   "id": "9888662b",
   "metadata": {},
   "outputs": [
    {
     "data": {
      "text/plain": [
       "array([96, 28,  4, 61, 49, 87, 83, 22, 66, 46,  7, 24, 66,  2, 24, 64, 79,\n",
       "       91, 17, 48])"
      ]
     },
     "execution_count": 7,
     "metadata": {},
     "output_type": "execute_result"
    }
   ],
   "source": [
    "arr"
   ]
  },
  {
   "cell_type": "code",
   "execution_count": 8,
   "id": "3983d307",
   "metadata": {},
   "outputs": [
    {
     "data": {
      "text/plain": [
       "array([ True,  True, False,  True,  True,  True,  True, False,  True,\n",
       "        True, False, False,  True, False, False,  True,  True,  True,\n",
       "       False,  True])"
      ]
     },
     "execution_count": 8,
     "metadata": {},
     "output_type": "execute_result"
    }
   ],
   "source": [
    "arr > 24"
   ]
  },
  {
   "cell_type": "markdown",
   "id": "38ce1c2f",
   "metadata": {},
   "source": [
    "arr dizisinde 24'den buyuk olanlari copyArr dizine kopyaladik"
   ]
  },
  {
   "cell_type": "code",
   "execution_count": 15,
   "id": "a2af4038",
   "metadata": {},
   "outputs": [],
   "source": [
    "copyArr = arr > 24"
   ]
  },
  {
   "cell_type": "code",
   "execution_count": 16,
   "id": "4a4e6348",
   "metadata": {
    "scrolled": true
   },
   "outputs": [
    {
     "data": {
      "text/plain": [
       "array([ True,  True, False,  True,  True,  True,  True, False,  True,\n",
       "        True, False, False,  True, False, False,  True,  True,  True,\n",
       "       False,  True])"
      ]
     },
     "execution_count": 16,
     "metadata": {},
     "output_type": "execute_result"
    }
   ],
   "source": [
    "copyArr"
   ]
  },
  {
   "cell_type": "markdown",
   "id": "aa771381",
   "metadata": {},
   "source": [
    "Sadece 24'den buyuk olanlari getirdi"
   ]
  },
  {
   "cell_type": "code",
   "execution_count": 17,
   "id": "3381474c",
   "metadata": {},
   "outputs": [
    {
     "data": {
      "text/plain": [
       "array([96, 28, 61, 49, 87, 83, 66, 46, 66, 64, 79, 91, 48])"
      ]
     },
     "execution_count": 17,
     "metadata": {},
     "output_type": "execute_result"
    }
   ],
   "source": [
    "arr[copyArr]"
   ]
  },
  {
   "cell_type": "markdown",
   "id": "89c181ba",
   "metadata": {},
   "source": [
    "### Bu islemi su sekildede yapabilirdik..."
   ]
  },
  {
   "cell_type": "code",
   "execution_count": 18,
   "id": "e293182f",
   "metadata": {},
   "outputs": [
    {
     "data": {
      "text/plain": [
       "array([96, 28, 61, 49, 87, 83, 66, 46, 66, 64, 79, 91, 48])"
      ]
     },
     "execution_count": 18,
     "metadata": {},
     "output_type": "execute_result"
    }
   ],
   "source": [
    "arr[arr > 24]"
   ]
  },
  {
   "cell_type": "markdown",
   "id": "102d6aa4",
   "metadata": {},
   "source": [
    "### Bir diziyi kendisiyle toplayalim"
   ]
  },
  {
   "cell_type": "code",
   "execution_count": 19,
   "id": "6c639eea",
   "metadata": {},
   "outputs": [
    {
     "data": {
      "text/plain": [
       "array([192,  56,   8, 122,  98, 174, 166,  44, 132,  92,  14,  48, 132,\n",
       "         4,  48, 128, 158, 182,  34,  96])"
      ]
     },
     "execution_count": 19,
     "metadata": {},
     "output_type": "execute_result"
    }
   ],
   "source": [
    "arr + arr"
   ]
  },
  {
   "cell_type": "markdown",
   "id": "e90d994c",
   "metadata": {},
   "source": [
    "### Bir diziyi kendisiyle carpalim"
   ]
  },
  {
   "cell_type": "code",
   "execution_count": 20,
   "id": "1782e5c7",
   "metadata": {},
   "outputs": [
    {
     "data": {
      "text/plain": [
       "array([9216,  784,   16, 3721, 2401, 7569, 6889,  484, 4356, 2116,   49,\n",
       "        576, 4356,    4,  576, 4096, 6241, 8281,  289, 2304])"
      ]
     },
     "execution_count": 20,
     "metadata": {},
     "output_type": "execute_result"
    }
   ],
   "source": [
    "arr * arr"
   ]
  },
  {
   "cell_type": "markdown",
   "id": "a566cd4a",
   "metadata": {},
   "source": [
    "Goruldugu gibi yapilan degisiklikler atama yapmadigimiz icin kalici degiller"
   ]
  },
  {
   "cell_type": "code",
   "execution_count": 23,
   "id": "929b4fd8",
   "metadata": {},
   "outputs": [
    {
     "data": {
      "text/plain": [
       "array([96, 28,  4, 61, 49, 87, 83, 22, 66, 46,  7, 24, 66,  2, 24, 64, 79,\n",
       "       91, 17, 48])"
      ]
     },
     "execution_count": 23,
     "metadata": {},
     "output_type": "execute_result"
    }
   ],
   "source": [
    "arr"
   ]
  },
  {
   "cell_type": "markdown",
   "id": "c72d5d58",
   "metadata": {},
   "source": [
    "### Bir dizinin tum elemanlarinin Karekokunu alalim"
   ]
  },
  {
   "cell_type": "code",
   "execution_count": 24,
   "id": "f54c907a",
   "metadata": {},
   "outputs": [
    {
     "data": {
      "text/plain": [
       "array([9.79795897, 5.29150262, 2.        , 7.81024968, 7.        ,\n",
       "       9.32737905, 9.11043358, 4.69041576, 8.1240384 , 6.78232998,\n",
       "       2.64575131, 4.89897949, 8.1240384 , 1.41421356, 4.89897949,\n",
       "       8.        , 8.88819442, 9.53939201, 4.12310563, 6.92820323])"
      ]
     },
     "execution_count": 24,
     "metadata": {},
     "output_type": "execute_result"
    }
   ],
   "source": [
    "np.sqrt(arr)"
   ]
  },
  {
   "cell_type": "markdown",
   "id": "9fe9d5c1",
   "metadata": {},
   "source": [
    "Bir dizinin en kucuk elemani"
   ]
  },
  {
   "cell_type": "code",
   "execution_count": 25,
   "id": "63c4bd02",
   "metadata": {},
   "outputs": [
    {
     "data": {
      "text/plain": [
       "2"
      ]
     },
     "execution_count": 25,
     "metadata": {},
     "output_type": "execute_result"
    }
   ],
   "source": [
    "np.min(arr)"
   ]
  },
  {
   "cell_type": "markdown",
   "id": "a46c7fe8",
   "metadata": {},
   "source": [
    "Bir dizinin en buyuk elemani"
   ]
  },
  {
   "cell_type": "code",
   "execution_count": 26,
   "id": "39bd0adb",
   "metadata": {},
   "outputs": [
    {
     "data": {
      "text/plain": [
       "96"
      ]
     },
     "execution_count": 26,
     "metadata": {},
     "output_type": "execute_result"
    }
   ],
   "source": [
    "np.max(arr)"
   ]
  },
  {
   "cell_type": "code",
   "execution_count": null,
   "id": "f748026d",
   "metadata": {},
   "outputs": [],
   "source": []
  }
 ],
 "metadata": {
  "kernelspec": {
   "display_name": "Python 3 (ipykernel)",
   "language": "python",
   "name": "python3"
  },
  "language_info": {
   "codemirror_mode": {
    "name": "ipython",
    "version": 3
   },
   "file_extension": ".py",
   "mimetype": "text/x-python",
   "name": "python",
   "nbconvert_exporter": "python",
   "pygments_lexer": "ipython3",
   "version": "3.9.5"
  }
 },
 "nbformat": 4,
 "nbformat_minor": 5
}
