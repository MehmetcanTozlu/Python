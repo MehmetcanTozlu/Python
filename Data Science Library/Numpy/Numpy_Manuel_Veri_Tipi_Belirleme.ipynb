{
 "cells": [
  {
   "cell_type": "markdown",
   "id": "58484654",
   "metadata": {},
   "source": [
    "# Numpy Dizisinin Veri Tipini Manuel Verme"
   ]
  },
  {
   "cell_type": "code",
   "execution_count": 1,
   "id": "235c0ac3",
   "metadata": {},
   "outputs": [],
   "source": [
    "import numpy as np"
   ]
  },
  {
   "cell_type": "code",
   "execution_count": 6,
   "id": "669d332d",
   "metadata": {},
   "outputs": [],
   "source": [
    "arr = np.array([1, 2, 3, 4, 5, 6.4])"
   ]
  },
  {
   "cell_type": "markdown",
   "id": "bd5d3872",
   "metadata": {},
   "source": [
    "Sadece 1 tane float olmasina ragmen butun elemanlari int'den float'a convert etti."
   ]
  },
  {
   "cell_type": "code",
   "execution_count": 20,
   "id": "879d9dbf",
   "metadata": {},
   "outputs": [
    {
     "data": {
      "text/plain": [
       "array([1. , 2. , 3. , 4. , 5. , 6.4])"
      ]
     },
     "execution_count": 20,
     "metadata": {},
     "output_type": "execute_result"
    }
   ],
   "source": [
    "arr"
   ]
  },
  {
   "cell_type": "markdown",
   "id": "c9d41876",
   "metadata": {},
   "source": [
    "Usttekiyle ayni dizi ancak biz hangi tipte olacagini manuel verdik"
   ]
  },
  {
   "cell_type": "code",
   "execution_count": 21,
   "id": "4fdfed3f",
   "metadata": {},
   "outputs": [],
   "source": [
    "arr2 = np.array([1, 2, 3, 4, 5, 6.4], dtype='int32')"
   ]
  },
  {
   "cell_type": "code",
   "execution_count": 22,
   "id": "cc2f6d31",
   "metadata": {},
   "outputs": [
    {
     "data": {
      "text/plain": [
       "array([1, 2, 3, 4, 5, 6])"
      ]
     },
     "execution_count": 22,
     "metadata": {},
     "output_type": "execute_result"
    }
   ],
   "source": [
    "arr2"
   ]
  },
  {
   "cell_type": "code",
   "execution_count": 23,
   "id": "f5de0418",
   "metadata": {},
   "outputs": [],
   "source": [
    "x = np.array(['4.2'], dtype = 'float')"
   ]
  },
  {
   "cell_type": "code",
   "execution_count": 37,
   "id": "eaea9f0e",
   "metadata": {
    "scrolled": false
   },
   "outputs": [
    {
     "data": {
      "text/plain": [
       "array([4.2])"
      ]
     },
     "execution_count": 37,
     "metadata": {},
     "output_type": "execute_result"
    }
   ],
   "source": [
    "x"
   ]
  },
  {
   "cell_type": "code",
   "execution_count": null,
   "id": "1369d6e1",
   "metadata": {},
   "outputs": [],
   "source": []
  }
 ],
 "metadata": {
  "kernelspec": {
   "display_name": "Python 3 (ipykernel)",
   "language": "python",
   "name": "python3"
  },
  "language_info": {
   "codemirror_mode": {
    "name": "ipython",
    "version": 3
   },
   "file_extension": ".py",
   "mimetype": "text/x-python",
   "name": "python",
   "nbconvert_exporter": "python",
   "pygments_lexer": "ipython3",
   "version": "3.9.5"
  }
 },
 "nbformat": 4,
 "nbformat_minor": 5
}
