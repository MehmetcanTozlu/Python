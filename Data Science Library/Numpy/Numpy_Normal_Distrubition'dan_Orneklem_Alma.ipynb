{
 "cells": [
  {
   "cell_type": "markdown",
   "id": "73de50de",
   "metadata": {},
   "source": [
    "# Normal Dagilimdan Orneklem Alalim"
   ]
  },
  {
   "cell_type": "markdown",
   "id": "951a42fc",
   "metadata": {},
   "source": [
    "#### mean, standart sapma(std - standard deviation), array size(row, column)"
   ]
  },
  {
   "cell_type": "code",
   "execution_count": 1,
   "id": "75a17658",
   "metadata": {},
   "outputs": [],
   "source": [
    "import numpy as np"
   ]
  },
  {
   "cell_type": "markdown",
   "id": "268bd307",
   "metadata": {},
   "source": [
    "Ortalamasi = 1, Standart Sapmasi = 2, 5*4'luk bir matris olustur."
   ]
  },
  {
   "cell_type": "code",
   "execution_count": 2,
   "id": "e644a55b",
   "metadata": {},
   "outputs": [
    {
     "data": {
      "text/plain": [
       "array([[ 3.128308  ,  2.01598822,  1.35376823, -2.39179236],\n",
       "       [ 3.49435984, -0.43065318,  1.64382068,  4.46141517],\n",
       "       [ 3.64183191,  3.08397424,  1.75517307,  2.67145661],\n",
       "       [ 1.21779396,  1.39032502, -2.39731586, -0.46700406],\n",
       "       [ 0.07868838, -1.19123628, -0.89106149,  2.05131812]])"
      ]
     },
     "execution_count": 2,
     "metadata": {},
     "output_type": "execute_result"
    }
   ],
   "source": [
    "np.random.normal(1, 2, (5, 4))"
   ]
  },
  {
   "cell_type": "markdown",
   "id": "86574dec",
   "metadata": {},
   "source": [
    "## Array Attributes"
   ]
  },
  {
   "cell_type": "code",
   "execution_count": 27,
   "id": "289ad84e",
   "metadata": {},
   "outputs": [],
   "source": [
    "x = np.zeros((4, 7))"
   ]
  },
  {
   "cell_type": "code",
   "execution_count": 28,
   "id": "a5ed95bf",
   "metadata": {},
   "outputs": [
    {
     "data": {
      "text/plain": [
       "array([[0., 0., 0., 0., 0., 0., 0.],\n",
       "       [0., 0., 0., 0., 0., 0., 0.],\n",
       "       [0., 0., 0., 0., 0., 0., 0.],\n",
       "       [0., 0., 0., 0., 0., 0., 0.]])"
      ]
     },
     "execution_count": 28,
     "metadata": {},
     "output_type": "execute_result"
    }
   ],
   "source": [
    "x"
   ]
  },
  {
   "cell_type": "code",
   "execution_count": 29,
   "id": "dec704c6",
   "metadata": {},
   "outputs": [
    {
     "data": {
      "text/plain": [
       "(4, 7)"
      ]
     },
     "execution_count": 29,
     "metadata": {},
     "output_type": "execute_result"
    }
   ],
   "source": [
    "x.shape"
   ]
  },
  {
   "cell_type": "markdown",
   "id": "2fa9b03c",
   "metadata": {},
   "source": [
    "2 tane 3*5'lik multi dimensional array olusturduk"
   ]
  },
  {
   "cell_type": "code",
   "execution_count": 30,
   "id": "5a60c8e0",
   "metadata": {},
   "outputs": [],
   "source": [
    "y = np.zeros((2, 3, 5))"
   ]
  },
  {
   "cell_type": "code",
   "execution_count": 31,
   "id": "1b24df1a",
   "metadata": {},
   "outputs": [
    {
     "data": {
      "text/plain": [
       "array([[[0., 0., 0., 0., 0.],\n",
       "        [0., 0., 0., 0., 0.],\n",
       "        [0., 0., 0., 0., 0.]],\n",
       "\n",
       "       [[0., 0., 0., 0., 0.],\n",
       "        [0., 0., 0., 0., 0.],\n",
       "        [0., 0., 0., 0., 0.]]])"
      ]
     },
     "execution_count": 31,
     "metadata": {},
     "output_type": "execute_result"
    }
   ],
   "source": [
    "y"
   ]
  },
  {
   "cell_type": "code",
   "execution_count": 32,
   "id": "44659c8e",
   "metadata": {},
   "outputs": [
    {
     "data": {
      "text/plain": [
       "(2, 3, 5)"
      ]
     },
     "execution_count": 32,
     "metadata": {},
     "output_type": "execute_result"
    }
   ],
   "source": [
    "y.shape"
   ]
  },
  {
   "cell_type": "markdown",
   "id": "20ac9f54",
   "metadata": {},
   "source": [
    "x'in kac tane parametre ile matrix olusturuldugunu verir. (4, 7)"
   ]
  },
  {
   "cell_type": "code",
   "execution_count": 33,
   "id": "55e7ca72",
   "metadata": {},
   "outputs": [
    {
     "data": {
      "text/plain": [
       "2"
      ]
     },
     "execution_count": 33,
     "metadata": {},
     "output_type": "execute_result"
    }
   ],
   "source": [
    "x.ndim"
   ]
  },
  {
   "cell_type": "markdown",
   "id": "753a383a",
   "metadata": {},
   "source": [
    "y'nin kac tane parametre ile matrix olusturuldugunu verir. (2, 3, 5)"
   ]
  },
  {
   "cell_type": "code",
   "execution_count": 34,
   "id": "5993381b",
   "metadata": {},
   "outputs": [
    {
     "data": {
      "text/plain": [
       "3"
      ]
     },
     "execution_count": 34,
     "metadata": {},
     "output_type": "execute_result"
    }
   ],
   "source": [
    "y.ndim"
   ]
  }
 ],
 "metadata": {
  "kernelspec": {
   "display_name": "Python 3 (ipykernel)",
   "language": "python",
   "name": "python3"
  },
  "language_info": {
   "codemirror_mode": {
    "name": "ipython",
    "version": 3
   },
   "file_extension": ".py",
   "mimetype": "text/x-python",
   "name": "python",
   "nbconvert_exporter": "python",
   "pygments_lexer": "ipython3",
   "version": "3.9.5"
  }
 },
 "nbformat": 4,
 "nbformat_minor": 5
}
