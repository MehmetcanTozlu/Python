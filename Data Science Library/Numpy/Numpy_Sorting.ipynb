{
 "cells": [
  {
   "cell_type": "markdown",
   "id": "9f5bc0f1",
   "metadata": {},
   "source": [
    "# Sorting(Siralama)"
   ]
  },
  {
   "cell_type": "code",
   "execution_count": 1,
   "id": "0ed1a752",
   "metadata": {},
   "outputs": [],
   "source": [
    "import numpy as np"
   ]
  },
  {
   "cell_type": "code",
   "execution_count": 2,
   "id": "e466faf2",
   "metadata": {},
   "outputs": [],
   "source": [
    "a = np.array([20, 30, 10, 5, 40, 60])"
   ]
  },
  {
   "cell_type": "code",
   "execution_count": 3,
   "id": "402ec9f7",
   "metadata": {},
   "outputs": [
    {
     "data": {
      "text/plain": [
       "array([20, 30, 10,  5, 40, 60])"
      ]
     },
     "execution_count": 3,
     "metadata": {},
     "output_type": "execute_result"
    }
   ],
   "source": [
    "a"
   ]
  },
  {
   "cell_type": "markdown",
   "id": "0fab13f9",
   "metadata": {},
   "source": [
    "Bu np.sort(a) kod satiri a array'ini kalici siralamaz!!!"
   ]
  },
  {
   "cell_type": "code",
   "execution_count": 6,
   "id": "6e74838f",
   "metadata": {},
   "outputs": [
    {
     "data": {
      "text/plain": [
       "array([ 5, 10, 20, 30, 40, 60])"
      ]
     },
     "execution_count": 6,
     "metadata": {},
     "output_type": "execute_result"
    }
   ],
   "source": [
    "np.sort(a)"
   ]
  },
  {
   "cell_type": "code",
   "execution_count": 7,
   "id": "f3b690ce",
   "metadata": {},
   "outputs": [
    {
     "data": {
      "text/plain": [
       "array([20, 30, 10,  5, 40, 60])"
      ]
     },
     "execution_count": 7,
     "metadata": {},
     "output_type": "execute_result"
    }
   ],
   "source": [
    "a"
   ]
  },
  {
   "cell_type": "code",
   "execution_count": 8,
   "id": "c4e4fccd",
   "metadata": {},
   "outputs": [],
   "source": [
    "a.sort()"
   ]
  },
  {
   "cell_type": "code",
   "execution_count": 9,
   "id": "e6c268ab",
   "metadata": {},
   "outputs": [
    {
     "data": {
      "text/plain": [
       "array([ 5, 10, 20, 30, 40, 60])"
      ]
     },
     "execution_count": 9,
     "metadata": {},
     "output_type": "execute_result"
    }
   ],
   "source": [
    "a"
   ]
  },
  {
   "cell_type": "markdown",
   "id": "4dc027f0",
   "metadata": {},
   "source": [
    "#### np.sort(a) -> a'yi kalici guncellemez!\n",
    "#### a.sort() -> a'yi kalici gunceller"
   ]
  },
  {
   "cell_type": "markdown",
   "id": "cea1b474",
   "metadata": {},
   "source": [
    "## argsort\n",
    "\n",
    "#### a'yi siralar ancak siraladiktan sonra index'lerini dondurur"
   ]
  },
  {
   "cell_type": "code",
   "execution_count": 14,
   "id": "c0d259d8",
   "metadata": {},
   "outputs": [],
   "source": [
    "a = np.array([2, 4, 1, 2, 5, 7])"
   ]
  },
  {
   "cell_type": "code",
   "execution_count": 15,
   "id": "efa1b8a0",
   "metadata": {},
   "outputs": [
    {
     "data": {
      "text/plain": [
       "array([2, 4, 1, 2, 5, 7])"
      ]
     },
     "execution_count": 15,
     "metadata": {},
     "output_type": "execute_result"
    }
   ],
   "source": [
    "a"
   ]
  },
  {
   "cell_type": "markdown",
   "id": "bd92add5",
   "metadata": {},
   "source": [
    "##### 1 -> 2. index\n",
    "##### 2 -> 0. index\n",
    "##### 2 -> 3. index\n",
    "##### 4 -> 1. index\n",
    "##### 5 -> 4. index\n",
    "##### 7 -> 5. index\n",
    "\n",
    "### goruldugu gibi degerleri siraladi ve original array'deki sayilarin bulunduklari indexlerini dondurdu"
   ]
  },
  {
   "cell_type": "code",
   "execution_count": 16,
   "id": "3b8d94a5",
   "metadata": {},
   "outputs": [
    {
     "data": {
      "text/plain": [
       "array([2, 0, 3, 1, 4, 5], dtype=int64)"
      ]
     },
     "execution_count": 16,
     "metadata": {},
     "output_type": "execute_result"
    }
   ],
   "source": [
    "a.argsort()"
   ]
  },
  {
   "cell_type": "code",
   "execution_count": null,
   "id": "bd5cba7b",
   "metadata": {},
   "outputs": [],
   "source": []
  }
 ],
 "metadata": {
  "kernelspec": {
   "display_name": "Python 3 (ipykernel)",
   "language": "python",
   "name": "python3"
  },
  "language_info": {
   "codemirror_mode": {
    "name": "ipython",
    "version": 3
   },
   "file_extension": ".py",
   "mimetype": "text/x-python",
   "name": "python",
   "nbconvert_exporter": "python",
   "pygments_lexer": "ipython3",
   "version": "3.9.5"
  }
 },
 "nbformat": 4,
 "nbformat_minor": 5
}
