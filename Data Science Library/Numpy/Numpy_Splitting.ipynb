{
 "cells": [
  {
   "cell_type": "markdown",
   "id": "91797ca6",
   "metadata": {},
   "source": [
    "# Splitting"
   ]
  },
  {
   "cell_type": "code",
   "execution_count": 1,
   "id": "3778a49c",
   "metadata": {},
   "outputs": [],
   "source": [
    "import numpy as np"
   ]
  },
  {
   "cell_type": "code",
   "execution_count": 12,
   "id": "41bfd4f9",
   "metadata": {},
   "outputs": [],
   "source": [
    "arr = np.array([0, 1, 2, 3, 4, 5, 6, 7, 8, 9])"
   ]
  },
  {
   "cell_type": "code",
   "execution_count": 13,
   "id": "9154771c",
   "metadata": {},
   "outputs": [
    {
     "data": {
      "text/plain": [
       "array([0, 1, 2, 3, 4, 5, 6, 7, 8, 9])"
      ]
     },
     "execution_count": 13,
     "metadata": {},
     "output_type": "execute_result"
    }
   ],
   "source": [
    "arr"
   ]
  },
  {
   "cell_type": "markdown",
   "id": "1f68c8f7",
   "metadata": {},
   "source": [
    "### split metodu bir arrayi veya listeyi parcalamaya/bolmeye yarar"
   ]
  },
  {
   "cell_type": "markdown",
   "id": "7227195e",
   "metadata": {},
   "source": [
    "arr dizisinin 3. indisinin basina bir centik at ve 5. indisinin basina bir centik at"
   ]
  },
  {
   "cell_type": "code",
   "execution_count": 14,
   "id": "a9d5d8e2",
   "metadata": {},
   "outputs": [
    {
     "data": {
      "text/plain": [
       "[array([0, 1, 2]), array([3, 4]), array([5, 6, 7, 8, 9])]"
      ]
     },
     "execution_count": 14,
     "metadata": {},
     "output_type": "execute_result"
    }
   ],
   "source": [
    "np.split(arr, [3, 5]) # 3 ve 5 index degeleri"
   ]
  },
  {
   "cell_type": "markdown",
   "id": "5134655d",
   "metadata": {},
   "source": [
    "## Split'in sonucunu baska bir degiskene esitleme"
   ]
  },
  {
   "cell_type": "code",
   "execution_count": 15,
   "id": "a19dc6db",
   "metadata": {},
   "outputs": [],
   "source": [
    "a, b = (1, 10)"
   ]
  },
  {
   "cell_type": "code",
   "execution_count": 24,
   "id": "8b28084e",
   "metadata": {},
   "outputs": [
    {
     "name": "stdout",
     "output_type": "stream",
     "text": [
      "1\n",
      "10\n"
     ]
    }
   ],
   "source": [
    "print(a)\n",
    "print(b)"
   ]
  },
  {
   "cell_type": "code",
   "execution_count": 28,
   "id": "567b09aa",
   "metadata": {},
   "outputs": [],
   "source": [
    "x, y, z = np.split(arr, [4, 6])"
   ]
  },
  {
   "cell_type": "code",
   "execution_count": 29,
   "id": "6c3a6db8",
   "metadata": {},
   "outputs": [
    {
     "name": "stdout",
     "output_type": "stream",
     "text": [
      "[0 1 2 3]\n",
      "[4 5]\n",
      "[6 7 8 9]\n"
     ]
    }
   ],
   "source": [
    "print(x)\n",
    "print(y)\n",
    "print(z)"
   ]
  },
  {
   "cell_type": "markdown",
   "id": "3913ed79",
   "metadata": {},
   "source": [
    "## VSplit(Vertical Split)"
   ]
  },
  {
   "cell_type": "markdown",
   "id": "07fafe5a",
   "metadata": {},
   "source": [
    "0'dan 20'ye kadar sirali liste olustur ve bunu da(reshape(2, 10)) 2*10'luk bir matrix yap"
   ]
  },
  {
   "cell_type": "code",
   "execution_count": 38,
   "id": "90db1152",
   "metadata": {},
   "outputs": [
    {
     "data": {
      "text/plain": [
       "array([[ 0,  1,  2,  3,  4,  5,  6,  7,  8,  9],\n",
       "       [10, 11, 12, 13, 14, 15, 16, 17, 18, 19]])"
      ]
     },
     "execution_count": 38,
     "metadata": {},
     "output_type": "execute_result"
    }
   ],
   "source": [
    "a = np.arange(20).reshape(2, 10)\n",
    "a"
   ]
  },
  {
   "cell_type": "code",
   "execution_count": 45,
   "id": "87fa7a97",
   "metadata": {},
   "outputs": [
    {
     "data": {
      "text/plain": [
       "[array([[0, 1, 2, 3, 4, 5, 6, 7, 8, 9]]),\n",
       " array([[10, 11, 12, 13, 14, 15, 16, 17, 18, 19]])]"
      ]
     },
     "execution_count": 45,
     "metadata": {},
     "output_type": "execute_result"
    }
   ],
   "source": [
    "np.vsplit(a, [1])"
   ]
  },
  {
   "cell_type": "code",
   "execution_count": 53,
   "id": "b0b1a41a",
   "metadata": {},
   "outputs": [
    {
     "data": {
      "text/plain": [
       "array([[0, 1, 2, 3, 4, 5, 6, 7, 8, 9]])"
      ]
     },
     "execution_count": 53,
     "metadata": {},
     "output_type": "execute_result"
    }
   ],
   "source": [
    "np.vsplit(a, [1])[0]"
   ]
  },
  {
   "cell_type": "markdown",
   "id": "9b8eb6ca",
   "metadata": {},
   "source": [
    "## HSplit(Horizontal Split)"
   ]
  },
  {
   "cell_type": "code",
   "execution_count": 54,
   "id": "be8fc5a8",
   "metadata": {},
   "outputs": [
    {
     "data": {
      "text/plain": [
       "array([[ 0,  1,  2,  3,  4,  5,  6,  7,  8,  9],\n",
       "       [10, 11, 12, 13, 14, 15, 16, 17, 18, 19]])"
      ]
     },
     "execution_count": 54,
     "metadata": {},
     "output_type": "execute_result"
    }
   ],
   "source": [
    "a"
   ]
  },
  {
   "cell_type": "code",
   "execution_count": 65,
   "id": "0c9c850f",
   "metadata": {},
   "outputs": [
    {
     "data": {
      "text/plain": [
       "[array([[ 0,  1,  2,  3],\n",
       "        [10, 11, 12, 13]]),\n",
       " array([[ 4,  5,  6,  7,  8,  9],\n",
       "        [14, 15, 16, 17, 18, 19]])]"
      ]
     },
     "execution_count": 65,
     "metadata": {},
     "output_type": "execute_result"
    }
   ],
   "source": [
    "np.hsplit(a, [4])"
   ]
  },
  {
   "cell_type": "code",
   "execution_count": 73,
   "id": "14740c30",
   "metadata": {},
   "outputs": [
    {
     "data": {
      "text/plain": [
       "array([[ 3,  4,  5,  6,  7,  8,  9],\n",
       "       [13, 14, 15, 16, 17, 18, 19]])"
      ]
     },
     "execution_count": 73,
     "metadata": {},
     "output_type": "execute_result"
    }
   ],
   "source": [
    "np.hsplit(a, [3])[1]"
   ]
  },
  {
   "cell_type": "code",
   "execution_count": null,
   "id": "1a7cd6c6",
   "metadata": {},
   "outputs": [],
   "source": []
  }
 ],
 "metadata": {
  "kernelspec": {
   "display_name": "Python 3 (ipykernel)",
   "language": "python",
   "name": "python3"
  },
  "language_info": {
   "codemirror_mode": {
    "name": "ipython",
    "version": 3
   },
   "file_extension": ".py",
   "mimetype": "text/x-python",
   "name": "python",
   "nbconvert_exporter": "python",
   "pygments_lexer": "ipython3",
   "version": "3.9.5"
  }
 },
 "nbformat": 4,
 "nbformat_minor": 5
}
