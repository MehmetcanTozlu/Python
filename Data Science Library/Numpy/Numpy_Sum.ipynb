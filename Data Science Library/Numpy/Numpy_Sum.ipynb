{
 "cells": [
  {
   "cell_type": "markdown",
   "id": "a5b38cf4",
   "metadata": {},
   "source": [
    "# SUM\n",
    "\n",
    "Array icindeki value'leri toplar."
   ]
  },
  {
   "cell_type": "code",
   "execution_count": 2,
   "id": "145bbf67",
   "metadata": {},
   "outputs": [],
   "source": [
    "import numpy as np"
   ]
  },
  {
   "cell_type": "code",
   "execution_count": 3,
   "id": "3ea04fb4",
   "metadata": {},
   "outputs": [],
   "source": [
    "arr = np.arange(1, 21).reshape(4,5)"
   ]
  },
  {
   "cell_type": "code",
   "execution_count": 4,
   "id": "9fd48825",
   "metadata": {},
   "outputs": [
    {
     "data": {
      "text/plain": [
       "array([[ 1,  2,  3,  4,  5],\n",
       "       [ 6,  7,  8,  9, 10],\n",
       "       [11, 12, 13, 14, 15],\n",
       "       [16, 17, 18, 19, 20]])"
      ]
     },
     "execution_count": 4,
     "metadata": {},
     "output_type": "execute_result"
    }
   ],
   "source": [
    "arr"
   ]
  },
  {
   "cell_type": "code",
   "execution_count": 5,
   "id": "216118df",
   "metadata": {},
   "outputs": [
    {
     "data": {
      "text/plain": [
       "210"
      ]
     },
     "execution_count": 5,
     "metadata": {},
     "output_type": "execute_result"
    }
   ],
   "source": [
    "np.sum(arr)"
   ]
  },
  {
   "cell_type": "markdown",
   "id": "1ac84728",
   "metadata": {},
   "source": [
    "5'den kucuk arr Array'indeki degerleri toplattik."
   ]
  },
  {
   "cell_type": "code",
   "execution_count": 8,
   "id": "fa8c47c0",
   "metadata": {},
   "outputs": [
    {
     "data": {
      "text/plain": [
       "10"
      ]
     },
     "execution_count": 8,
     "metadata": {},
     "output_type": "execute_result"
    }
   ],
   "source": [
    "np.sum(arr[arr < 5])"
   ]
  },
  {
   "cell_type": "markdown",
   "id": "4d1d647c",
   "metadata": {},
   "source": [
    "## Belirli Axis Uzerinde Sum Operatorunu Kullanmak"
   ]
  },
  {
   "cell_type": "code",
   "execution_count": 9,
   "id": "d30f6610",
   "metadata": {},
   "outputs": [
    {
     "data": {
      "text/plain": [
       "array([[ 1,  2,  3,  4,  5],\n",
       "       [ 6,  7,  8,  9, 10],\n",
       "       [11, 12, 13, 14, 15],\n",
       "       [16, 17, 18, 19, 20]])"
      ]
     },
     "execution_count": 9,
     "metadata": {},
     "output_type": "execute_result"
    }
   ],
   "source": [
    "arr"
   ]
  },
  {
   "cell_type": "markdown",
   "id": "57037984",
   "metadata": {},
   "source": [
    "### axis=0  ->  Vertical(Dikey) Olarak Toplar\n",
    "\n",
    "### axis=1  ->  Hotizontal(Yatay) Olarak Toplar"
   ]
  },
  {
   "cell_type": "code",
   "execution_count": 31,
   "id": "397a3d26",
   "metadata": {},
   "outputs": [
    {
     "data": {
      "text/plain": [
       "array([34, 38, 42, 46, 50])"
      ]
     },
     "execution_count": 31,
     "metadata": {},
     "output_type": "execute_result"
    }
   ],
   "source": [
    "np.sum(arr, axis=0) # Vertical-Dikey"
   ]
  },
  {
   "cell_type": "code",
   "execution_count": 32,
   "id": "5ab68603",
   "metadata": {},
   "outputs": [
    {
     "data": {
      "text/plain": [
       "array([15, 40, 65, 90])"
      ]
     },
     "execution_count": 32,
     "metadata": {},
     "output_type": "execute_result"
    }
   ],
   "source": [
    "np.sum(arr, axis=1) # Horizontal-Yatay"
   ]
  },
  {
   "cell_type": "markdown",
   "id": "0a234a8e",
   "metadata": {},
   "source": [
    "6+1 = 7,   7+2 = 9"
   ]
  },
  {
   "cell_type": "code",
   "execution_count": 33,
   "id": "01499bbc",
   "metadata": {},
   "outputs": [
    {
     "data": {
      "text/plain": [
       "array([7, 9])"
      ]
     },
     "execution_count": 33,
     "metadata": {},
     "output_type": "execute_result"
    }
   ],
   "source": [
    "np.sum(arr[:2, :2], axis=0)"
   ]
  },
  {
   "cell_type": "markdown",
   "id": "a6f6999e",
   "metadata": {},
   "source": [
    "# Prod\n",
    "\n",
    "Array uzerinde multiplication islemi yapar"
   ]
  },
  {
   "cell_type": "code",
   "execution_count": 4,
   "id": "3b2e2d21",
   "metadata": {},
   "outputs": [],
   "source": [
    "arr2 = np.arange(1, 11).reshape(2,5)"
   ]
  },
  {
   "cell_type": "code",
   "execution_count": 5,
   "id": "817237eb",
   "metadata": {},
   "outputs": [
    {
     "data": {
      "text/plain": [
       "array([[ 1,  2,  3,  4,  5],\n",
       "       [ 6,  7,  8,  9, 10]])"
      ]
     },
     "execution_count": 5,
     "metadata": {},
     "output_type": "execute_result"
    }
   ],
   "source": [
    "arr2"
   ]
  },
  {
   "cell_type": "code",
   "execution_count": 48,
   "id": "307a923b",
   "metadata": {
    "scrolled": true
   },
   "outputs": [
    {
     "data": {
      "text/plain": [
       "3628800"
      ]
     },
     "execution_count": 48,
     "metadata": {},
     "output_type": "execute_result"
    }
   ],
   "source": [
    "np.prod(arr2)"
   ]
  },
  {
   "cell_type": "markdown",
   "id": "46ddd4c0",
   "metadata": {},
   "source": [
    "## Belirli Axis'ler uzerinde Prod Operatoru"
   ]
  },
  {
   "cell_type": "code",
   "execution_count": 49,
   "id": "800359b4",
   "metadata": {},
   "outputs": [
    {
     "data": {
      "text/plain": [
       "array([ 6, 14, 24, 36, 50])"
      ]
     },
     "execution_count": 49,
     "metadata": {},
     "output_type": "execute_result"
    }
   ],
   "source": [
    "np.prod(arr2, axis=0)"
   ]
  },
  {
   "cell_type": "code",
   "execution_count": 50,
   "id": "a44d1273",
   "metadata": {},
   "outputs": [
    {
     "data": {
      "text/plain": [
       "array([  120, 30240])"
      ]
     },
     "execution_count": 50,
     "metadata": {},
     "output_type": "execute_result"
    }
   ],
   "source": [
    "np.prod(arr2, axis=1)"
   ]
  },
  {
   "cell_type": "code",
   "execution_count": null,
   "id": "804a9444",
   "metadata": {},
   "outputs": [],
   "source": []
  }
 ],
 "metadata": {
  "kernelspec": {
   "display_name": "Python 3 (ipykernel)",
   "language": "python",
   "name": "python3"
  },
  "language_info": {
   "codemirror_mode": {
    "name": "ipython",
    "version": 3
   },
   "file_extension": ".py",
   "mimetype": "text/x-python",
   "name": "python",
   "nbconvert_exporter": "python",
   "pygments_lexer": "ipython3",
   "version": "3.9.5"
  }
 },
 "nbformat": 4,
 "nbformat_minor": 5
}
