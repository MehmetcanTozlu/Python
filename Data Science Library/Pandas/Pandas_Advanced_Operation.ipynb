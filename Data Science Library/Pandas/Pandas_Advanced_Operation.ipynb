{
 "cells": [
  {
   "cell_type": "markdown",
   "id": "49f2c67c",
   "metadata": {},
   "source": [
    "# Advanced Operation(Ileri Operasyonlar)"
   ]
  },
  {
   "cell_type": "code",
   "execution_count": 1,
   "id": "6f51a905",
   "metadata": {},
   "outputs": [],
   "source": [
    "import numpy as np"
   ]
  },
  {
   "cell_type": "code",
   "execution_count": 2,
   "id": "bd6c4c30",
   "metadata": {},
   "outputs": [],
   "source": [
    "import pandas as pd"
   ]
  },
  {
   "cell_type": "code",
   "execution_count": 23,
   "id": "35cd8bf8",
   "metadata": {},
   "outputs": [],
   "source": [
    "maasData = {'Isim':['Ali', 'Ayse', 'Zeynep', 'Muzeyyen'],\n",
    "           'Departman':['Yazilim', 'Satis', 'Pazarlama', 'Yazilim'],\n",
    "           'Maas':[300, 500, 250, 100]}"
   ]
  },
  {
   "cell_type": "code",
   "execution_count": 24,
   "id": "e9bac1fa",
   "metadata": {},
   "outputs": [],
   "source": [
    "maasDataFrame = pd.DataFrame(data=maasData, index=[0,1,2,3])"
   ]
  },
  {
   "cell_type": "code",
   "execution_count": 25,
   "id": "8bb504b3",
   "metadata": {},
   "outputs": [
    {
     "data": {
      "text/html": [
       "<div>\n",
       "<style scoped>\n",
       "    .dataframe tbody tr th:only-of-type {\n",
       "        vertical-align: middle;\n",
       "    }\n",
       "\n",
       "    .dataframe tbody tr th {\n",
       "        vertical-align: top;\n",
       "    }\n",
       "\n",
       "    .dataframe thead th {\n",
       "        text-align: right;\n",
       "    }\n",
       "</style>\n",
       "<table border=\"1\" class=\"dataframe\">\n",
       "  <thead>\n",
       "    <tr style=\"text-align: right;\">\n",
       "      <th></th>\n",
       "      <th>Isim</th>\n",
       "      <th>Departman</th>\n",
       "      <th>Maas</th>\n",
       "    </tr>\n",
       "  </thead>\n",
       "  <tbody>\n",
       "    <tr>\n",
       "      <th>0</th>\n",
       "      <td>Ali</td>\n",
       "      <td>Yazilim</td>\n",
       "      <td>300</td>\n",
       "    </tr>\n",
       "    <tr>\n",
       "      <th>1</th>\n",
       "      <td>Ayse</td>\n",
       "      <td>Satis</td>\n",
       "      <td>500</td>\n",
       "    </tr>\n",
       "    <tr>\n",
       "      <th>2</th>\n",
       "      <td>Zeynep</td>\n",
       "      <td>Pazarlama</td>\n",
       "      <td>250</td>\n",
       "    </tr>\n",
       "    <tr>\n",
       "      <th>3</th>\n",
       "      <td>Muzeyyen</td>\n",
       "      <td>Yazilim</td>\n",
       "      <td>100</td>\n",
       "    </tr>\n",
       "  </tbody>\n",
       "</table>\n",
       "</div>"
      ],
      "text/plain": [
       "       Isim  Departman  Maas\n",
       "0       Ali    Yazilim   300\n",
       "1      Ayse      Satis   500\n",
       "2    Zeynep  Pazarlama   250\n",
       "3  Muzeyyen    Yazilim   100"
      ]
     },
     "execution_count": 25,
     "metadata": {},
     "output_type": "execute_result"
    }
   ],
   "source": [
    "maasDataFrame"
   ]
  },
  {
   "cell_type": "markdown",
   "id": "2e6a6632",
   "metadata": {},
   "source": [
    "## Unique();\n",
    "### Value alanina girilen Column veya Row degeri benzersiz olanlari getirir."
   ]
  },
  {
   "cell_type": "code",
   "execution_count": 26,
   "id": "2ff89838",
   "metadata": {},
   "outputs": [
    {
     "data": {
      "text/plain": [
       "array(['Yazilim', 'Satis', 'Pazarlama'], dtype=object)"
      ]
     },
     "execution_count": 26,
     "metadata": {},
     "output_type": "execute_result"
    }
   ],
   "source": [
    "maasDataFrame['Departman'].unique()"
   ]
  },
  {
   "cell_type": "markdown",
   "id": "bac6dbe1",
   "metadata": {},
   "source": [
    "### Nunique();\n",
    "Benzersiz kac tane data old. getirir."
   ]
  },
  {
   "cell_type": "code",
   "execution_count": 27,
   "id": "0231fc55",
   "metadata": {},
   "outputs": [
    {
     "data": {
      "text/plain": [
       "3"
      ]
     },
     "execution_count": 27,
     "metadata": {},
     "output_type": "execute_result"
    }
   ],
   "source": [
    "maasDataFrame['Departman'].nunique()"
   ]
  },
  {
   "cell_type": "markdown",
   "id": "72ddf50a",
   "metadata": {},
   "source": [
    "## Value_Counts();\n",
    "### Belirli Row veya Column'dan toplam kac tane deger old. getirir."
   ]
  },
  {
   "cell_type": "code",
   "execution_count": 28,
   "id": "fdb727e4",
   "metadata": {},
   "outputs": [
    {
     "data": {
      "text/plain": [
       "Yazilim      2\n",
       "Satis        1\n",
       "Pazarlama    1\n",
       "Name: Departman, dtype: int64"
      ]
     },
     "execution_count": 28,
     "metadata": {},
     "output_type": "execute_result"
    }
   ],
   "source": [
    "maasDataFrame['Departman'].value_counts()"
   ]
  },
  {
   "cell_type": "code",
   "execution_count": 29,
   "id": "dd97e6a3",
   "metadata": {},
   "outputs": [
    {
     "data": {
      "text/html": [
       "<div>\n",
       "<style scoped>\n",
       "    .dataframe tbody tr th:only-of-type {\n",
       "        vertical-align: middle;\n",
       "    }\n",
       "\n",
       "    .dataframe tbody tr th {\n",
       "        vertical-align: top;\n",
       "    }\n",
       "\n",
       "    .dataframe thead th {\n",
       "        text-align: right;\n",
       "    }\n",
       "</style>\n",
       "<table border=\"1\" class=\"dataframe\">\n",
       "  <thead>\n",
       "    <tr style=\"text-align: right;\">\n",
       "      <th></th>\n",
       "      <th>Isim</th>\n",
       "      <th>Departman</th>\n",
       "      <th>Maas</th>\n",
       "    </tr>\n",
       "  </thead>\n",
       "  <tbody>\n",
       "    <tr>\n",
       "      <th>0</th>\n",
       "      <td>Ali</td>\n",
       "      <td>Yazilim</td>\n",
       "      <td>300</td>\n",
       "    </tr>\n",
       "    <tr>\n",
       "      <th>1</th>\n",
       "      <td>Ayse</td>\n",
       "      <td>Satis</td>\n",
       "      <td>500</td>\n",
       "    </tr>\n",
       "    <tr>\n",
       "      <th>2</th>\n",
       "      <td>Zeynep</td>\n",
       "      <td>Pazarlama</td>\n",
       "      <td>250</td>\n",
       "    </tr>\n",
       "    <tr>\n",
       "      <th>3</th>\n",
       "      <td>Muzeyyen</td>\n",
       "      <td>Yazilim</td>\n",
       "      <td>100</td>\n",
       "    </tr>\n",
       "  </tbody>\n",
       "</table>\n",
       "</div>"
      ],
      "text/plain": [
       "       Isim  Departman  Maas\n",
       "0       Ali    Yazilim   300\n",
       "1      Ayse      Satis   500\n",
       "2    Zeynep  Pazarlama   250\n",
       "3  Muzeyyen    Yazilim   100"
      ]
     },
     "execution_count": 29,
     "metadata": {},
     "output_type": "execute_result"
    }
   ],
   "source": [
    "maasDataFrame"
   ]
  },
  {
   "cell_type": "markdown",
   "id": "f0818750",
   "metadata": {},
   "source": [
    "### Maas'in %66'sini bulmak istersek"
   ]
  },
  {
   "cell_type": "code",
   "execution_count": 30,
   "id": "4330f3ac",
   "metadata": {},
   "outputs": [],
   "source": [
    "def bruttenNete(maas):\n",
    "    return maas * 0.66"
   ]
  },
  {
   "cell_type": "markdown",
   "id": "e8c2a6df",
   "metadata": {},
   "source": [
    "#### apply(functionName);\n",
    "int degerleri bir fonksiyona yollayip isleme taabi tutmak istersek kullaniyoruz;"
   ]
  },
  {
   "cell_type": "code",
   "execution_count": 31,
   "id": "22dcd73a",
   "metadata": {},
   "outputs": [
    {
     "data": {
      "text/plain": [
       "0    198.0\n",
       "1    330.0\n",
       "2    165.0\n",
       "3     66.0\n",
       "Name: Maas, dtype: float64"
      ]
     },
     "execution_count": 31,
     "metadata": {},
     "output_type": "execute_result"
    }
   ],
   "source": [
    "maasDataFrame['Maas'].apply(bruttenNete)"
   ]
  },
  {
   "cell_type": "markdown",
   "id": "ea542d71",
   "metadata": {},
   "source": [
    "#### Data Frame'de Null deger var mi yok mu?"
   ]
  },
  {
   "cell_type": "code",
   "execution_count": 32,
   "id": "98a1f880",
   "metadata": {},
   "outputs": [
    {
     "data": {
      "text/html": [
       "<div>\n",
       "<style scoped>\n",
       "    .dataframe tbody tr th:only-of-type {\n",
       "        vertical-align: middle;\n",
       "    }\n",
       "\n",
       "    .dataframe tbody tr th {\n",
       "        vertical-align: top;\n",
       "    }\n",
       "\n",
       "    .dataframe thead th {\n",
       "        text-align: right;\n",
       "    }\n",
       "</style>\n",
       "<table border=\"1\" class=\"dataframe\">\n",
       "  <thead>\n",
       "    <tr style=\"text-align: right;\">\n",
       "      <th></th>\n",
       "      <th>Isim</th>\n",
       "      <th>Departman</th>\n",
       "      <th>Maas</th>\n",
       "    </tr>\n",
       "  </thead>\n",
       "  <tbody>\n",
       "    <tr>\n",
       "      <th>0</th>\n",
       "      <td>False</td>\n",
       "      <td>False</td>\n",
       "      <td>False</td>\n",
       "    </tr>\n",
       "    <tr>\n",
       "      <th>1</th>\n",
       "      <td>False</td>\n",
       "      <td>False</td>\n",
       "      <td>False</td>\n",
       "    </tr>\n",
       "    <tr>\n",
       "      <th>2</th>\n",
       "      <td>False</td>\n",
       "      <td>False</td>\n",
       "      <td>False</td>\n",
       "    </tr>\n",
       "    <tr>\n",
       "      <th>3</th>\n",
       "      <td>False</td>\n",
       "      <td>False</td>\n",
       "      <td>False</td>\n",
       "    </tr>\n",
       "  </tbody>\n",
       "</table>\n",
       "</div>"
      ],
      "text/plain": [
       "    Isim  Departman   Maas\n",
       "0  False      False  False\n",
       "1  False      False  False\n",
       "2  False      False  False\n",
       "3  False      False  False"
      ]
     },
     "execution_count": 32,
     "metadata": {},
     "output_type": "execute_result"
    }
   ],
   "source": [
    "maasDataFrame.isnull()"
   ]
  },
  {
   "cell_type": "code",
   "execution_count": null,
   "id": "8136103c",
   "metadata": {},
   "outputs": [],
   "source": []
  }
 ],
 "metadata": {
  "kernelspec": {
   "display_name": "Python 3 (ipykernel)",
   "language": "python",
   "name": "python3"
  },
  "language_info": {
   "codemirror_mode": {
    "name": "ipython",
    "version": 3
   },
   "file_extension": ".py",
   "mimetype": "text/x-python",
   "name": "python",
   "nbconvert_exporter": "python",
   "pygments_lexer": "ipython3",
   "version": "3.9.5"
  }
 },
 "nbformat": 4,
 "nbformat_minor": 5
}
