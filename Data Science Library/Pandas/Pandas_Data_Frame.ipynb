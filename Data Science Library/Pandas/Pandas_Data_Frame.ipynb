{
 "cells": [
  {
   "cell_type": "markdown",
   "id": "1d71e838",
   "metadata": {},
   "source": [
    "# Data Frame \n",
    "\n",
    "Datalara daha okunakli bir cerceve ekler."
   ]
  },
  {
   "cell_type": "code",
   "execution_count": 8,
   "id": "ca3db4f4",
   "metadata": {},
   "outputs": [],
   "source": [
    "import numpy as np"
   ]
  },
  {
   "cell_type": "code",
   "execution_count": 9,
   "id": "0f209382",
   "metadata": {},
   "outputs": [],
   "source": [
    "import pandas as pd"
   ]
  },
  {
   "cell_type": "code",
   "execution_count": 10,
   "id": "9bd5b2ee",
   "metadata": {},
   "outputs": [],
   "source": [
    "data = np.random.rand(4, 3)"
   ]
  },
  {
   "cell_type": "code",
   "execution_count": 11,
   "id": "7205e4cf",
   "metadata": {},
   "outputs": [
    {
     "data": {
      "text/plain": [
       "array([[0.49500299, 0.48461835, 0.97222177],\n",
       "       [0.8237544 , 0.67979387, 0.55664861],\n",
       "       [0.02355712, 0.40195634, 0.17097005],\n",
       "       [0.59617233, 0.85902269, 0.37687097]])"
      ]
     },
     "execution_count": 11,
     "metadata": {},
     "output_type": "execute_result"
    }
   ],
   "source": [
    "data"
   ]
  },
  {
   "cell_type": "code",
   "execution_count": 12,
   "id": "174d314a",
   "metadata": {},
   "outputs": [],
   "source": [
    "dataFrame = pd.DataFrame(data)"
   ]
  },
  {
   "cell_type": "code",
   "execution_count": 13,
   "id": "3cff481e",
   "metadata": {},
   "outputs": [
    {
     "data": {
      "text/html": [
       "<div>\n",
       "<style scoped>\n",
       "    .dataframe tbody tr th:only-of-type {\n",
       "        vertical-align: middle;\n",
       "    }\n",
       "\n",
       "    .dataframe tbody tr th {\n",
       "        vertical-align: top;\n",
       "    }\n",
       "\n",
       "    .dataframe thead th {\n",
       "        text-align: right;\n",
       "    }\n",
       "</style>\n",
       "<table border=\"1\" class=\"dataframe\">\n",
       "  <thead>\n",
       "    <tr style=\"text-align: right;\">\n",
       "      <th></th>\n",
       "      <th>0</th>\n",
       "      <th>1</th>\n",
       "      <th>2</th>\n",
       "    </tr>\n",
       "  </thead>\n",
       "  <tbody>\n",
       "    <tr>\n",
       "      <th>0</th>\n",
       "      <td>0.495003</td>\n",
       "      <td>0.484618</td>\n",
       "      <td>0.972222</td>\n",
       "    </tr>\n",
       "    <tr>\n",
       "      <th>1</th>\n",
       "      <td>0.823754</td>\n",
       "      <td>0.679794</td>\n",
       "      <td>0.556649</td>\n",
       "    </tr>\n",
       "    <tr>\n",
       "      <th>2</th>\n",
       "      <td>0.023557</td>\n",
       "      <td>0.401956</td>\n",
       "      <td>0.170970</td>\n",
       "    </tr>\n",
       "    <tr>\n",
       "      <th>3</th>\n",
       "      <td>0.596172</td>\n",
       "      <td>0.859023</td>\n",
       "      <td>0.376871</td>\n",
       "    </tr>\n",
       "  </tbody>\n",
       "</table>\n",
       "</div>"
      ],
      "text/plain": [
       "          0         1         2\n",
       "0  0.495003  0.484618  0.972222\n",
       "1  0.823754  0.679794  0.556649\n",
       "2  0.023557  0.401956  0.170970\n",
       "3  0.596172  0.859023  0.376871"
      ]
     },
     "execution_count": 13,
     "metadata": {},
     "output_type": "execute_result"
    }
   ],
   "source": [
    "dataFrame"
   ]
  },
  {
   "cell_type": "markdown",
   "id": "30b01246",
   "metadata": {},
   "source": [
    "#### index olarak cagirirsak column olarak sonuc dondurur."
   ]
  },
  {
   "cell_type": "code",
   "execution_count": 16,
   "id": "b8412d4a",
   "metadata": {},
   "outputs": [
    {
     "data": {
      "text/plain": [
       "0    0.495003\n",
       "1    0.823754\n",
       "2    0.023557\n",
       "3    0.596172\n",
       "Name: 0, dtype: float64"
      ]
     },
     "execution_count": 16,
     "metadata": {},
     "output_type": "execute_result"
    }
   ],
   "source": [
    "dataFrame[0]"
   ]
  },
  {
   "cell_type": "code",
   "execution_count": 17,
   "id": "366c7043",
   "metadata": {},
   "outputs": [
    {
     "data": {
      "text/plain": [
       "0    0.484618\n",
       "1    0.679794\n",
       "2    0.401956\n",
       "3    0.859023\n",
       "Name: 1, dtype: float64"
      ]
     },
     "execution_count": 17,
     "metadata": {},
     "output_type": "execute_result"
    }
   ],
   "source": [
    "dataFrame[1]"
   ]
  },
  {
   "cell_type": "code",
   "execution_count": 19,
   "id": "2ba0d708",
   "metadata": {},
   "outputs": [
    {
     "data": {
      "text/plain": [
       "pandas.core.series.Series"
      ]
     },
     "execution_count": 19,
     "metadata": {},
     "output_type": "execute_result"
    }
   ],
   "source": [
    "type(dataFrame[2])"
   ]
  },
  {
   "cell_type": "markdown",
   "id": "c9563139",
   "metadata": {},
   "source": [
    "### DataFrame(data, index, columns, dtypes(datatype), copy) value'lerini alir."
   ]
  },
  {
   "cell_type": "code",
   "execution_count": 28,
   "id": "a6822e6c",
   "metadata": {},
   "outputs": [],
   "source": [
    "dataFrame2 = pd.DataFrame(data=data, index=['Ali', 'Ayse', 'Osman', 'Mevlut'], columns=['Maas', 'Yas', 'Cinsiyet'])"
   ]
  },
  {
   "cell_type": "code",
   "execution_count": 29,
   "id": "5c62dfce",
   "metadata": {},
   "outputs": [
    {
     "data": {
      "text/html": [
       "<div>\n",
       "<style scoped>\n",
       "    .dataframe tbody tr th:only-of-type {\n",
       "        vertical-align: middle;\n",
       "    }\n",
       "\n",
       "    .dataframe tbody tr th {\n",
       "        vertical-align: top;\n",
       "    }\n",
       "\n",
       "    .dataframe thead th {\n",
       "        text-align: right;\n",
       "    }\n",
       "</style>\n",
       "<table border=\"1\" class=\"dataframe\">\n",
       "  <thead>\n",
       "    <tr style=\"text-align: right;\">\n",
       "      <th></th>\n",
       "      <th>Maas</th>\n",
       "      <th>Yas</th>\n",
       "      <th>Cinsiyet</th>\n",
       "    </tr>\n",
       "  </thead>\n",
       "  <tbody>\n",
       "    <tr>\n",
       "      <th>Ali</th>\n",
       "      <td>0.495003</td>\n",
       "      <td>0.484618</td>\n",
       "      <td>0.972222</td>\n",
       "    </tr>\n",
       "    <tr>\n",
       "      <th>Ayse</th>\n",
       "      <td>0.823754</td>\n",
       "      <td>0.679794</td>\n",
       "      <td>0.556649</td>\n",
       "    </tr>\n",
       "    <tr>\n",
       "      <th>Osman</th>\n",
       "      <td>0.023557</td>\n",
       "      <td>0.401956</td>\n",
       "      <td>0.170970</td>\n",
       "    </tr>\n",
       "    <tr>\n",
       "      <th>Mevlut</th>\n",
       "      <td>0.596172</td>\n",
       "      <td>0.859023</td>\n",
       "      <td>0.376871</td>\n",
       "    </tr>\n",
       "  </tbody>\n",
       "</table>\n",
       "</div>"
      ],
      "text/plain": [
       "            Maas       Yas  Cinsiyet\n",
       "Ali     0.495003  0.484618  0.972222\n",
       "Ayse    0.823754  0.679794  0.556649\n",
       "Osman   0.023557  0.401956  0.170970\n",
       "Mevlut  0.596172  0.859023  0.376871"
      ]
     },
     "execution_count": 29,
     "metadata": {},
     "output_type": "execute_result"
    }
   ],
   "source": [
    "dataFrame2"
   ]
  },
  {
   "cell_type": "code",
   "execution_count": 30,
   "id": "9550ee46",
   "metadata": {},
   "outputs": [
    {
     "data": {
      "text/plain": [
       "Ali       0.972222\n",
       "Ayse      0.556649\n",
       "Osman     0.170970\n",
       "Mevlut    0.376871\n",
       "Name: Cinsiyet, dtype: float64"
      ]
     },
     "execution_count": 30,
     "metadata": {},
     "output_type": "execute_result"
    }
   ],
   "source": [
    "dataFrame2['Cinsiyet']"
   ]
  },
  {
   "cell_type": "markdown",
   "id": "c4b23e2e",
   "metadata": {},
   "source": [
    "### Sadece Istedigimiz kismi getirmek istersek;"
   ]
  },
  {
   "cell_type": "code",
   "execution_count": 31,
   "id": "9c1025d5",
   "metadata": {},
   "outputs": [
    {
     "data": {
      "text/html": [
       "<div>\n",
       "<style scoped>\n",
       "    .dataframe tbody tr th:only-of-type {\n",
       "        vertical-align: middle;\n",
       "    }\n",
       "\n",
       "    .dataframe tbody tr th {\n",
       "        vertical-align: top;\n",
       "    }\n",
       "\n",
       "    .dataframe thead th {\n",
       "        text-align: right;\n",
       "    }\n",
       "</style>\n",
       "<table border=\"1\" class=\"dataframe\">\n",
       "  <thead>\n",
       "    <tr style=\"text-align: right;\">\n",
       "      <th></th>\n",
       "      <th>Maas</th>\n",
       "      <th>Yas</th>\n",
       "    </tr>\n",
       "  </thead>\n",
       "  <tbody>\n",
       "    <tr>\n",
       "      <th>Ali</th>\n",
       "      <td>0.495003</td>\n",
       "      <td>0.484618</td>\n",
       "    </tr>\n",
       "    <tr>\n",
       "      <th>Ayse</th>\n",
       "      <td>0.823754</td>\n",
       "      <td>0.679794</td>\n",
       "    </tr>\n",
       "    <tr>\n",
       "      <th>Osman</th>\n",
       "      <td>0.023557</td>\n",
       "      <td>0.401956</td>\n",
       "    </tr>\n",
       "    <tr>\n",
       "      <th>Mevlut</th>\n",
       "      <td>0.596172</td>\n",
       "      <td>0.859023</td>\n",
       "    </tr>\n",
       "  </tbody>\n",
       "</table>\n",
       "</div>"
      ],
      "text/plain": [
       "            Maas       Yas\n",
       "Ali     0.495003  0.484618\n",
       "Ayse    0.823754  0.679794\n",
       "Osman   0.023557  0.401956\n",
       "Mevlut  0.596172  0.859023"
      ]
     },
     "execution_count": 31,
     "metadata": {},
     "output_type": "execute_result"
    }
   ],
   "source": [
    "dataFrame2[['Maas', 'Yas']]"
   ]
  },
  {
   "cell_type": "markdown",
   "id": "f3f2614f",
   "metadata": {},
   "source": [
    "### Istedigimiz Row'u getirmek icin;"
   ]
  },
  {
   "cell_type": "code",
   "execution_count": 34,
   "id": "d006e271",
   "metadata": {},
   "outputs": [
    {
     "data": {
      "text/plain": [
       "Maas        0.495003\n",
       "Yas         0.484618\n",
       "Cinsiyet    0.972222\n",
       "Name: Ali, dtype: float64"
      ]
     },
     "execution_count": 34,
     "metadata": {},
     "output_type": "execute_result"
    }
   ],
   "source": [
    "dataFrame2.loc['Ali']"
   ]
  },
  {
   "cell_type": "markdown",
   "id": "4cad9556",
   "metadata": {},
   "source": [
    "### Ust satirdaki sorgu islemini index ile de yapmak istersek;"
   ]
  },
  {
   "cell_type": "code",
   "execution_count": 35,
   "id": "70f49b0e",
   "metadata": {},
   "outputs": [
    {
     "data": {
      "text/plain": [
       "Maas        0.823754\n",
       "Yas         0.679794\n",
       "Cinsiyet    0.556649\n",
       "Name: Ayse, dtype: float64"
      ]
     },
     "execution_count": 35,
     "metadata": {},
     "output_type": "execute_result"
    }
   ],
   "source": [
    "dataFrame2.iloc[1]"
   ]
  },
  {
   "cell_type": "code",
   "execution_count": null,
   "id": "5f113747",
   "metadata": {},
   "outputs": [],
   "source": []
  }
 ],
 "metadata": {
  "kernelspec": {
   "display_name": "Python 3 (ipykernel)",
   "language": "python",
   "name": "python3"
  },
  "language_info": {
   "codemirror_mode": {
    "name": "ipython",
    "version": 3
   },
   "file_extension": ".py",
   "mimetype": "text/x-python",
   "name": "python",
   "nbconvert_exporter": "python",
   "pygments_lexer": "ipython3",
   "version": "3.9.5"
  }
 },
 "nbformat": 4,
 "nbformat_minor": 5
}
