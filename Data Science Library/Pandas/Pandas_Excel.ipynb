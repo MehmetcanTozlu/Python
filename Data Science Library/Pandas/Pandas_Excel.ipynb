{
 "cells": [
  {
   "cell_type": "markdown",
   "id": "63880738",
   "metadata": {},
   "source": [
    "# Excel'den bir Data Sets ile calisalim"
   ]
  },
  {
   "cell_type": "code",
   "execution_count": 5,
   "id": "57107c7a",
   "metadata": {},
   "outputs": [],
   "source": [
    "import pandas as pd"
   ]
  },
  {
   "cell_type": "markdown",
   "id": "28e3ee55",
   "metadata": {},
   "source": [
    "## CSV formati; ',' ile ayrilmis verilerden olusur!!!!"
   ]
  },
  {
   "cell_type": "markdown",
   "id": "79cf6dc3",
   "metadata": {},
   "source": [
    "pd.read_csv('iris.csv') # Bu kod satiri csv uzantilari okur"
   ]
  },
  {
   "cell_type": "markdown",
   "id": "f3a014b6",
   "metadata": {},
   "source": [
    "### Excel dosyani okuyoruz;"
   ]
  },
  {
   "cell_type": "code",
   "execution_count": 6,
   "id": "742ad191",
   "metadata": {
    "scrolled": true
   },
   "outputs": [],
   "source": [
    "dataFrame = pd.read_excel('maas.xlsx')"
   ]
  },
  {
   "cell_type": "code",
   "execution_count": 7,
   "id": "b3c56b97",
   "metadata": {},
   "outputs": [
    {
     "data": {
      "text/html": [
       "<div>\n",
       "<style scoped>\n",
       "    .dataframe tbody tr th:only-of-type {\n",
       "        vertical-align: middle;\n",
       "    }\n",
       "\n",
       "    .dataframe tbody tr th {\n",
       "        vertical-align: top;\n",
       "    }\n",
       "\n",
       "    .dataframe thead th {\n",
       "        text-align: right;\n",
       "    }\n",
       "</style>\n",
       "<table border=\"1\" class=\"dataframe\">\n",
       "  <thead>\n",
       "    <tr style=\"text-align: right;\">\n",
       "      <th></th>\n",
       "      <th>Unnamed: 0</th>\n",
       "      <th>Maas</th>\n",
       "      <th>Yas</th>\n",
       "      <th>Departman</th>\n",
       "    </tr>\n",
       "  </thead>\n",
       "  <tbody>\n",
       "    <tr>\n",
       "      <th>0</th>\n",
       "      <td>Atıl</td>\n",
       "      <td>200</td>\n",
       "      <td>20.0</td>\n",
       "      <td>Yazilim</td>\n",
       "    </tr>\n",
       "    <tr>\n",
       "      <th>1</th>\n",
       "      <td>Zeynep</td>\n",
       "      <td>150</td>\n",
       "      <td>23.0</td>\n",
       "      <td>Satis</td>\n",
       "    </tr>\n",
       "    <tr>\n",
       "      <th>2</th>\n",
       "      <td>Mehmet</td>\n",
       "      <td>300</td>\n",
       "      <td>30.0</td>\n",
       "      <td>NaN</td>\n",
       "    </tr>\n",
       "    <tr>\n",
       "      <th>3</th>\n",
       "      <td>Ahmet</td>\n",
       "      <td>450</td>\n",
       "      <td>40.0</td>\n",
       "      <td>Pazarlama</td>\n",
       "    </tr>\n",
       "    <tr>\n",
       "      <th>4</th>\n",
       "      <td>Atlas</td>\n",
       "      <td>600</td>\n",
       "      <td>NaN</td>\n",
       "      <td>Finans</td>\n",
       "    </tr>\n",
       "    <tr>\n",
       "      <th>5</th>\n",
       "      <td>Fatma</td>\n",
       "      <td>250</td>\n",
       "      <td>28.0</td>\n",
       "      <td>Hukuk</td>\n",
       "    </tr>\n",
       "  </tbody>\n",
       "</table>\n",
       "</div>"
      ],
      "text/plain": [
       "  Unnamed: 0  Maas   Yas  Departman\n",
       "0       Atıl   200  20.0    Yazilim\n",
       "1     Zeynep   150  23.0      Satis\n",
       "2     Mehmet   300  30.0        NaN\n",
       "3      Ahmet   450  40.0  Pazarlama\n",
       "4      Atlas   600   NaN     Finans\n",
       "5      Fatma   250  28.0      Hukuk"
      ]
     },
     "execution_count": 7,
     "metadata": {},
     "output_type": "execute_result"
    }
   ],
   "source": [
    "dataFrame"
   ]
  },
  {
   "cell_type": "markdown",
   "id": "0a062e81",
   "metadata": {},
   "source": [
    "### NaN olan verileri silmek istersek;"
   ]
  },
  {
   "cell_type": "code",
   "execution_count": 8,
   "id": "e8a80a3d",
   "metadata": {},
   "outputs": [],
   "source": [
    "notNanDataFrame = dataFrame.dropna(axis=0)"
   ]
  },
  {
   "cell_type": "code",
   "execution_count": 9,
   "id": "e398625f",
   "metadata": {},
   "outputs": [
    {
     "data": {
      "text/html": [
       "<div>\n",
       "<style scoped>\n",
       "    .dataframe tbody tr th:only-of-type {\n",
       "        vertical-align: middle;\n",
       "    }\n",
       "\n",
       "    .dataframe tbody tr th {\n",
       "        vertical-align: top;\n",
       "    }\n",
       "\n",
       "    .dataframe thead th {\n",
       "        text-align: right;\n",
       "    }\n",
       "</style>\n",
       "<table border=\"1\" class=\"dataframe\">\n",
       "  <thead>\n",
       "    <tr style=\"text-align: right;\">\n",
       "      <th></th>\n",
       "      <th>Unnamed: 0</th>\n",
       "      <th>Maas</th>\n",
       "      <th>Yas</th>\n",
       "      <th>Departman</th>\n",
       "    </tr>\n",
       "  </thead>\n",
       "  <tbody>\n",
       "    <tr>\n",
       "      <th>0</th>\n",
       "      <td>Atıl</td>\n",
       "      <td>200</td>\n",
       "      <td>20.0</td>\n",
       "      <td>Yazilim</td>\n",
       "    </tr>\n",
       "    <tr>\n",
       "      <th>1</th>\n",
       "      <td>Zeynep</td>\n",
       "      <td>150</td>\n",
       "      <td>23.0</td>\n",
       "      <td>Satis</td>\n",
       "    </tr>\n",
       "    <tr>\n",
       "      <th>3</th>\n",
       "      <td>Ahmet</td>\n",
       "      <td>450</td>\n",
       "      <td>40.0</td>\n",
       "      <td>Pazarlama</td>\n",
       "    </tr>\n",
       "    <tr>\n",
       "      <th>5</th>\n",
       "      <td>Fatma</td>\n",
       "      <td>250</td>\n",
       "      <td>28.0</td>\n",
       "      <td>Hukuk</td>\n",
       "    </tr>\n",
       "  </tbody>\n",
       "</table>\n",
       "</div>"
      ],
      "text/plain": [
       "  Unnamed: 0  Maas   Yas  Departman\n",
       "0       Atıl   200  20.0    Yazilim\n",
       "1     Zeynep   150  23.0      Satis\n",
       "3      Ahmet   450  40.0  Pazarlama\n",
       "5      Fatma   250  28.0      Hukuk"
      ]
     },
     "execution_count": 9,
     "metadata": {},
     "output_type": "execute_result"
    }
   ],
   "source": [
    "notNanDataFrame"
   ]
  },
  {
   "cell_type": "code",
   "execution_count": 10,
   "id": "3649f144",
   "metadata": {},
   "outputs": [
    {
     "data": {
      "text/html": [
       "<div>\n",
       "<style scoped>\n",
       "    .dataframe tbody tr th:only-of-type {\n",
       "        vertical-align: middle;\n",
       "    }\n",
       "\n",
       "    .dataframe tbody tr th {\n",
       "        vertical-align: top;\n",
       "    }\n",
       "\n",
       "    .dataframe thead th {\n",
       "        text-align: right;\n",
       "    }\n",
       "</style>\n",
       "<table border=\"1\" class=\"dataframe\">\n",
       "  <thead>\n",
       "    <tr style=\"text-align: right;\">\n",
       "      <th></th>\n",
       "      <th>Unnamed: 0</th>\n",
       "      <th>Maas</th>\n",
       "      <th>Yas</th>\n",
       "      <th>Departman</th>\n",
       "    </tr>\n",
       "  </thead>\n",
       "  <tbody>\n",
       "    <tr>\n",
       "      <th>0</th>\n",
       "      <td>Atıl</td>\n",
       "      <td>200</td>\n",
       "      <td>20.0</td>\n",
       "      <td>Yazilim</td>\n",
       "    </tr>\n",
       "    <tr>\n",
       "      <th>1</th>\n",
       "      <td>Zeynep</td>\n",
       "      <td>150</td>\n",
       "      <td>23.0</td>\n",
       "      <td>Satis</td>\n",
       "    </tr>\n",
       "    <tr>\n",
       "      <th>2</th>\n",
       "      <td>Mehmet</td>\n",
       "      <td>300</td>\n",
       "      <td>30.0</td>\n",
       "      <td>NaN</td>\n",
       "    </tr>\n",
       "    <tr>\n",
       "      <th>3</th>\n",
       "      <td>Ahmet</td>\n",
       "      <td>450</td>\n",
       "      <td>40.0</td>\n",
       "      <td>Pazarlama</td>\n",
       "    </tr>\n",
       "    <tr>\n",
       "      <th>4</th>\n",
       "      <td>Atlas</td>\n",
       "      <td>600</td>\n",
       "      <td>NaN</td>\n",
       "      <td>Finans</td>\n",
       "    </tr>\n",
       "    <tr>\n",
       "      <th>5</th>\n",
       "      <td>Fatma</td>\n",
       "      <td>250</td>\n",
       "      <td>28.0</td>\n",
       "      <td>Hukuk</td>\n",
       "    </tr>\n",
       "  </tbody>\n",
       "</table>\n",
       "</div>"
      ],
      "text/plain": [
       "  Unnamed: 0  Maas   Yas  Departman\n",
       "0       Atıl   200  20.0    Yazilim\n",
       "1     Zeynep   150  23.0      Satis\n",
       "2     Mehmet   300  30.0        NaN\n",
       "3      Ahmet   450  40.0  Pazarlama\n",
       "4      Atlas   600   NaN     Finans\n",
       "5      Fatma   250  28.0      Hukuk"
      ]
     },
     "execution_count": 10,
     "metadata": {},
     "output_type": "execute_result"
    }
   ],
   "source": [
    "dataFrame"
   ]
  },
  {
   "cell_type": "markdown",
   "id": "40e2f196",
   "metadata": {},
   "source": [
    "Goruldugu gibi dropna() fonksiyonu yeni bir data frame'de donduruyor. Gecerli degiskende kalici degisiklik yapmiyor."
   ]
  },
  {
   "cell_type": "markdown",
   "id": "757bd88b",
   "metadata": {},
   "source": [
    "### NaN olan degerleri sildikten sonra ki Data Frame'i Excel'e kayit etmek istersek;"
   ]
  },
  {
   "cell_type": "code",
   "execution_count": 11,
   "id": "8f076e31",
   "metadata": {},
   "outputs": [],
   "source": [
    "notNanDataFrame.to_excel('yeniMaas.xlsx')"
   ]
  }
 ],
 "metadata": {
  "kernelspec": {
   "display_name": "Python 3 (ipykernel)",
   "language": "python",
   "name": "python3"
  },
  "language_info": {
   "codemirror_mode": {
    "name": "ipython",
    "version": 3
   },
   "file_extension": ".py",
   "mimetype": "text/x-python",
   "name": "python",
   "nbconvert_exporter": "python",
   "pygments_lexer": "ipython3",
   "version": "3.9.5"
  }
 },
 "nbformat": 4,
 "nbformat_minor": 5
}
