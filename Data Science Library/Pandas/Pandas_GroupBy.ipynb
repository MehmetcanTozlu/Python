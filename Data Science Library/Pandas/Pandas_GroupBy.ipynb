{
 "cells": [
  {
   "cell_type": "markdown",
   "id": "193491aa",
   "metadata": {},
   "source": [
    "# Group By"
   ]
  },
  {
   "cell_type": "code",
   "execution_count": 22,
   "id": "cc1df273",
   "metadata": {},
   "outputs": [],
   "source": [
    "import numpy as np"
   ]
  },
  {
   "cell_type": "code",
   "execution_count": 1,
   "id": "30157b63",
   "metadata": {},
   "outputs": [],
   "source": [
    "import pandas as pd"
   ]
  },
  {
   "cell_type": "code",
   "execution_count": 2,
   "id": "f05fdd6e",
   "metadata": {},
   "outputs": [],
   "source": [
    "maasData = {'Departman':['Yazılım', 'Yazılım', 'Pazarlama', 'Pazarlama', 'Hukuk', 'Hukuk'],\n",
    "            'Calisan Ismi':['Ali', 'Veli', 'Ayşe', 'Fatma', 'Hasan', 'Hüseyin'],\n",
    "           'Maas':[300, 200, 150, 400, 500, 350]}"
   ]
  },
  {
   "cell_type": "code",
   "execution_count": 3,
   "id": "1f10ebf6",
   "metadata": {},
   "outputs": [],
   "source": [
    "maasDataFrame = pd.DataFrame(data=maasData)"
   ]
  },
  {
   "cell_type": "code",
   "execution_count": 4,
   "id": "ad46b03a",
   "metadata": {},
   "outputs": [
    {
     "data": {
      "text/html": [
       "<div>\n",
       "<style scoped>\n",
       "    .dataframe tbody tr th:only-of-type {\n",
       "        vertical-align: middle;\n",
       "    }\n",
       "\n",
       "    .dataframe tbody tr th {\n",
       "        vertical-align: top;\n",
       "    }\n",
       "\n",
       "    .dataframe thead th {\n",
       "        text-align: right;\n",
       "    }\n",
       "</style>\n",
       "<table border=\"1\" class=\"dataframe\">\n",
       "  <thead>\n",
       "    <tr style=\"text-align: right;\">\n",
       "      <th></th>\n",
       "      <th>Departman</th>\n",
       "      <th>Calisan Ismi</th>\n",
       "      <th>Maas</th>\n",
       "    </tr>\n",
       "  </thead>\n",
       "  <tbody>\n",
       "    <tr>\n",
       "      <th>0</th>\n",
       "      <td>Yazılım</td>\n",
       "      <td>Ali</td>\n",
       "      <td>300</td>\n",
       "    </tr>\n",
       "    <tr>\n",
       "      <th>1</th>\n",
       "      <td>Yazılım</td>\n",
       "      <td>Veli</td>\n",
       "      <td>200</td>\n",
       "    </tr>\n",
       "    <tr>\n",
       "      <th>2</th>\n",
       "      <td>Pazarlama</td>\n",
       "      <td>Ayşe</td>\n",
       "      <td>150</td>\n",
       "    </tr>\n",
       "    <tr>\n",
       "      <th>3</th>\n",
       "      <td>Pazarlama</td>\n",
       "      <td>Fatma</td>\n",
       "      <td>400</td>\n",
       "    </tr>\n",
       "    <tr>\n",
       "      <th>4</th>\n",
       "      <td>Hukuk</td>\n",
       "      <td>Hasan</td>\n",
       "      <td>500</td>\n",
       "    </tr>\n",
       "    <tr>\n",
       "      <th>5</th>\n",
       "      <td>Hukuk</td>\n",
       "      <td>Hüseyin</td>\n",
       "      <td>350</td>\n",
       "    </tr>\n",
       "  </tbody>\n",
       "</table>\n",
       "</div>"
      ],
      "text/plain": [
       "   Departman Calisan Ismi  Maas\n",
       "0    Yazılım          Ali   300\n",
       "1    Yazılım         Veli   200\n",
       "2  Pazarlama         Ayşe   150\n",
       "3  Pazarlama        Fatma   400\n",
       "4      Hukuk        Hasan   500\n",
       "5      Hukuk      Hüseyin   350"
      ]
     },
     "execution_count": 4,
     "metadata": {},
     "output_type": "execute_result"
    }
   ],
   "source": [
    "maasDataFrame"
   ]
  },
  {
   "cell_type": "markdown",
   "id": "29f6d921",
   "metadata": {},
   "source": [
    "## Group By ile verilerimizi gruplamaya baslayalim;"
   ]
  },
  {
   "cell_type": "markdown",
   "id": "946d094c",
   "metadata": {},
   "source": [
    "Veri Tipini ve RAM'daki yerini getirdi\n",
    "Group By yeni bir Data Frame dondurur. Bu yuzden bir degiskene esitlememiz gerekir."
   ]
  },
  {
   "cell_type": "code",
   "execution_count": 5,
   "id": "16af76d4",
   "metadata": {},
   "outputs": [],
   "source": [
    "maasGroupBy = maasDataFrame.groupby('Departman')"
   ]
  },
  {
   "cell_type": "code",
   "execution_count": 6,
   "id": "dbd4e479",
   "metadata": {},
   "outputs": [
    {
     "data": {
      "text/plain": [
       "<pandas.core.groupby.generic.DataFrameGroupBy object at 0x0000026C9F651880>"
      ]
     },
     "execution_count": 6,
     "metadata": {},
     "output_type": "execute_result"
    }
   ],
   "source": [
    "maasGroupBy"
   ]
  },
  {
   "cell_type": "markdown",
   "id": "f78296fd",
   "metadata": {},
   "source": [
    "#### Hangi Departmanda Kac Kisi Calisiyor COUNT ile onu getirdik;"
   ]
  },
  {
   "cell_type": "code",
   "execution_count": 46,
   "id": "b4839c1b",
   "metadata": {},
   "outputs": [
    {
     "data": {
      "text/html": [
       "<div>\n",
       "<style scoped>\n",
       "    .dataframe tbody tr th:only-of-type {\n",
       "        vertical-align: middle;\n",
       "    }\n",
       "\n",
       "    .dataframe tbody tr th {\n",
       "        vertical-align: top;\n",
       "    }\n",
       "\n",
       "    .dataframe thead th {\n",
       "        text-align: right;\n",
       "    }\n",
       "</style>\n",
       "<table border=\"1\" class=\"dataframe\">\n",
       "  <thead>\n",
       "    <tr style=\"text-align: right;\">\n",
       "      <th></th>\n",
       "      <th>Calisan Ismi</th>\n",
       "      <th>Maas</th>\n",
       "    </tr>\n",
       "    <tr>\n",
       "      <th>Departman</th>\n",
       "      <th></th>\n",
       "      <th></th>\n",
       "    </tr>\n",
       "  </thead>\n",
       "  <tbody>\n",
       "    <tr>\n",
       "      <th>Hukuk</th>\n",
       "      <td>2</td>\n",
       "      <td>2</td>\n",
       "    </tr>\n",
       "    <tr>\n",
       "      <th>Pazarlama</th>\n",
       "      <td>2</td>\n",
       "      <td>2</td>\n",
       "    </tr>\n",
       "    <tr>\n",
       "      <th>Yazılım</th>\n",
       "      <td>2</td>\n",
       "      <td>2</td>\n",
       "    </tr>\n",
       "  </tbody>\n",
       "</table>\n",
       "</div>"
      ],
      "text/plain": [
       "           Calisan Ismi  Maas\n",
       "Departman                    \n",
       "Hukuk                 2     2\n",
       "Pazarlama             2     2\n",
       "Yazılım               2     2"
      ]
     },
     "execution_count": 46,
     "metadata": {},
     "output_type": "execute_result"
    }
   ],
   "source": [
    "maasGroupBy.count()"
   ]
  },
  {
   "cell_type": "markdown",
   "id": "7030a63a",
   "metadata": {},
   "source": [
    "### Departmanda calisan kisilerin ort. maaslarini MEAN ile getirdik;"
   ]
  },
  {
   "cell_type": "code",
   "execution_count": 48,
   "id": "993ec252",
   "metadata": {},
   "outputs": [
    {
     "data": {
      "text/html": [
       "<div>\n",
       "<style scoped>\n",
       "    .dataframe tbody tr th:only-of-type {\n",
       "        vertical-align: middle;\n",
       "    }\n",
       "\n",
       "    .dataframe tbody tr th {\n",
       "        vertical-align: top;\n",
       "    }\n",
       "\n",
       "    .dataframe thead th {\n",
       "        text-align: right;\n",
       "    }\n",
       "</style>\n",
       "<table border=\"1\" class=\"dataframe\">\n",
       "  <thead>\n",
       "    <tr style=\"text-align: right;\">\n",
       "      <th></th>\n",
       "      <th>Maas</th>\n",
       "    </tr>\n",
       "    <tr>\n",
       "      <th>Departman</th>\n",
       "      <th></th>\n",
       "    </tr>\n",
       "  </thead>\n",
       "  <tbody>\n",
       "    <tr>\n",
       "      <th>Hukuk</th>\n",
       "      <td>425.0</td>\n",
       "    </tr>\n",
       "    <tr>\n",
       "      <th>Pazarlama</th>\n",
       "      <td>275.0</td>\n",
       "    </tr>\n",
       "    <tr>\n",
       "      <th>Yazılım</th>\n",
       "      <td>250.0</td>\n",
       "    </tr>\n",
       "  </tbody>\n",
       "</table>\n",
       "</div>"
      ],
      "text/plain": [
       "            Maas\n",
       "Departman       \n",
       "Hukuk      425.0\n",
       "Pazarlama  275.0\n",
       "Yazılım    250.0"
      ]
     },
     "execution_count": 48,
     "metadata": {},
     "output_type": "execute_result"
    }
   ],
   "source": [
    "maasGroupBy.mean()"
   ]
  },
  {
   "cell_type": "markdown",
   "id": "efdfd07b",
   "metadata": {},
   "source": [
    "#### Min();"
   ]
  },
  {
   "cell_type": "code",
   "execution_count": 49,
   "id": "f3d9ab95",
   "metadata": {},
   "outputs": [
    {
     "data": {
      "text/html": [
       "<div>\n",
       "<style scoped>\n",
       "    .dataframe tbody tr th:only-of-type {\n",
       "        vertical-align: middle;\n",
       "    }\n",
       "\n",
       "    .dataframe tbody tr th {\n",
       "        vertical-align: top;\n",
       "    }\n",
       "\n",
       "    .dataframe thead th {\n",
       "        text-align: right;\n",
       "    }\n",
       "</style>\n",
       "<table border=\"1\" class=\"dataframe\">\n",
       "  <thead>\n",
       "    <tr style=\"text-align: right;\">\n",
       "      <th></th>\n",
       "      <th>Calisan Ismi</th>\n",
       "      <th>Maas</th>\n",
       "    </tr>\n",
       "    <tr>\n",
       "      <th>Departman</th>\n",
       "      <th></th>\n",
       "      <th></th>\n",
       "    </tr>\n",
       "  </thead>\n",
       "  <tbody>\n",
       "    <tr>\n",
       "      <th>Hukuk</th>\n",
       "      <td>Hasan</td>\n",
       "      <td>350</td>\n",
       "    </tr>\n",
       "    <tr>\n",
       "      <th>Pazarlama</th>\n",
       "      <td>Ayşe</td>\n",
       "      <td>150</td>\n",
       "    </tr>\n",
       "    <tr>\n",
       "      <th>Yazılım</th>\n",
       "      <td>Ali</td>\n",
       "      <td>200</td>\n",
       "    </tr>\n",
       "  </tbody>\n",
       "</table>\n",
       "</div>"
      ],
      "text/plain": [
       "          Calisan Ismi  Maas\n",
       "Departman                   \n",
       "Hukuk            Hasan   350\n",
       "Pazarlama         Ayşe   150\n",
       "Yazılım            Ali   200"
      ]
     },
     "execution_count": 49,
     "metadata": {},
     "output_type": "execute_result"
    }
   ],
   "source": [
    "maasGroupBy.min()"
   ]
  },
  {
   "cell_type": "markdown",
   "id": "dd9a30ad",
   "metadata": {},
   "source": [
    "#### Max();"
   ]
  },
  {
   "cell_type": "code",
   "execution_count": 50,
   "id": "9db192a0",
   "metadata": {},
   "outputs": [
    {
     "data": {
      "text/html": [
       "<div>\n",
       "<style scoped>\n",
       "    .dataframe tbody tr th:only-of-type {\n",
       "        vertical-align: middle;\n",
       "    }\n",
       "\n",
       "    .dataframe tbody tr th {\n",
       "        vertical-align: top;\n",
       "    }\n",
       "\n",
       "    .dataframe thead th {\n",
       "        text-align: right;\n",
       "    }\n",
       "</style>\n",
       "<table border=\"1\" class=\"dataframe\">\n",
       "  <thead>\n",
       "    <tr style=\"text-align: right;\">\n",
       "      <th></th>\n",
       "      <th>Calisan Ismi</th>\n",
       "      <th>Maas</th>\n",
       "    </tr>\n",
       "    <tr>\n",
       "      <th>Departman</th>\n",
       "      <th></th>\n",
       "      <th></th>\n",
       "    </tr>\n",
       "  </thead>\n",
       "  <tbody>\n",
       "    <tr>\n",
       "      <th>Hukuk</th>\n",
       "      <td>Hüseyin</td>\n",
       "      <td>500</td>\n",
       "    </tr>\n",
       "    <tr>\n",
       "      <th>Pazarlama</th>\n",
       "      <td>Fatma</td>\n",
       "      <td>400</td>\n",
       "    </tr>\n",
       "    <tr>\n",
       "      <th>Yazılım</th>\n",
       "      <td>Veli</td>\n",
       "      <td>300</td>\n",
       "    </tr>\n",
       "  </tbody>\n",
       "</table>\n",
       "</div>"
      ],
      "text/plain": [
       "          Calisan Ismi  Maas\n",
       "Departman                   \n",
       "Hukuk          Hüseyin   500\n",
       "Pazarlama        Fatma   400\n",
       "Yazılım           Veli   300"
      ]
     },
     "execution_count": 50,
     "metadata": {},
     "output_type": "execute_result"
    }
   ],
   "source": [
    "maasGroupBy.max()"
   ]
  },
  {
   "cell_type": "markdown",
   "id": "ce4d84af",
   "metadata": {},
   "source": [
    "## Describe() fonksiyonu; cogu ise yarar ozelliklerini getirir;"
   ]
  },
  {
   "cell_type": "code",
   "execution_count": 52,
   "id": "5c1b3a18",
   "metadata": {},
   "outputs": [
    {
     "data": {
      "text/html": [
       "<div>\n",
       "<style scoped>\n",
       "    .dataframe tbody tr th:only-of-type {\n",
       "        vertical-align: middle;\n",
       "    }\n",
       "\n",
       "    .dataframe tbody tr th {\n",
       "        vertical-align: top;\n",
       "    }\n",
       "\n",
       "    .dataframe thead tr th {\n",
       "        text-align: left;\n",
       "    }\n",
       "\n",
       "    .dataframe thead tr:last-of-type th {\n",
       "        text-align: right;\n",
       "    }\n",
       "</style>\n",
       "<table border=\"1\" class=\"dataframe\">\n",
       "  <thead>\n",
       "    <tr>\n",
       "      <th></th>\n",
       "      <th colspan=\"8\" halign=\"left\">Maas</th>\n",
       "    </tr>\n",
       "    <tr>\n",
       "      <th></th>\n",
       "      <th>count</th>\n",
       "      <th>mean</th>\n",
       "      <th>std</th>\n",
       "      <th>min</th>\n",
       "      <th>25%</th>\n",
       "      <th>50%</th>\n",
       "      <th>75%</th>\n",
       "      <th>max</th>\n",
       "    </tr>\n",
       "    <tr>\n",
       "      <th>Departman</th>\n",
       "      <th></th>\n",
       "      <th></th>\n",
       "      <th></th>\n",
       "      <th></th>\n",
       "      <th></th>\n",
       "      <th></th>\n",
       "      <th></th>\n",
       "      <th></th>\n",
       "    </tr>\n",
       "  </thead>\n",
       "  <tbody>\n",
       "    <tr>\n",
       "      <th>Hukuk</th>\n",
       "      <td>2.0</td>\n",
       "      <td>425.0</td>\n",
       "      <td>106.066017</td>\n",
       "      <td>350.0</td>\n",
       "      <td>387.5</td>\n",
       "      <td>425.0</td>\n",
       "      <td>462.5</td>\n",
       "      <td>500.0</td>\n",
       "    </tr>\n",
       "    <tr>\n",
       "      <th>Pazarlama</th>\n",
       "      <td>2.0</td>\n",
       "      <td>275.0</td>\n",
       "      <td>176.776695</td>\n",
       "      <td>150.0</td>\n",
       "      <td>212.5</td>\n",
       "      <td>275.0</td>\n",
       "      <td>337.5</td>\n",
       "      <td>400.0</td>\n",
       "    </tr>\n",
       "    <tr>\n",
       "      <th>Yazılım</th>\n",
       "      <td>2.0</td>\n",
       "      <td>250.0</td>\n",
       "      <td>70.710678</td>\n",
       "      <td>200.0</td>\n",
       "      <td>225.0</td>\n",
       "      <td>250.0</td>\n",
       "      <td>275.0</td>\n",
       "      <td>300.0</td>\n",
       "    </tr>\n",
       "  </tbody>\n",
       "</table>\n",
       "</div>"
      ],
      "text/plain": [
       "           Maas                                                      \n",
       "          count   mean         std    min    25%    50%    75%    max\n",
       "Departman                                                            \n",
       "Hukuk       2.0  425.0  106.066017  350.0  387.5  425.0  462.5  500.0\n",
       "Pazarlama   2.0  275.0  176.776695  150.0  212.5  275.0  337.5  400.0\n",
       "Yazılım     2.0  250.0   70.710678  200.0  225.0  250.0  275.0  300.0"
      ]
     },
     "execution_count": 52,
     "metadata": {},
     "output_type": "execute_result"
    }
   ],
   "source": [
    "maasGroupBy.describe() # std = standart sapma"
   ]
  },
  {
   "cell_type": "code",
   "execution_count": null,
   "id": "5d4a6e06",
   "metadata": {},
   "outputs": [],
   "source": []
  }
 ],
 "metadata": {
  "kernelspec": {
   "display_name": "Python 3 (ipykernel)",
   "language": "python",
   "name": "python3"
  },
  "language_info": {
   "codemirror_mode": {
    "name": "ipython",
    "version": 3
   },
   "file_extension": ".py",
   "mimetype": "text/x-python",
   "name": "python",
   "nbconvert_exporter": "python",
   "pygments_lexer": "ipython3",
   "version": "3.9.5"
  }
 },
 "nbformat": 4,
 "nbformat_minor": 5
}
