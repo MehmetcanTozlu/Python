{
 "cells": [
  {
   "cell_type": "markdown",
   "id": "900e8224",
   "metadata": {},
   "source": [
    "# Index Changing(Index Degistirme)"
   ]
  },
  {
   "cell_type": "code",
   "execution_count": 7,
   "id": "53eedf45",
   "metadata": {},
   "outputs": [],
   "source": [
    "import numpy as np"
   ]
  },
  {
   "cell_type": "code",
   "execution_count": 8,
   "id": "2d4aad41",
   "metadata": {},
   "outputs": [],
   "source": [
    "import pandas as pd"
   ]
  },
  {
   "cell_type": "code",
   "execution_count": 9,
   "id": "ed3ed0f6",
   "metadata": {},
   "outputs": [],
   "source": [
    "arr = np.random.rand(3, 4)"
   ]
  },
  {
   "cell_type": "code",
   "execution_count": 10,
   "id": "378d95e5",
   "metadata": {},
   "outputs": [
    {
     "data": {
      "text/plain": [
       "array([[0.89144309, 0.01140642, 0.0593403 , 0.60096416],\n",
       "       [0.20829625, 0.2469045 , 0.94731366, 0.08535762],\n",
       "       [0.4524247 , 0.91503017, 0.82145119, 0.44118022]])"
      ]
     },
     "execution_count": 10,
     "metadata": {},
     "output_type": "execute_result"
    }
   ],
   "source": [
    "arr"
   ]
  },
  {
   "cell_type": "code",
   "execution_count": 15,
   "id": "9edee76f",
   "metadata": {
    "scrolled": true
   },
   "outputs": [],
   "source": [
    "arr = pd.DataFrame(data=arr, index=['Ali', 'Ayse', 'Husnu'], columns=['Maas', 'Yas', 'Calisma Saati', 'Boy'])"
   ]
  },
  {
   "cell_type": "markdown",
   "id": "ec57a87a",
   "metadata": {},
   "source": [
    "### reset_index()  fonksiyonunu kullanalim;\n",
    "\n",
    "reset_index; bazi senaryolarda indexe ihtiyacimiz olabilir. Bu sebeple bu fonksiyonu kullanabiliriz."
   ]
  },
  {
   "cell_type": "code",
   "execution_count": 16,
   "id": "cec155b6",
   "metadata": {},
   "outputs": [
    {
     "data": {
      "text/html": [
       "<div>\n",
       "<style scoped>\n",
       "    .dataframe tbody tr th:only-of-type {\n",
       "        vertical-align: middle;\n",
       "    }\n",
       "\n",
       "    .dataframe tbody tr th {\n",
       "        vertical-align: top;\n",
       "    }\n",
       "\n",
       "    .dataframe thead th {\n",
       "        text-align: right;\n",
       "    }\n",
       "</style>\n",
       "<table border=\"1\" class=\"dataframe\">\n",
       "  <thead>\n",
       "    <tr style=\"text-align: right;\">\n",
       "      <th></th>\n",
       "      <th>Maas</th>\n",
       "      <th>Yas</th>\n",
       "      <th>Calisma Saati</th>\n",
       "      <th>Boy</th>\n",
       "    </tr>\n",
       "  </thead>\n",
       "  <tbody>\n",
       "    <tr>\n",
       "      <th>Ali</th>\n",
       "      <td>0.891443</td>\n",
       "      <td>0.011406</td>\n",
       "      <td>0.059340</td>\n",
       "      <td>0.600964</td>\n",
       "    </tr>\n",
       "    <tr>\n",
       "      <th>Ayse</th>\n",
       "      <td>0.208296</td>\n",
       "      <td>0.246904</td>\n",
       "      <td>0.947314</td>\n",
       "      <td>0.085358</td>\n",
       "    </tr>\n",
       "    <tr>\n",
       "      <th>Husnu</th>\n",
       "      <td>0.452425</td>\n",
       "      <td>0.915030</td>\n",
       "      <td>0.821451</td>\n",
       "      <td>0.441180</td>\n",
       "    </tr>\n",
       "  </tbody>\n",
       "</table>\n",
       "</div>"
      ],
      "text/plain": [
       "           Maas       Yas  Calisma Saati       Boy\n",
       "Ali    0.891443  0.011406       0.059340  0.600964\n",
       "Ayse   0.208296  0.246904       0.947314  0.085358\n",
       "Husnu  0.452425  0.915030       0.821451  0.441180"
      ]
     },
     "execution_count": 16,
     "metadata": {},
     "output_type": "execute_result"
    }
   ],
   "source": [
    "arr"
   ]
  },
  {
   "cell_type": "code",
   "execution_count": 17,
   "id": "59f66594",
   "metadata": {},
   "outputs": [
    {
     "data": {
      "text/html": [
       "<div>\n",
       "<style scoped>\n",
       "    .dataframe tbody tr th:only-of-type {\n",
       "        vertical-align: middle;\n",
       "    }\n",
       "\n",
       "    .dataframe tbody tr th {\n",
       "        vertical-align: top;\n",
       "    }\n",
       "\n",
       "    .dataframe thead th {\n",
       "        text-align: right;\n",
       "    }\n",
       "</style>\n",
       "<table border=\"1\" class=\"dataframe\">\n",
       "  <thead>\n",
       "    <tr style=\"text-align: right;\">\n",
       "      <th></th>\n",
       "      <th>index</th>\n",
       "      <th>Maas</th>\n",
       "      <th>Yas</th>\n",
       "      <th>Calisma Saati</th>\n",
       "      <th>Boy</th>\n",
       "    </tr>\n",
       "  </thead>\n",
       "  <tbody>\n",
       "    <tr>\n",
       "      <th>0</th>\n",
       "      <td>Ali</td>\n",
       "      <td>0.891443</td>\n",
       "      <td>0.011406</td>\n",
       "      <td>0.059340</td>\n",
       "      <td>0.600964</td>\n",
       "    </tr>\n",
       "    <tr>\n",
       "      <th>1</th>\n",
       "      <td>Ayse</td>\n",
       "      <td>0.208296</td>\n",
       "      <td>0.246904</td>\n",
       "      <td>0.947314</td>\n",
       "      <td>0.085358</td>\n",
       "    </tr>\n",
       "    <tr>\n",
       "      <th>2</th>\n",
       "      <td>Husnu</td>\n",
       "      <td>0.452425</td>\n",
       "      <td>0.915030</td>\n",
       "      <td>0.821451</td>\n",
       "      <td>0.441180</td>\n",
       "    </tr>\n",
       "  </tbody>\n",
       "</table>\n",
       "</div>"
      ],
      "text/plain": [
       "   index      Maas       Yas  Calisma Saati       Boy\n",
       "0    Ali  0.891443  0.011406       0.059340  0.600964\n",
       "1   Ayse  0.208296  0.246904       0.947314  0.085358\n",
       "2  Husnu  0.452425  0.915030       0.821451  0.441180"
      ]
     },
     "execution_count": 17,
     "metadata": {},
     "output_type": "execute_result"
    }
   ],
   "source": [
    "arr.reset_index()"
   ]
  },
  {
   "cell_type": "markdown",
   "id": "4f9437bc",
   "metadata": {},
   "source": [
    "#### Degisikliklerin yerinde uygulanmasi icin inplace fonksiyonuna True degerini vermemiz lazim"
   ]
  },
  {
   "cell_type": "code",
   "execution_count": 19,
   "id": "51d6bb37",
   "metadata": {},
   "outputs": [
    {
     "data": {
      "text/html": [
       "<div>\n",
       "<style scoped>\n",
       "    .dataframe tbody tr th:only-of-type {\n",
       "        vertical-align: middle;\n",
       "    }\n",
       "\n",
       "    .dataframe tbody tr th {\n",
       "        vertical-align: top;\n",
       "    }\n",
       "\n",
       "    .dataframe thead th {\n",
       "        text-align: right;\n",
       "    }\n",
       "</style>\n",
       "<table border=\"1\" class=\"dataframe\">\n",
       "  <thead>\n",
       "    <tr style=\"text-align: right;\">\n",
       "      <th></th>\n",
       "      <th>Maas</th>\n",
       "      <th>Yas</th>\n",
       "      <th>Calisma Saati</th>\n",
       "      <th>Boy</th>\n",
       "    </tr>\n",
       "  </thead>\n",
       "  <tbody>\n",
       "    <tr>\n",
       "      <th>Ali</th>\n",
       "      <td>0.891443</td>\n",
       "      <td>0.011406</td>\n",
       "      <td>0.059340</td>\n",
       "      <td>0.600964</td>\n",
       "    </tr>\n",
       "    <tr>\n",
       "      <th>Ayse</th>\n",
       "      <td>0.208296</td>\n",
       "      <td>0.246904</td>\n",
       "      <td>0.947314</td>\n",
       "      <td>0.085358</td>\n",
       "    </tr>\n",
       "    <tr>\n",
       "      <th>Husnu</th>\n",
       "      <td>0.452425</td>\n",
       "      <td>0.915030</td>\n",
       "      <td>0.821451</td>\n",
       "      <td>0.441180</td>\n",
       "    </tr>\n",
       "  </tbody>\n",
       "</table>\n",
       "</div>"
      ],
      "text/plain": [
       "           Maas       Yas  Calisma Saati       Boy\n",
       "Ali    0.891443  0.011406       0.059340  0.600964\n",
       "Ayse   0.208296  0.246904       0.947314  0.085358\n",
       "Husnu  0.452425  0.915030       0.821451  0.441180"
      ]
     },
     "execution_count": 19,
     "metadata": {},
     "output_type": "execute_result"
    }
   ],
   "source": [
    "arr"
   ]
  },
  {
   "cell_type": "markdown",
   "id": "bc5463ab",
   "metadata": {},
   "source": [
    "Tablomuza Yeni Column Ekleyelim..."
   ]
  },
  {
   "cell_type": "code",
   "execution_count": 23,
   "id": "59d1ac34",
   "metadata": {},
   "outputs": [],
   "source": [
    "yeniIndexListesi = ['Al', 'Ay', 'Hu']"
   ]
  },
  {
   "cell_type": "code",
   "execution_count": 24,
   "id": "03f7d9b4",
   "metadata": {},
   "outputs": [],
   "source": [
    "arr['Yeni Index'] = yeniIndexListesi"
   ]
  },
  {
   "cell_type": "code",
   "execution_count": 25,
   "id": "c053938b",
   "metadata": {},
   "outputs": [
    {
     "data": {
      "text/html": [
       "<div>\n",
       "<style scoped>\n",
       "    .dataframe tbody tr th:only-of-type {\n",
       "        vertical-align: middle;\n",
       "    }\n",
       "\n",
       "    .dataframe tbody tr th {\n",
       "        vertical-align: top;\n",
       "    }\n",
       "\n",
       "    .dataframe thead th {\n",
       "        text-align: right;\n",
       "    }\n",
       "</style>\n",
       "<table border=\"1\" class=\"dataframe\">\n",
       "  <thead>\n",
       "    <tr style=\"text-align: right;\">\n",
       "      <th></th>\n",
       "      <th>Maas</th>\n",
       "      <th>Yas</th>\n",
       "      <th>Calisma Saati</th>\n",
       "      <th>Boy</th>\n",
       "      <th>Yeni Index</th>\n",
       "    </tr>\n",
       "  </thead>\n",
       "  <tbody>\n",
       "    <tr>\n",
       "      <th>Ali</th>\n",
       "      <td>0.891443</td>\n",
       "      <td>0.011406</td>\n",
       "      <td>0.059340</td>\n",
       "      <td>0.600964</td>\n",
       "      <td>Al</td>\n",
       "    </tr>\n",
       "    <tr>\n",
       "      <th>Ayse</th>\n",
       "      <td>0.208296</td>\n",
       "      <td>0.246904</td>\n",
       "      <td>0.947314</td>\n",
       "      <td>0.085358</td>\n",
       "      <td>Ay</td>\n",
       "    </tr>\n",
       "    <tr>\n",
       "      <th>Husnu</th>\n",
       "      <td>0.452425</td>\n",
       "      <td>0.915030</td>\n",
       "      <td>0.821451</td>\n",
       "      <td>0.441180</td>\n",
       "      <td>Hu</td>\n",
       "    </tr>\n",
       "  </tbody>\n",
       "</table>\n",
       "</div>"
      ],
      "text/plain": [
       "           Maas       Yas  Calisma Saati       Boy Yeni Index\n",
       "Ali    0.891443  0.011406       0.059340  0.600964         Al\n",
       "Ayse   0.208296  0.246904       0.947314  0.085358         Ay\n",
       "Husnu  0.452425  0.915030       0.821451  0.441180         Hu"
      ]
     },
     "execution_count": 25,
     "metadata": {},
     "output_type": "execute_result"
    }
   ],
   "source": [
    "arr"
   ]
  },
  {
   "cell_type": "markdown",
   "id": "416fb726",
   "metadata": {},
   "source": [
    "#### Index numaralarini degistirmek istersek;\n",
    "\n",
    "once yeni Column eklemeliyiz daha sonra o Column'u tasimaliyiz."
   ]
  },
  {
   "cell_type": "code",
   "execution_count": 28,
   "id": "7a23ff80",
   "metadata": {},
   "outputs": [
    {
     "data": {
      "text/html": [
       "<div>\n",
       "<style scoped>\n",
       "    .dataframe tbody tr th:only-of-type {\n",
       "        vertical-align: middle;\n",
       "    }\n",
       "\n",
       "    .dataframe tbody tr th {\n",
       "        vertical-align: top;\n",
       "    }\n",
       "\n",
       "    .dataframe thead th {\n",
       "        text-align: right;\n",
       "    }\n",
       "</style>\n",
       "<table border=\"1\" class=\"dataframe\">\n",
       "  <thead>\n",
       "    <tr style=\"text-align: right;\">\n",
       "      <th></th>\n",
       "      <th>Maas</th>\n",
       "      <th>Yas</th>\n",
       "      <th>Calisma Saati</th>\n",
       "      <th>Boy</th>\n",
       "    </tr>\n",
       "    <tr>\n",
       "      <th>Yeni Index</th>\n",
       "      <th></th>\n",
       "      <th></th>\n",
       "      <th></th>\n",
       "      <th></th>\n",
       "    </tr>\n",
       "  </thead>\n",
       "  <tbody>\n",
       "    <tr>\n",
       "      <th>Al</th>\n",
       "      <td>0.891443</td>\n",
       "      <td>0.011406</td>\n",
       "      <td>0.059340</td>\n",
       "      <td>0.600964</td>\n",
       "    </tr>\n",
       "    <tr>\n",
       "      <th>Ay</th>\n",
       "      <td>0.208296</td>\n",
       "      <td>0.246904</td>\n",
       "      <td>0.947314</td>\n",
       "      <td>0.085358</td>\n",
       "    </tr>\n",
       "    <tr>\n",
       "      <th>Hu</th>\n",
       "      <td>0.452425</td>\n",
       "      <td>0.915030</td>\n",
       "      <td>0.821451</td>\n",
       "      <td>0.441180</td>\n",
       "    </tr>\n",
       "  </tbody>\n",
       "</table>\n",
       "</div>"
      ],
      "text/plain": [
       "                Maas       Yas  Calisma Saati       Boy\n",
       "Yeni Index                                             \n",
       "Al          0.891443  0.011406       0.059340  0.600964\n",
       "Ay          0.208296  0.246904       0.947314  0.085358\n",
       "Hu          0.452425  0.915030       0.821451  0.441180"
      ]
     },
     "execution_count": 28,
     "metadata": {},
     "output_type": "execute_result"
    }
   ],
   "source": [
    "arr.set_index('Yeni Index')"
   ]
  },
  {
   "cell_type": "markdown",
   "id": "2de5d385",
   "metadata": {},
   "source": [
    "inplace=True kullanmadigimiz icin degisiklikler gecici oldu!"
   ]
  },
  {
   "cell_type": "code",
   "execution_count": 29,
   "id": "8049cbcf",
   "metadata": {},
   "outputs": [
    {
     "data": {
      "text/html": [
       "<div>\n",
       "<style scoped>\n",
       "    .dataframe tbody tr th:only-of-type {\n",
       "        vertical-align: middle;\n",
       "    }\n",
       "\n",
       "    .dataframe tbody tr th {\n",
       "        vertical-align: top;\n",
       "    }\n",
       "\n",
       "    .dataframe thead th {\n",
       "        text-align: right;\n",
       "    }\n",
       "</style>\n",
       "<table border=\"1\" class=\"dataframe\">\n",
       "  <thead>\n",
       "    <tr style=\"text-align: right;\">\n",
       "      <th></th>\n",
       "      <th>Maas</th>\n",
       "      <th>Yas</th>\n",
       "      <th>Calisma Saati</th>\n",
       "      <th>Boy</th>\n",
       "      <th>Yeni Index</th>\n",
       "    </tr>\n",
       "  </thead>\n",
       "  <tbody>\n",
       "    <tr>\n",
       "      <th>Ali</th>\n",
       "      <td>0.891443</td>\n",
       "      <td>0.011406</td>\n",
       "      <td>0.059340</td>\n",
       "      <td>0.600964</td>\n",
       "      <td>Al</td>\n",
       "    </tr>\n",
       "    <tr>\n",
       "      <th>Ayse</th>\n",
       "      <td>0.208296</td>\n",
       "      <td>0.246904</td>\n",
       "      <td>0.947314</td>\n",
       "      <td>0.085358</td>\n",
       "      <td>Ay</td>\n",
       "    </tr>\n",
       "    <tr>\n",
       "      <th>Husnu</th>\n",
       "      <td>0.452425</td>\n",
       "      <td>0.915030</td>\n",
       "      <td>0.821451</td>\n",
       "      <td>0.441180</td>\n",
       "      <td>Hu</td>\n",
       "    </tr>\n",
       "  </tbody>\n",
       "</table>\n",
       "</div>"
      ],
      "text/plain": [
       "           Maas       Yas  Calisma Saati       Boy Yeni Index\n",
       "Ali    0.891443  0.011406       0.059340  0.600964         Al\n",
       "Ayse   0.208296  0.246904       0.947314  0.085358         Ay\n",
       "Husnu  0.452425  0.915030       0.821451  0.441180         Hu"
      ]
     },
     "execution_count": 29,
     "metadata": {},
     "output_type": "execute_result"
    }
   ],
   "source": [
    "arr"
   ]
  },
  {
   "cell_type": "code",
   "execution_count": 30,
   "id": "db006524",
   "metadata": {},
   "outputs": [],
   "source": [
    "arr.set_index('Yeni Index', inplace=True)"
   ]
  },
  {
   "cell_type": "code",
   "execution_count": 31,
   "id": "63b38509",
   "metadata": {},
   "outputs": [
    {
     "data": {
      "text/html": [
       "<div>\n",
       "<style scoped>\n",
       "    .dataframe tbody tr th:only-of-type {\n",
       "        vertical-align: middle;\n",
       "    }\n",
       "\n",
       "    .dataframe tbody tr th {\n",
       "        vertical-align: top;\n",
       "    }\n",
       "\n",
       "    .dataframe thead th {\n",
       "        text-align: right;\n",
       "    }\n",
       "</style>\n",
       "<table border=\"1\" class=\"dataframe\">\n",
       "  <thead>\n",
       "    <tr style=\"text-align: right;\">\n",
       "      <th></th>\n",
       "      <th>Maas</th>\n",
       "      <th>Yas</th>\n",
       "      <th>Calisma Saati</th>\n",
       "      <th>Boy</th>\n",
       "    </tr>\n",
       "    <tr>\n",
       "      <th>Yeni Index</th>\n",
       "      <th></th>\n",
       "      <th></th>\n",
       "      <th></th>\n",
       "      <th></th>\n",
       "    </tr>\n",
       "  </thead>\n",
       "  <tbody>\n",
       "    <tr>\n",
       "      <th>Al</th>\n",
       "      <td>0.891443</td>\n",
       "      <td>0.011406</td>\n",
       "      <td>0.059340</td>\n",
       "      <td>0.600964</td>\n",
       "    </tr>\n",
       "    <tr>\n",
       "      <th>Ay</th>\n",
       "      <td>0.208296</td>\n",
       "      <td>0.246904</td>\n",
       "      <td>0.947314</td>\n",
       "      <td>0.085358</td>\n",
       "    </tr>\n",
       "    <tr>\n",
       "      <th>Hu</th>\n",
       "      <td>0.452425</td>\n",
       "      <td>0.915030</td>\n",
       "      <td>0.821451</td>\n",
       "      <td>0.441180</td>\n",
       "    </tr>\n",
       "  </tbody>\n",
       "</table>\n",
       "</div>"
      ],
      "text/plain": [
       "                Maas       Yas  Calisma Saati       Boy\n",
       "Yeni Index                                             \n",
       "Al          0.891443  0.011406       0.059340  0.600964\n",
       "Ay          0.208296  0.246904       0.947314  0.085358\n",
       "Hu          0.452425  0.915030       0.821451  0.441180"
      ]
     },
     "execution_count": 31,
     "metadata": {},
     "output_type": "execute_result"
    }
   ],
   "source": [
    "arr"
   ]
  },
  {
   "cell_type": "code",
   "execution_count": 32,
   "id": "ceb39d32",
   "metadata": {},
   "outputs": [
    {
     "data": {
      "text/plain": [
       "Maas             0.891443\n",
       "Yas              0.011406\n",
       "Calisma Saati    0.059340\n",
       "Boy              0.600964\n",
       "Name: Al, dtype: float64"
      ]
     },
     "execution_count": 32,
     "metadata": {},
     "output_type": "execute_result"
    }
   ],
   "source": [
    "arr.loc['Al']"
   ]
  },
  {
   "cell_type": "code",
   "execution_count": null,
   "id": "fa3c220e",
   "metadata": {},
   "outputs": [],
   "source": []
  }
 ],
 "metadata": {
  "kernelspec": {
   "display_name": "Python 3 (ipykernel)",
   "language": "python",
   "name": "python3"
  },
  "language_info": {
   "codemirror_mode": {
    "name": "ipython",
    "version": 3
   },
   "file_extension": ".py",
   "mimetype": "text/x-python",
   "name": "python",
   "nbconvert_exporter": "python",
   "pygments_lexer": "ipython3",
   "version": "3.9.5"
  }
 },
 "nbformat": 4,
 "nbformat_minor": 5
}
