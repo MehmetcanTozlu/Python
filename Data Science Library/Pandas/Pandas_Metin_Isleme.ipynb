{
 "cells": [
  {
   "cell_type": "markdown",
   "id": "b0d2f477",
   "metadata": {},
   "source": [
    "# Metin Isleme;\n",
    "\n",
    "### Metin verilerini yani \"string\" verilerini işlemek ve temizlemek zor olabilir. Çünkü metin verilerinde birçok yanlış ve tutarsızlık olabilir. Yanlış yazım, büyük harf küçük harf farkları, encoding tipleri, aynı değerin farklı şekillerde yazılabilmesi bu yanlış ve tutarsızlıklara örnektir. Örneğin; tarih yazarken \"24/12/2018\" de yazabiliriz \"24-12-2018\" de. Bu iki metnin belirttiği tarihler aynı ancak içerdiği bazı karakterler farklı.3"
   ]
  },
  {
   "cell_type": "code",
   "execution_count": 2,
   "id": "5461b82b",
   "metadata": {},
   "outputs": [],
   "source": [
    "import numpy as np\n",
    "import pandas as pd"
   ]
  },
  {
   "cell_type": "markdown",
   "id": "c458998e",
   "metadata": {},
   "source": [
    "### Data Frame'i olusturalim"
   ]
  },
  {
   "cell_type": "code",
   "execution_count": 3,
   "id": "40de5748",
   "metadata": {},
   "outputs": [],
   "source": [
    "df = pd.DataFrame(data = {\n",
    "    'Veri': [\n",
    "        '1987_E_ABD _1',\n",
    "        '1990?_E_ING_1',\n",
    "        '1992_K_ABD_2',\n",
    "        '1970?_E_   IT_1',\n",
    "        '1985_K_I  T_2'\n",
    "    ]})"
   ]
  },
  {
   "cell_type": "markdown",
   "id": "d45b36ad",
   "metadata": {},
   "source": [
    "#### Bu DF sirasiyla; yil - cinsiyet - ulke - cocuk sayisi iceriyor\n",
    "\n",
    "#### Bu bilgileri ayirip farkli sutunlar olarak isleyecegiz"
   ]
  },
  {
   "cell_type": "code",
   "execution_count": 6,
   "id": "6064a3e5",
   "metadata": {},
   "outputs": [
    {
     "data": {
      "text/html": [
       "<div>\n",
       "<style scoped>\n",
       "    .dataframe tbody tr th:only-of-type {\n",
       "        vertical-align: middle;\n",
       "    }\n",
       "\n",
       "    .dataframe tbody tr th {\n",
       "        vertical-align: top;\n",
       "    }\n",
       "\n",
       "    .dataframe thead th {\n",
       "        text-align: right;\n",
       "    }\n",
       "</style>\n",
       "<table border=\"1\" class=\"dataframe\">\n",
       "  <thead>\n",
       "    <tr style=\"text-align: right;\">\n",
       "      <th></th>\n",
       "      <th>Veri</th>\n",
       "    </tr>\n",
       "  </thead>\n",
       "  <tbody>\n",
       "    <tr>\n",
       "      <th>0</th>\n",
       "      <td>1987_E_ABD _1</td>\n",
       "    </tr>\n",
       "    <tr>\n",
       "      <th>1</th>\n",
       "      <td>1990?_E_ING_1</td>\n",
       "    </tr>\n",
       "    <tr>\n",
       "      <th>2</th>\n",
       "      <td>1992_K_ABD_2</td>\n",
       "    </tr>\n",
       "    <tr>\n",
       "      <th>3</th>\n",
       "      <td>1970?_E_   IT_1</td>\n",
       "    </tr>\n",
       "    <tr>\n",
       "      <th>4</th>\n",
       "      <td>1985_K_I  T_2</td>\n",
       "    </tr>\n",
       "  </tbody>\n",
       "</table>\n",
       "</div>"
      ],
      "text/plain": [
       "              Veri\n",
       "0    1987_E_ABD _1\n",
       "1    1990?_E_ING_1\n",
       "2     1992_K_ABD_2\n",
       "3  1970?_E_   IT_1\n",
       "4    1985_K_I  T_2"
      ]
     },
     "execution_count": 6,
     "metadata": {},
     "output_type": "execute_result"
    }
   ],
   "source": [
    "df"
   ]
  },
  {
   "cell_type": "markdown",
   "id": "fa7c5e7f",
   "metadata": {},
   "source": [
    "## Veri Column'unu split('_') ile ayir ve expand=True ile de her underscore arasini bir Column Yap!!!!\n",
    "\n",
    "### Bu islem yeni bir data frame dondurdugunden df ye esitleyelim kalici olsun..."
   ]
  },
  {
   "cell_type": "code",
   "execution_count": 13,
   "id": "22741340",
   "metadata": {
    "scrolled": true
   },
   "outputs": [],
   "source": [
    "df = df['Veri'].str.split('_', expand=True)"
   ]
  },
  {
   "cell_type": "code",
   "execution_count": 14,
   "id": "ef1c29c1",
   "metadata": {},
   "outputs": [
    {
     "data": {
      "text/html": [
       "<div>\n",
       "<style scoped>\n",
       "    .dataframe tbody tr th:only-of-type {\n",
       "        vertical-align: middle;\n",
       "    }\n",
       "\n",
       "    .dataframe tbody tr th {\n",
       "        vertical-align: top;\n",
       "    }\n",
       "\n",
       "    .dataframe thead th {\n",
       "        text-align: right;\n",
       "    }\n",
       "</style>\n",
       "<table border=\"1\" class=\"dataframe\">\n",
       "  <thead>\n",
       "    <tr style=\"text-align: right;\">\n",
       "      <th></th>\n",
       "      <th>0</th>\n",
       "      <th>1</th>\n",
       "      <th>2</th>\n",
       "      <th>3</th>\n",
       "    </tr>\n",
       "  </thead>\n",
       "  <tbody>\n",
       "    <tr>\n",
       "      <th>0</th>\n",
       "      <td>1987</td>\n",
       "      <td>E</td>\n",
       "      <td>ABD</td>\n",
       "      <td>1</td>\n",
       "    </tr>\n",
       "    <tr>\n",
       "      <th>1</th>\n",
       "      <td>1990?</td>\n",
       "      <td>E</td>\n",
       "      <td>ING</td>\n",
       "      <td>1</td>\n",
       "    </tr>\n",
       "    <tr>\n",
       "      <th>2</th>\n",
       "      <td>1992</td>\n",
       "      <td>K</td>\n",
       "      <td>ABD</td>\n",
       "      <td>2</td>\n",
       "    </tr>\n",
       "    <tr>\n",
       "      <th>3</th>\n",
       "      <td>1970?</td>\n",
       "      <td>E</td>\n",
       "      <td>IT</td>\n",
       "      <td>1</td>\n",
       "    </tr>\n",
       "    <tr>\n",
       "      <th>4</th>\n",
       "      <td>1985</td>\n",
       "      <td>K</td>\n",
       "      <td>I  T</td>\n",
       "      <td>2</td>\n",
       "    </tr>\n",
       "  </tbody>\n",
       "</table>\n",
       "</div>"
      ],
      "text/plain": [
       "       0  1      2  3\n",
       "0   1987  E   ABD   1\n",
       "1  1990?  E    ING  1\n",
       "2   1992  K    ABD  2\n",
       "3  1970?  E     IT  1\n",
       "4   1985  K   I  T  2"
      ]
     },
     "execution_count": 14,
     "metadata": {},
     "output_type": "execute_result"
    }
   ],
   "source": [
    "df"
   ]
  },
  {
   "cell_type": "markdown",
   "id": "01ea3635",
   "metadata": {},
   "source": [
    "### Sutun Isimlerini degistirelim;"
   ]
  },
  {
   "cell_type": "code",
   "execution_count": 16,
   "id": "21b10ec1",
   "metadata": {},
   "outputs": [],
   "source": [
    "df.columns = ['Yil', 'Cinsiyet', 'Ulke', 'Cocuk Sayisi']"
   ]
  },
  {
   "cell_type": "code",
   "execution_count": 17,
   "id": "e2e029cd",
   "metadata": {},
   "outputs": [
    {
     "data": {
      "text/html": [
       "<div>\n",
       "<style scoped>\n",
       "    .dataframe tbody tr th:only-of-type {\n",
       "        vertical-align: middle;\n",
       "    }\n",
       "\n",
       "    .dataframe tbody tr th {\n",
       "        vertical-align: top;\n",
       "    }\n",
       "\n",
       "    .dataframe thead th {\n",
       "        text-align: right;\n",
       "    }\n",
       "</style>\n",
       "<table border=\"1\" class=\"dataframe\">\n",
       "  <thead>\n",
       "    <tr style=\"text-align: right;\">\n",
       "      <th></th>\n",
       "      <th>Yil</th>\n",
       "      <th>Cinsiyet</th>\n",
       "      <th>Ulke</th>\n",
       "      <th>Cocuk Sayisi</th>\n",
       "    </tr>\n",
       "  </thead>\n",
       "  <tbody>\n",
       "    <tr>\n",
       "      <th>0</th>\n",
       "      <td>1987</td>\n",
       "      <td>E</td>\n",
       "      <td>ABD</td>\n",
       "      <td>1</td>\n",
       "    </tr>\n",
       "    <tr>\n",
       "      <th>1</th>\n",
       "      <td>1990?</td>\n",
       "      <td>E</td>\n",
       "      <td>ING</td>\n",
       "      <td>1</td>\n",
       "    </tr>\n",
       "    <tr>\n",
       "      <th>2</th>\n",
       "      <td>1992</td>\n",
       "      <td>K</td>\n",
       "      <td>ABD</td>\n",
       "      <td>2</td>\n",
       "    </tr>\n",
       "    <tr>\n",
       "      <th>3</th>\n",
       "      <td>1970?</td>\n",
       "      <td>E</td>\n",
       "      <td>IT</td>\n",
       "      <td>1</td>\n",
       "    </tr>\n",
       "    <tr>\n",
       "      <th>4</th>\n",
       "      <td>1985</td>\n",
       "      <td>K</td>\n",
       "      <td>I  T</td>\n",
       "      <td>2</td>\n",
       "    </tr>\n",
       "  </tbody>\n",
       "</table>\n",
       "</div>"
      ],
      "text/plain": [
       "     Yil Cinsiyet   Ulke Cocuk Sayisi\n",
       "0   1987        E   ABD             1\n",
       "1  1990?        E    ING            1\n",
       "2   1992        K    ABD            2\n",
       "3  1970?        E     IT            1\n",
       "4   1985        K   I  T            2"
      ]
     },
     "execution_count": 17,
     "metadata": {},
     "output_type": "execute_result"
    }
   ],
   "source": [
    "df"
   ]
  },
  {
   "cell_type": "markdown",
   "id": "5d49ee45",
   "metadata": {},
   "source": [
    "### Verilerde herhangi bir metin ya da karakter bulunuyor mu diye kontrol etmek için \"contains\" metodunu kullanabiliriz. Örneğin; soru işareti (?) içeren verilere bakalım:"
   ]
  },
  {
   "cell_type": "code",
   "execution_count": 26,
   "id": "442c7d8d",
   "metadata": {},
   "outputs": [
    {
     "data": {
      "text/plain": [
       "0    False\n",
       "1    False\n",
       "2    False\n",
       "3    False\n",
       "4    False\n",
       "Name: Yil, dtype: bool"
      ]
     },
     "execution_count": 26,
     "metadata": {},
     "output_type": "execute_result"
    }
   ],
   "source": [
    "df['Yil'].str.contains('\\?')"
   ]
  },
  {
   "cell_type": "markdown",
   "id": "e043f636",
   "metadata": {},
   "source": [
    "### Burada iki tane yıl verisi \"?\" içeriyor, bu işaretleri silmemiz lazım. \"replace\" metodu ile bu işaretleri boş string (\"\") ile değiştirerek silebiliriz:"
   ]
  },
  {
   "cell_type": "markdown",
   "id": "e3087b3e",
   "metadata": {},
   "source": [
    "Verilen hataya takilmayalim"
   ]
  },
  {
   "cell_type": "code",
   "execution_count": 36,
   "id": "03383d72",
   "metadata": {},
   "outputs": [
    {
     "name": "stderr",
     "output_type": "stream",
     "text": [
      "C:\\Users\\mehmet\\AppData\\Local\\Temp\\ipykernel_12216\\1571128917.py:1: FutureWarning: The default value of regex will change from True to False in a future version.\n",
      "  df['Yil'] = df[\"Yil\"].str.replace(\"\\?\", \"\")\n"
     ]
    }
   ],
   "source": [
    "df['Yil'] = df[\"Yil\"].str.replace(\"\\?\", \"\")"
   ]
  },
  {
   "cell_type": "markdown",
   "id": "7fef7e79",
   "metadata": {},
   "source": [
    "#### Goruldugu gibi ? olan yil degerlerini duzenledik"
   ]
  },
  {
   "cell_type": "code",
   "execution_count": 38,
   "id": "35a935bf",
   "metadata": {},
   "outputs": [
    {
     "data": {
      "text/plain": [
       "0    1987\n",
       "1    1990\n",
       "2    1992\n",
       "3    1970\n",
       "4    1985\n",
       "Name: Yil, dtype: object"
      ]
     },
     "execution_count": 38,
     "metadata": {},
     "output_type": "execute_result"
    }
   ],
   "source": [
    "df['Yil']"
   ]
  },
  {
   "cell_type": "code",
   "execution_count": 39,
   "id": "72e23480",
   "metadata": {},
   "outputs": [
    {
     "data": {
      "text/html": [
       "<div>\n",
       "<style scoped>\n",
       "    .dataframe tbody tr th:only-of-type {\n",
       "        vertical-align: middle;\n",
       "    }\n",
       "\n",
       "    .dataframe tbody tr th {\n",
       "        vertical-align: top;\n",
       "    }\n",
       "\n",
       "    .dataframe thead th {\n",
       "        text-align: right;\n",
       "    }\n",
       "</style>\n",
       "<table border=\"1\" class=\"dataframe\">\n",
       "  <thead>\n",
       "    <tr style=\"text-align: right;\">\n",
       "      <th></th>\n",
       "      <th>Yil</th>\n",
       "      <th>Cinsiyet</th>\n",
       "      <th>Ulke</th>\n",
       "      <th>Cocuk Sayisi</th>\n",
       "    </tr>\n",
       "  </thead>\n",
       "  <tbody>\n",
       "    <tr>\n",
       "      <th>0</th>\n",
       "      <td>1987</td>\n",
       "      <td>E</td>\n",
       "      <td>ABD</td>\n",
       "      <td>1</td>\n",
       "    </tr>\n",
       "    <tr>\n",
       "      <th>1</th>\n",
       "      <td>1990</td>\n",
       "      <td>E</td>\n",
       "      <td>ING</td>\n",
       "      <td>1</td>\n",
       "    </tr>\n",
       "    <tr>\n",
       "      <th>2</th>\n",
       "      <td>1992</td>\n",
       "      <td>K</td>\n",
       "      <td>ABD</td>\n",
       "      <td>2</td>\n",
       "    </tr>\n",
       "    <tr>\n",
       "      <th>3</th>\n",
       "      <td>1970</td>\n",
       "      <td>E</td>\n",
       "      <td>IT</td>\n",
       "      <td>1</td>\n",
       "    </tr>\n",
       "    <tr>\n",
       "      <th>4</th>\n",
       "      <td>1985</td>\n",
       "      <td>K</td>\n",
       "      <td>I  T</td>\n",
       "      <td>2</td>\n",
       "    </tr>\n",
       "  </tbody>\n",
       "</table>\n",
       "</div>"
      ],
      "text/plain": [
       "    Yil Cinsiyet   Ulke Cocuk Sayisi\n",
       "0  1987        E   ABD             1\n",
       "1  1990        E    ING            1\n",
       "2  1992        K    ABD            2\n",
       "3  1970        E     IT            1\n",
       "4  1985        K   I  T            2"
      ]
     },
     "execution_count": 39,
     "metadata": {},
     "output_type": "execute_result"
    }
   ],
   "source": [
    "df"
   ]
  },
  {
   "cell_type": "markdown",
   "id": "39343c0a",
   "metadata": {},
   "source": [
    "#### Simdi de Ulke isimlerinde herhangi bir kural bozuklugu varmi bakalim. Mesela ' ' karakteri"
   ]
  },
  {
   "cell_type": "markdown",
   "id": "c3bcfd55",
   "metadata": {},
   "source": [
    "### Bosluk karakteri olan rowlari bool olarak getirdik"
   ]
  },
  {
   "cell_type": "code",
   "execution_count": 42,
   "id": "a17f964e",
   "metadata": {},
   "outputs": [
    {
     "data": {
      "text/plain": [
       "0     True\n",
       "1    False\n",
       "2    False\n",
       "3     True\n",
       "4     True\n",
       "Name: Ulke, dtype: bool"
      ]
     },
     "execution_count": 42,
     "metadata": {},
     "output_type": "execute_result"
    }
   ],
   "source": [
    "df['Ulke'].str.contains(' ')"
   ]
  },
  {
   "cell_type": "markdown",
   "id": "4232a796",
   "metadata": {},
   "source": [
    "### Simdi bosluk karakterlerini kaldiralim"
   ]
  },
  {
   "cell_type": "code",
   "execution_count": 46,
   "id": "2dc272a3",
   "metadata": {},
   "outputs": [],
   "source": [
    "df['Ulke'] = df['Ulke'].str.replace(\" \", \"\")"
   ]
  },
  {
   "cell_type": "code",
   "execution_count": 47,
   "id": "6cababe0",
   "metadata": {},
   "outputs": [
    {
     "data": {
      "text/plain": [
       "0    ABD\n",
       "1    ING\n",
       "2    ABD\n",
       "3     IT\n",
       "4     IT\n",
       "Name: Ulke, dtype: object"
      ]
     },
     "execution_count": 47,
     "metadata": {},
     "output_type": "execute_result"
    }
   ],
   "source": [
    "df['Ulke']"
   ]
  },
  {
   "cell_type": "code",
   "execution_count": 48,
   "id": "39cba661",
   "metadata": {},
   "outputs": [
    {
     "data": {
      "text/html": [
       "<div>\n",
       "<style scoped>\n",
       "    .dataframe tbody tr th:only-of-type {\n",
       "        vertical-align: middle;\n",
       "    }\n",
       "\n",
       "    .dataframe tbody tr th {\n",
       "        vertical-align: top;\n",
       "    }\n",
       "\n",
       "    .dataframe thead th {\n",
       "        text-align: right;\n",
       "    }\n",
       "</style>\n",
       "<table border=\"1\" class=\"dataframe\">\n",
       "  <thead>\n",
       "    <tr style=\"text-align: right;\">\n",
       "      <th></th>\n",
       "      <th>Yil</th>\n",
       "      <th>Cinsiyet</th>\n",
       "      <th>Ulke</th>\n",
       "      <th>Cocuk Sayisi</th>\n",
       "    </tr>\n",
       "  </thead>\n",
       "  <tbody>\n",
       "    <tr>\n",
       "      <th>0</th>\n",
       "      <td>1987</td>\n",
       "      <td>E</td>\n",
       "      <td>ABD</td>\n",
       "      <td>1</td>\n",
       "    </tr>\n",
       "    <tr>\n",
       "      <th>1</th>\n",
       "      <td>1990</td>\n",
       "      <td>E</td>\n",
       "      <td>ING</td>\n",
       "      <td>1</td>\n",
       "    </tr>\n",
       "    <tr>\n",
       "      <th>2</th>\n",
       "      <td>1992</td>\n",
       "      <td>K</td>\n",
       "      <td>ABD</td>\n",
       "      <td>2</td>\n",
       "    </tr>\n",
       "    <tr>\n",
       "      <th>3</th>\n",
       "      <td>1970</td>\n",
       "      <td>E</td>\n",
       "      <td>IT</td>\n",
       "      <td>1</td>\n",
       "    </tr>\n",
       "    <tr>\n",
       "      <th>4</th>\n",
       "      <td>1985</td>\n",
       "      <td>K</td>\n",
       "      <td>IT</td>\n",
       "      <td>2</td>\n",
       "    </tr>\n",
       "  </tbody>\n",
       "</table>\n",
       "</div>"
      ],
      "text/plain": [
       "    Yil Cinsiyet Ulke Cocuk Sayisi\n",
       "0  1987        E  ABD            1\n",
       "1  1990        E  ING            1\n",
       "2  1992        K  ABD            2\n",
       "3  1970        E   IT            1\n",
       "4  1985        K   IT            2"
      ]
     },
     "execution_count": 48,
     "metadata": {},
     "output_type": "execute_result"
    }
   ],
   "source": [
    "df"
   ]
  },
  {
   "cell_type": "markdown",
   "id": "c5227d94",
   "metadata": {},
   "source": [
    "### Bosluk varmis gibi gorunse de alttaki satirla olmadiginin saglamasini yaptik"
   ]
  },
  {
   "cell_type": "code",
   "execution_count": 50,
   "id": "9138f3bd",
   "metadata": {},
   "outputs": [
    {
     "data": {
      "text/plain": [
       "0    False\n",
       "1    False\n",
       "2    False\n",
       "3    False\n",
       "4    False\n",
       "Name: Ulke, dtype: bool"
      ]
     },
     "execution_count": 50,
     "metadata": {},
     "output_type": "execute_result"
    }
   ],
   "source": [
    "df['Ulke'].str.contains(' ')"
   ]
  },
  {
   "cell_type": "code",
   "execution_count": null,
   "id": "d6cf2b9c",
   "metadata": {},
   "outputs": [],
   "source": []
  }
 ],
 "metadata": {
  "kernelspec": {
   "display_name": "Python 3 (ipykernel)",
   "language": "python",
   "name": "python3"
  },
  "language_info": {
   "codemirror_mode": {
    "name": "ipython",
    "version": 3
   },
   "file_extension": ".py",
   "mimetype": "text/x-python",
   "name": "python",
   "nbconvert_exporter": "python",
   "pygments_lexer": "ipython3",
   "version": "3.9.5"
  }
 },
 "nbformat": 4,
 "nbformat_minor": 5
}
