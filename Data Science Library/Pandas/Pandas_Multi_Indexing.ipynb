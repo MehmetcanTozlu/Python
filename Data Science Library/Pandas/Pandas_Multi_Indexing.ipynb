{
 "cells": [
  {
   "cell_type": "markdown",
   "id": "a1ad64fb",
   "metadata": {},
   "source": [
    "# Multi Indexing (Coklu Indeks)"
   ]
  },
  {
   "cell_type": "code",
   "execution_count": 76,
   "id": "092f17d6",
   "metadata": {},
   "outputs": [],
   "source": [
    "import numpy as np"
   ]
  },
  {
   "cell_type": "code",
   "execution_count": 77,
   "id": "cf5c70d5",
   "metadata": {},
   "outputs": [],
   "source": [
    "import pandas as pd"
   ]
  },
  {
   "cell_type": "code",
   "execution_count": 78,
   "id": "bfcb2fca",
   "metadata": {},
   "outputs": [],
   "source": [
    "arr = np.random.rand(3, 4)"
   ]
  },
  {
   "cell_type": "code",
   "execution_count": 79,
   "id": "db11065d",
   "metadata": {},
   "outputs": [
    {
     "data": {
      "text/plain": [
       "array([[0.96474901, 0.50695015, 0.38489957, 0.98847231],\n",
       "       [0.71582966, 0.63816243, 0.15983298, 0.59608699],\n",
       "       [0.42510367, 0.82564773, 0.67738472, 0.19350024]])"
      ]
     },
     "execution_count": 79,
     "metadata": {},
     "output_type": "execute_result"
    }
   ],
   "source": [
    "arr"
   ]
  },
  {
   "cell_type": "code",
   "execution_count": 80,
   "id": "7afdc45f",
   "metadata": {},
   "outputs": [],
   "source": [
    "arr = pd.DataFrame(data=arr, index=['Ali', 'Ayşe', 'Osman'], columns=['Yas', 'Gelir', 'Boy', 'Maas'])"
   ]
  },
  {
   "cell_type": "code",
   "execution_count": 81,
   "id": "ad931556",
   "metadata": {},
   "outputs": [
    {
     "data": {
      "text/html": [
       "<div>\n",
       "<style scoped>\n",
       "    .dataframe tbody tr th:only-of-type {\n",
       "        vertical-align: middle;\n",
       "    }\n",
       "\n",
       "    .dataframe tbody tr th {\n",
       "        vertical-align: top;\n",
       "    }\n",
       "\n",
       "    .dataframe thead th {\n",
       "        text-align: right;\n",
       "    }\n",
       "</style>\n",
       "<table border=\"1\" class=\"dataframe\">\n",
       "  <thead>\n",
       "    <tr style=\"text-align: right;\">\n",
       "      <th></th>\n",
       "      <th>Yas</th>\n",
       "      <th>Gelir</th>\n",
       "      <th>Boy</th>\n",
       "      <th>Maas</th>\n",
       "    </tr>\n",
       "  </thead>\n",
       "  <tbody>\n",
       "    <tr>\n",
       "      <th>Ali</th>\n",
       "      <td>0.964749</td>\n",
       "      <td>0.506950</td>\n",
       "      <td>0.384900</td>\n",
       "      <td>0.988472</td>\n",
       "    </tr>\n",
       "    <tr>\n",
       "      <th>Ayşe</th>\n",
       "      <td>0.715830</td>\n",
       "      <td>0.638162</td>\n",
       "      <td>0.159833</td>\n",
       "      <td>0.596087</td>\n",
       "    </tr>\n",
       "    <tr>\n",
       "      <th>Osman</th>\n",
       "      <td>0.425104</td>\n",
       "      <td>0.825648</td>\n",
       "      <td>0.677385</td>\n",
       "      <td>0.193500</td>\n",
       "    </tr>\n",
       "  </tbody>\n",
       "</table>\n",
       "</div>"
      ],
      "text/plain": [
       "            Yas     Gelir       Boy      Maas\n",
       "Ali    0.964749  0.506950  0.384900  0.988472\n",
       "Ayşe   0.715830  0.638162  0.159833  0.596087\n",
       "Osman  0.425104  0.825648  0.677385  0.193500"
      ]
     },
     "execution_count": 81,
     "metadata": {},
     "output_type": "execute_result"
    }
   ],
   "source": [
    "arr"
   ]
  },
  {
   "cell_type": "code",
   "execution_count": 82,
   "id": "ba493c3d",
   "metadata": {},
   "outputs": [],
   "source": [
    "yeniIndex = ['Al', 2, 3]"
   ]
  },
  {
   "cell_type": "code",
   "execution_count": 83,
   "id": "9a31a594",
   "metadata": {},
   "outputs": [],
   "source": [
    "arr['Yeni Index'] = yeniIndex"
   ]
  },
  {
   "cell_type": "code",
   "execution_count": 84,
   "id": "b67edce1",
   "metadata": {},
   "outputs": [
    {
     "data": {
      "text/html": [
       "<div>\n",
       "<style scoped>\n",
       "    .dataframe tbody tr th:only-of-type {\n",
       "        vertical-align: middle;\n",
       "    }\n",
       "\n",
       "    .dataframe tbody tr th {\n",
       "        vertical-align: top;\n",
       "    }\n",
       "\n",
       "    .dataframe thead th {\n",
       "        text-align: right;\n",
       "    }\n",
       "</style>\n",
       "<table border=\"1\" class=\"dataframe\">\n",
       "  <thead>\n",
       "    <tr style=\"text-align: right;\">\n",
       "      <th></th>\n",
       "      <th>Yas</th>\n",
       "      <th>Gelir</th>\n",
       "      <th>Boy</th>\n",
       "      <th>Maas</th>\n",
       "      <th>Yeni Index</th>\n",
       "    </tr>\n",
       "  </thead>\n",
       "  <tbody>\n",
       "    <tr>\n",
       "      <th>Ali</th>\n",
       "      <td>0.964749</td>\n",
       "      <td>0.506950</td>\n",
       "      <td>0.384900</td>\n",
       "      <td>0.988472</td>\n",
       "      <td>Al</td>\n",
       "    </tr>\n",
       "    <tr>\n",
       "      <th>Ayşe</th>\n",
       "      <td>0.715830</td>\n",
       "      <td>0.638162</td>\n",
       "      <td>0.159833</td>\n",
       "      <td>0.596087</td>\n",
       "      <td>2</td>\n",
       "    </tr>\n",
       "    <tr>\n",
       "      <th>Osman</th>\n",
       "      <td>0.425104</td>\n",
       "      <td>0.825648</td>\n",
       "      <td>0.677385</td>\n",
       "      <td>0.193500</td>\n",
       "      <td>3</td>\n",
       "    </tr>\n",
       "  </tbody>\n",
       "</table>\n",
       "</div>"
      ],
      "text/plain": [
       "            Yas     Gelir       Boy      Maas Yeni Index\n",
       "Ali    0.964749  0.506950  0.384900  0.988472         Al\n",
       "Ayşe   0.715830  0.638162  0.159833  0.596087          2\n",
       "Osman  0.425104  0.825648  0.677385  0.193500          3"
      ]
     },
     "execution_count": 84,
     "metadata": {},
     "output_type": "execute_result"
    }
   ],
   "source": [
    "arr"
   ]
  },
  {
   "cell_type": "code",
   "execution_count": 85,
   "id": "138002c9",
   "metadata": {},
   "outputs": [
    {
     "data": {
      "text/html": [
       "<div>\n",
       "<style scoped>\n",
       "    .dataframe tbody tr th:only-of-type {\n",
       "        vertical-align: middle;\n",
       "    }\n",
       "\n",
       "    .dataframe tbody tr th {\n",
       "        vertical-align: top;\n",
       "    }\n",
       "\n",
       "    .dataframe thead th {\n",
       "        text-align: right;\n",
       "    }\n",
       "</style>\n",
       "<table border=\"1\" class=\"dataframe\">\n",
       "  <thead>\n",
       "    <tr style=\"text-align: right;\">\n",
       "      <th></th>\n",
       "      <th>Yas</th>\n",
       "      <th>Gelir</th>\n",
       "      <th>Boy</th>\n",
       "      <th>Maas</th>\n",
       "    </tr>\n",
       "    <tr>\n",
       "      <th>Yeni Index</th>\n",
       "      <th></th>\n",
       "      <th></th>\n",
       "      <th></th>\n",
       "      <th></th>\n",
       "    </tr>\n",
       "  </thead>\n",
       "  <tbody>\n",
       "    <tr>\n",
       "      <th>Al</th>\n",
       "      <td>0.964749</td>\n",
       "      <td>0.506950</td>\n",
       "      <td>0.384900</td>\n",
       "      <td>0.988472</td>\n",
       "    </tr>\n",
       "    <tr>\n",
       "      <th>2</th>\n",
       "      <td>0.715830</td>\n",
       "      <td>0.638162</td>\n",
       "      <td>0.159833</td>\n",
       "      <td>0.596087</td>\n",
       "    </tr>\n",
       "    <tr>\n",
       "      <th>3</th>\n",
       "      <td>0.425104</td>\n",
       "      <td>0.825648</td>\n",
       "      <td>0.677385</td>\n",
       "      <td>0.193500</td>\n",
       "    </tr>\n",
       "  </tbody>\n",
       "</table>\n",
       "</div>"
      ],
      "text/plain": [
       "                 Yas     Gelir       Boy      Maas\n",
       "Yeni Index                                        \n",
       "Al          0.964749  0.506950  0.384900  0.988472\n",
       "2           0.715830  0.638162  0.159833  0.596087\n",
       "3           0.425104  0.825648  0.677385  0.193500"
      ]
     },
     "execution_count": 85,
     "metadata": {},
     "output_type": "execute_result"
    }
   ],
   "source": [
    "arr.set_index('Yeni Index')"
   ]
  },
  {
   "cell_type": "code",
   "execution_count": 86,
   "id": "fcca8dfd",
   "metadata": {},
   "outputs": [
    {
     "data": {
      "text/html": [
       "<div>\n",
       "<style scoped>\n",
       "    .dataframe tbody tr th:only-of-type {\n",
       "        vertical-align: middle;\n",
       "    }\n",
       "\n",
       "    .dataframe tbody tr th {\n",
       "        vertical-align: top;\n",
       "    }\n",
       "\n",
       "    .dataframe thead th {\n",
       "        text-align: right;\n",
       "    }\n",
       "</style>\n",
       "<table border=\"1\" class=\"dataframe\">\n",
       "  <thead>\n",
       "    <tr style=\"text-align: right;\">\n",
       "      <th></th>\n",
       "      <th>Yas</th>\n",
       "      <th>Gelir</th>\n",
       "      <th>Boy</th>\n",
       "      <th>Maas</th>\n",
       "      <th>Yeni Index</th>\n",
       "    </tr>\n",
       "  </thead>\n",
       "  <tbody>\n",
       "    <tr>\n",
       "      <th>Ali</th>\n",
       "      <td>0.964749</td>\n",
       "      <td>0.506950</td>\n",
       "      <td>0.384900</td>\n",
       "      <td>0.988472</td>\n",
       "      <td>Al</td>\n",
       "    </tr>\n",
       "    <tr>\n",
       "      <th>Ayşe</th>\n",
       "      <td>0.715830</td>\n",
       "      <td>0.638162</td>\n",
       "      <td>0.159833</td>\n",
       "      <td>0.596087</td>\n",
       "      <td>2</td>\n",
       "    </tr>\n",
       "    <tr>\n",
       "      <th>Osman</th>\n",
       "      <td>0.425104</td>\n",
       "      <td>0.825648</td>\n",
       "      <td>0.677385</td>\n",
       "      <td>0.193500</td>\n",
       "      <td>3</td>\n",
       "    </tr>\n",
       "  </tbody>\n",
       "</table>\n",
       "</div>"
      ],
      "text/plain": [
       "            Yas     Gelir       Boy      Maas Yeni Index\n",
       "Ali    0.964749  0.506950  0.384900  0.988472         Al\n",
       "Ayşe   0.715830  0.638162  0.159833  0.596087          2\n",
       "Osman  0.425104  0.825648  0.677385  0.193500          3"
      ]
     },
     "execution_count": 86,
     "metadata": {},
     "output_type": "execute_result"
    }
   ],
   "source": [
    "arr"
   ]
  },
  {
   "cell_type": "markdown",
   "id": "8223de84",
   "metadata": {},
   "source": [
    "### Belirli Columdaki degerleri gruplayalim;"
   ]
  },
  {
   "cell_type": "code",
   "execution_count": 87,
   "id": "d25d6977",
   "metadata": {},
   "outputs": [],
   "source": [
    "firstIndex = ['Simpson', 'Simpson', 'Simpson', 'Sout Park', 'Sout Park', 'Sout Park']"
   ]
  },
  {
   "cell_type": "code",
   "execution_count": 88,
   "id": "0afe66de",
   "metadata": {},
   "outputs": [],
   "source": [
    "secondIndex = ['Homer', 'Bart', 'Marge', 'Cartman', 'Kenny', 'Kyle']"
   ]
  },
  {
   "cell_type": "markdown",
   "id": "7c33a937",
   "metadata": {},
   "source": [
    "#### yukaridaki 2 listeyi zip() ile birlestirdik"
   ]
  },
  {
   "cell_type": "code",
   "execution_count": 89,
   "id": "e62096d1",
   "metadata": {},
   "outputs": [],
   "source": [
    "birlesmisIndex = list(zip(firstIndex, secondIndex))"
   ]
  },
  {
   "cell_type": "code",
   "execution_count": 90,
   "id": "dc4b6848",
   "metadata": {},
   "outputs": [
    {
     "data": {
      "text/plain": [
       "[('Simpson', 'Homer'),\n",
       " ('Simpson', 'Bart'),\n",
       " ('Simpson', 'Marge'),\n",
       " ('Sout Park', 'Cartman'),\n",
       " ('Sout Park', 'Kenny'),\n",
       " ('Sout Park', 'Kyle')]"
      ]
     },
     "execution_count": 90,
     "metadata": {},
     "output_type": "execute_result"
    }
   ],
   "source": [
    "birlesmisIndex"
   ]
  },
  {
   "cell_type": "markdown",
   "id": "bced64b0",
   "metadata": {},
   "source": [
    "### Simpson olanlari tek tip, Sout Park olanlari tek tip sekilde gorunmesi icin MultiIndex.from_tuples fonksiyonunu kullandik,\n",
    "\n",
    "#### Eger birlesmisIndex listesi tuple olmasaydi baska veri tipini kullanacaktik!!!"
   ]
  },
  {
   "cell_type": "code",
   "execution_count": 91,
   "id": "aad496f5",
   "metadata": {},
   "outputs": [],
   "source": [
    "birlesmisIndex = pd.MultiIndex.from_tuples(birlesmisIndex)"
   ]
  },
  {
   "cell_type": "code",
   "execution_count": 92,
   "id": "fc1a3af3",
   "metadata": {
    "scrolled": true
   },
   "outputs": [
    {
     "data": {
      "text/plain": [
       "MultiIndex([(  'Simpson',   'Homer'),\n",
       "            (  'Simpson',    'Bart'),\n",
       "            (  'Simpson',   'Marge'),\n",
       "            ('Sout Park', 'Cartman'),\n",
       "            ('Sout Park',   'Kenny'),\n",
       "            ('Sout Park',    'Kyle')],\n",
       "           )"
      ]
     },
     "execution_count": 92,
     "metadata": {},
     "output_type": "execute_result"
    }
   ],
   "source": [
    "birlesmisIndex"
   ]
  },
  {
   "cell_type": "markdown",
   "id": "68543d0e",
   "metadata": {},
   "source": [
    "Alt Satirda Tablomuza ek olarak ekleyecegimiz diger verileri liste halinde girdik."
   ]
  },
  {
   "cell_type": "code",
   "execution_count": 93,
   "id": "bb19e69b",
   "metadata": {},
   "outputs": [],
   "source": [
    "cizgiFilmListe = [[40,'A'], [10,'B'], [30,'C'], [9,'D'], [10,'E'], [11,'F']]"
   ]
  },
  {
   "cell_type": "code",
   "execution_count": 94,
   "id": "d8796070",
   "metadata": {},
   "outputs": [
    {
     "data": {
      "text/plain": [
       "[[40, 'A'], [10, 'B'], [30, 'C'], [9, 'D'], [10, 'E'], [11, 'F']]"
      ]
     },
     "execution_count": 94,
     "metadata": {},
     "output_type": "execute_result"
    }
   ],
   "source": [
    "cizgiFilmListe"
   ]
  },
  {
   "cell_type": "markdown",
   "id": "61ca9823",
   "metadata": {},
   "source": [
    "Alt satirda bu listeyi Numpy Array'ine cevirdik"
   ]
  },
  {
   "cell_type": "code",
   "execution_count": 95,
   "id": "446daad1",
   "metadata": {},
   "outputs": [],
   "source": [
    "cizgiFilmNumpyListe = np.array(cizgiFilmListe)"
   ]
  },
  {
   "cell_type": "code",
   "execution_count": 96,
   "id": "59d09e52",
   "metadata": {
    "scrolled": true
   },
   "outputs": [
    {
     "data": {
      "text/plain": [
       "array([['40', 'A'],\n",
       "       ['10', 'B'],\n",
       "       ['30', 'C'],\n",
       "       ['9', 'D'],\n",
       "       ['10', 'E'],\n",
       "       ['11', 'F']], dtype='<U11')"
      ]
     },
     "execution_count": 96,
     "metadata": {},
     "output_type": "execute_result"
    }
   ],
   "source": [
    "cizgiFilmNumpyListe"
   ]
  },
  {
   "cell_type": "markdown",
   "id": "00d44b14",
   "metadata": {},
   "source": [
    "#### Data Frame islemi"
   ]
  },
  {
   "cell_type": "code",
   "execution_count": 97,
   "id": "0a7c0059",
   "metadata": {},
   "outputs": [],
   "source": [
    "cizgiFilmDataFrame = pd.DataFrame(data=cizgiFilmNumpyListe, index=birlesmisIndex, columns=['Yas', 'Meslek'])"
   ]
  },
  {
   "cell_type": "code",
   "execution_count": 98,
   "id": "9fb8f22a",
   "metadata": {
    "scrolled": true
   },
   "outputs": [
    {
     "data": {
      "text/html": [
       "<div>\n",
       "<style scoped>\n",
       "    .dataframe tbody tr th:only-of-type {\n",
       "        vertical-align: middle;\n",
       "    }\n",
       "\n",
       "    .dataframe tbody tr th {\n",
       "        vertical-align: top;\n",
       "    }\n",
       "\n",
       "    .dataframe thead th {\n",
       "        text-align: right;\n",
       "    }\n",
       "</style>\n",
       "<table border=\"1\" class=\"dataframe\">\n",
       "  <thead>\n",
       "    <tr style=\"text-align: right;\">\n",
       "      <th></th>\n",
       "      <th></th>\n",
       "      <th>Yas</th>\n",
       "      <th>Meslek</th>\n",
       "    </tr>\n",
       "  </thead>\n",
       "  <tbody>\n",
       "    <tr>\n",
       "      <th rowspan=\"3\" valign=\"top\">Simpson</th>\n",
       "      <th>Homer</th>\n",
       "      <td>40</td>\n",
       "      <td>A</td>\n",
       "    </tr>\n",
       "    <tr>\n",
       "      <th>Bart</th>\n",
       "      <td>10</td>\n",
       "      <td>B</td>\n",
       "    </tr>\n",
       "    <tr>\n",
       "      <th>Marge</th>\n",
       "      <td>30</td>\n",
       "      <td>C</td>\n",
       "    </tr>\n",
       "    <tr>\n",
       "      <th rowspan=\"3\" valign=\"top\">Sout Park</th>\n",
       "      <th>Cartman</th>\n",
       "      <td>9</td>\n",
       "      <td>D</td>\n",
       "    </tr>\n",
       "    <tr>\n",
       "      <th>Kenny</th>\n",
       "      <td>10</td>\n",
       "      <td>E</td>\n",
       "    </tr>\n",
       "    <tr>\n",
       "      <th>Kyle</th>\n",
       "      <td>11</td>\n",
       "      <td>F</td>\n",
       "    </tr>\n",
       "  </tbody>\n",
       "</table>\n",
       "</div>"
      ],
      "text/plain": [
       "                  Yas Meslek\n",
       "Simpson   Homer    40      A\n",
       "          Bart     10      B\n",
       "          Marge    30      C\n",
       "Sout Park Cartman   9      D\n",
       "          Kenny    10      E\n",
       "          Kyle     11      F"
      ]
     },
     "execution_count": 98,
     "metadata": {},
     "output_type": "execute_result"
    }
   ],
   "source": [
    "cizgiFilmDataFrame"
   ]
  },
  {
   "cell_type": "markdown",
   "id": "a8b60505",
   "metadata": {},
   "source": [
    "## Simdide Index girerek bazi verilere ulasmaya calisalim;"
   ]
  },
  {
   "cell_type": "code",
   "execution_count": 99,
   "id": "c041f213",
   "metadata": {},
   "outputs": [
    {
     "data": {
      "text/html": [
       "<div>\n",
       "<style scoped>\n",
       "    .dataframe tbody tr th:only-of-type {\n",
       "        vertical-align: middle;\n",
       "    }\n",
       "\n",
       "    .dataframe tbody tr th {\n",
       "        vertical-align: top;\n",
       "    }\n",
       "\n",
       "    .dataframe thead th {\n",
       "        text-align: right;\n",
       "    }\n",
       "</style>\n",
       "<table border=\"1\" class=\"dataframe\">\n",
       "  <thead>\n",
       "    <tr style=\"text-align: right;\">\n",
       "      <th></th>\n",
       "      <th>Yas</th>\n",
       "      <th>Meslek</th>\n",
       "    </tr>\n",
       "  </thead>\n",
       "  <tbody>\n",
       "    <tr>\n",
       "      <th>Homer</th>\n",
       "      <td>40</td>\n",
       "      <td>A</td>\n",
       "    </tr>\n",
       "    <tr>\n",
       "      <th>Bart</th>\n",
       "      <td>10</td>\n",
       "      <td>B</td>\n",
       "    </tr>\n",
       "    <tr>\n",
       "      <th>Marge</th>\n",
       "      <td>30</td>\n",
       "      <td>C</td>\n",
       "    </tr>\n",
       "  </tbody>\n",
       "</table>\n",
       "</div>"
      ],
      "text/plain": [
       "      Yas Meslek\n",
       "Homer  40      A\n",
       "Bart   10      B\n",
       "Marge  30      C"
      ]
     },
     "execution_count": 99,
     "metadata": {},
     "output_type": "execute_result"
    }
   ],
   "source": [
    "cizgiFilmDataFrame.loc['Simpson']"
   ]
  },
  {
   "cell_type": "code",
   "execution_count": 100,
   "id": "34b616fe",
   "metadata": {},
   "outputs": [
    {
     "data": {
      "text/plain": [
       "Yas       11\n",
       "Meslek     F\n",
       "Name: Kyle, dtype: object"
      ]
     },
     "execution_count": 100,
     "metadata": {},
     "output_type": "execute_result"
    }
   ],
   "source": [
    "cizgiFilmDataFrame.loc['Sout Park'].loc['Kyle']"
   ]
  },
  {
   "cell_type": "markdown",
   "id": "9f9753da",
   "metadata": {},
   "source": [
    "### Alt satirda 0. ve 1. index'in tag'lari yok. Buna tag vermeye calisalim;"
   ]
  },
  {
   "cell_type": "code",
   "execution_count": 101,
   "id": "2f054286",
   "metadata": {},
   "outputs": [
    {
     "data": {
      "text/html": [
       "<div>\n",
       "<style scoped>\n",
       "    .dataframe tbody tr th:only-of-type {\n",
       "        vertical-align: middle;\n",
       "    }\n",
       "\n",
       "    .dataframe tbody tr th {\n",
       "        vertical-align: top;\n",
       "    }\n",
       "\n",
       "    .dataframe thead th {\n",
       "        text-align: right;\n",
       "    }\n",
       "</style>\n",
       "<table border=\"1\" class=\"dataframe\">\n",
       "  <thead>\n",
       "    <tr style=\"text-align: right;\">\n",
       "      <th></th>\n",
       "      <th></th>\n",
       "      <th>Yas</th>\n",
       "      <th>Meslek</th>\n",
       "    </tr>\n",
       "  </thead>\n",
       "  <tbody>\n",
       "    <tr>\n",
       "      <th rowspan=\"3\" valign=\"top\">Simpson</th>\n",
       "      <th>Homer</th>\n",
       "      <td>40</td>\n",
       "      <td>A</td>\n",
       "    </tr>\n",
       "    <tr>\n",
       "      <th>Bart</th>\n",
       "      <td>10</td>\n",
       "      <td>B</td>\n",
       "    </tr>\n",
       "    <tr>\n",
       "      <th>Marge</th>\n",
       "      <td>30</td>\n",
       "      <td>C</td>\n",
       "    </tr>\n",
       "    <tr>\n",
       "      <th rowspan=\"3\" valign=\"top\">Sout Park</th>\n",
       "      <th>Cartman</th>\n",
       "      <td>9</td>\n",
       "      <td>D</td>\n",
       "    </tr>\n",
       "    <tr>\n",
       "      <th>Kenny</th>\n",
       "      <td>10</td>\n",
       "      <td>E</td>\n",
       "    </tr>\n",
       "    <tr>\n",
       "      <th>Kyle</th>\n",
       "      <td>11</td>\n",
       "      <td>F</td>\n",
       "    </tr>\n",
       "  </tbody>\n",
       "</table>\n",
       "</div>"
      ],
      "text/plain": [
       "                  Yas Meslek\n",
       "Simpson   Homer    40      A\n",
       "          Bart     10      B\n",
       "          Marge    30      C\n",
       "Sout Park Cartman   9      D\n",
       "          Kenny    10      E\n",
       "          Kyle     11      F"
      ]
     },
     "execution_count": 101,
     "metadata": {},
     "output_type": "execute_result"
    }
   ],
   "source": [
    "cizgiFilmDataFrame"
   ]
  },
  {
   "cell_type": "code",
   "execution_count": 102,
   "id": "fb2cafdc",
   "metadata": {},
   "outputs": [],
   "source": [
    "cizgiFilmDataFrame.index.names = ['Film Adi', 'Isim']"
   ]
  },
  {
   "cell_type": "code",
   "execution_count": 103,
   "id": "fb84d67e",
   "metadata": {},
   "outputs": [
    {
     "data": {
      "text/html": [
       "<div>\n",
       "<style scoped>\n",
       "    .dataframe tbody tr th:only-of-type {\n",
       "        vertical-align: middle;\n",
       "    }\n",
       "\n",
       "    .dataframe tbody tr th {\n",
       "        vertical-align: top;\n",
       "    }\n",
       "\n",
       "    .dataframe thead th {\n",
       "        text-align: right;\n",
       "    }\n",
       "</style>\n",
       "<table border=\"1\" class=\"dataframe\">\n",
       "  <thead>\n",
       "    <tr style=\"text-align: right;\">\n",
       "      <th></th>\n",
       "      <th></th>\n",
       "      <th>Yas</th>\n",
       "      <th>Meslek</th>\n",
       "    </tr>\n",
       "    <tr>\n",
       "      <th>Film Adi</th>\n",
       "      <th>Isim</th>\n",
       "      <th></th>\n",
       "      <th></th>\n",
       "    </tr>\n",
       "  </thead>\n",
       "  <tbody>\n",
       "    <tr>\n",
       "      <th rowspan=\"3\" valign=\"top\">Simpson</th>\n",
       "      <th>Homer</th>\n",
       "      <td>40</td>\n",
       "      <td>A</td>\n",
       "    </tr>\n",
       "    <tr>\n",
       "      <th>Bart</th>\n",
       "      <td>10</td>\n",
       "      <td>B</td>\n",
       "    </tr>\n",
       "    <tr>\n",
       "      <th>Marge</th>\n",
       "      <td>30</td>\n",
       "      <td>C</td>\n",
       "    </tr>\n",
       "    <tr>\n",
       "      <th rowspan=\"3\" valign=\"top\">Sout Park</th>\n",
       "      <th>Cartman</th>\n",
       "      <td>9</td>\n",
       "      <td>D</td>\n",
       "    </tr>\n",
       "    <tr>\n",
       "      <th>Kenny</th>\n",
       "      <td>10</td>\n",
       "      <td>E</td>\n",
       "    </tr>\n",
       "    <tr>\n",
       "      <th>Kyle</th>\n",
       "      <td>11</td>\n",
       "      <td>F</td>\n",
       "    </tr>\n",
       "  </tbody>\n",
       "</table>\n",
       "</div>"
      ],
      "text/plain": [
       "                  Yas Meslek\n",
       "Film Adi  Isim              \n",
       "Simpson   Homer    40      A\n",
       "          Bart     10      B\n",
       "          Marge    30      C\n",
       "Sout Park Cartman   9      D\n",
       "          Kenny    10      E\n",
       "          Kyle     11      F"
      ]
     },
     "execution_count": 103,
     "metadata": {},
     "output_type": "execute_result"
    }
   ],
   "source": [
    "cizgiFilmDataFrame"
   ]
  },
  {
   "cell_type": "code",
   "execution_count": null,
   "id": "cac18748",
   "metadata": {},
   "outputs": [],
   "source": []
  }
 ],
 "metadata": {
  "kernelspec": {
   "display_name": "Python 3 (ipykernel)",
   "language": "python",
   "name": "python3"
  },
  "language_info": {
   "codemirror_mode": {
    "name": "ipython",
    "version": 3
   },
   "file_extension": ".py",
   "mimetype": "text/x-python",
   "name": "python",
   "nbconvert_exporter": "python",
   "pygments_lexer": "ipython3",
   "version": "3.9.5"
  }
 },
 "nbformat": 4,
 "nbformat_minor": 5
}
