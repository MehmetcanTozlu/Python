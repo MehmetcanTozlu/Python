{
 "cells": [
  {
   "cell_type": "markdown",
   "id": "b32ad6f2",
   "metadata": {},
   "source": [
    "# Series\n",
    "\n",
    "Numpy Arrays'lerine benzer ancak Numpy'e gore daha serbesttir."
   ]
  },
  {
   "cell_type": "code",
   "execution_count": 12,
   "id": "effb39f6",
   "metadata": {},
   "outputs": [],
   "source": [
    "import numpy as np"
   ]
  },
  {
   "cell_type": "code",
   "execution_count": 1,
   "id": "b2c3481e",
   "metadata": {},
   "outputs": [],
   "source": [
    "import pandas as pd"
   ]
  },
  {
   "cell_type": "code",
   "execution_count": 2,
   "id": "435f5fe9",
   "metadata": {},
   "outputs": [],
   "source": [
    "a = pd.array([1, 2, 3, 4])"
   ]
  },
  {
   "cell_type": "code",
   "execution_count": 3,
   "id": "b37f7699",
   "metadata": {},
   "outputs": [
    {
     "data": {
      "text/plain": [
       "<IntegerArray>\n",
       "[1, 2, 3, 4]\n",
       "Length: 4, dtype: Int64"
      ]
     },
     "execution_count": 3,
     "metadata": {},
     "output_type": "execute_result"
    }
   ],
   "source": [
    "a"
   ]
  },
  {
   "cell_type": "code",
   "execution_count": 4,
   "id": "d7952e82",
   "metadata": {},
   "outputs": [],
   "source": [
    "dictionary = {'Ali':20, 'Ayse':25, 'Osman':40, 'Ahmet':55, 'Fatma':33, 'Tugce':44}"
   ]
  },
  {
   "cell_type": "code",
   "execution_count": 5,
   "id": "5f3cd27d",
   "metadata": {},
   "outputs": [
    {
     "data": {
      "text/plain": [
       "{'Ali': 20, 'Ayse': 25, 'Osman': 40, 'Ahmet': 55, 'Fatma': 33, 'Tugce': 44}"
      ]
     },
     "execution_count": 5,
     "metadata": {},
     "output_type": "execute_result"
    }
   ],
   "source": [
    "dictionary"
   ]
  },
  {
   "cell_type": "markdown",
   "id": "91ff7ded",
   "metadata": {},
   "source": [
    "### Simdide Series olusturularim;"
   ]
  },
  {
   "cell_type": "code",
   "execution_count": 6,
   "id": "406ac764",
   "metadata": {},
   "outputs": [
    {
     "data": {
      "text/plain": [
       "Ali      20\n",
       "Ayse     25\n",
       "Osman    40\n",
       "Ahmet    55\n",
       "Fatma    33\n",
       "Tugce    44\n",
       "dtype: int64"
      ]
     },
     "execution_count": 6,
     "metadata": {},
     "output_type": "execute_result"
    }
   ],
   "source": [
    "pd.Series(dictionary)"
   ]
  },
  {
   "cell_type": "code",
   "execution_count": 7,
   "id": "0ba0119c",
   "metadata": {},
   "outputs": [],
   "source": [
    "arrAge = [10, 20, 30]"
   ]
  },
  {
   "cell_type": "code",
   "execution_count": 8,
   "id": "614432c3",
   "metadata": {},
   "outputs": [],
   "source": [
    "arrName = ['Ali', 'Ayse', 'Ahmet']"
   ]
  },
  {
   "cell_type": "markdown",
   "id": "48718d82",
   "metadata": {},
   "source": [
    "### 2 Array'i birlestirdik "
   ]
  },
  {
   "cell_type": "code",
   "execution_count": 11,
   "id": "82d49dbf",
   "metadata": {},
   "outputs": [
    {
     "data": {
      "text/plain": [
       "Ali      10\n",
       "Ayse     20\n",
       "Ahmet    30\n",
       "dtype: int64"
      ]
     },
     "execution_count": 11,
     "metadata": {},
     "output_type": "execute_result"
    }
   ],
   "source": [
    "pd.Series(arrAge, arrName)"
   ]
  },
  {
   "cell_type": "markdown",
   "id": "0620fa0c",
   "metadata": {},
   "source": [
    "### Bir baska kullanimida;"
   ]
  },
  {
   "cell_type": "code",
   "execution_count": 12,
   "id": "dfc4180c",
   "metadata": {},
   "outputs": [
    {
     "data": {
      "text/plain": [
       "Ali      10\n",
       "Ayse     20\n",
       "Ahmet    30\n",
       "dtype: int64"
      ]
     },
     "execution_count": 12,
     "metadata": {},
     "output_type": "execute_result"
    }
   ],
   "source": [
    "pd.Series(data=arrAge, index=arrName)"
   ]
  },
  {
   "cell_type": "markdown",
   "id": "4136b794",
   "metadata": {},
   "source": [
    "## Bunlari Numpy ile yapmak istersek;"
   ]
  },
  {
   "cell_type": "code",
   "execution_count": 49,
   "id": "c8ee96fc",
   "metadata": {},
   "outputs": [],
   "source": [
    "arrNumpy = np.array([10, 20, 30])"
   ]
  },
  {
   "cell_type": "code",
   "execution_count": 50,
   "id": "8d5a631e",
   "metadata": {},
   "outputs": [
    {
     "data": {
      "text/plain": [
       "array([10, 20, 30])"
      ]
     },
     "execution_count": 50,
     "metadata": {},
     "output_type": "execute_result"
    }
   ],
   "source": [
    "arrNumpy"
   ]
  },
  {
   "cell_type": "code",
   "execution_count": 51,
   "id": "c079e3fc",
   "metadata": {},
   "outputs": [
    {
     "data": {
      "text/plain": [
       "0    10\n",
       "1    20\n",
       "2    30\n",
       "dtype: int32"
      ]
     },
     "execution_count": 51,
     "metadata": {},
     "output_type": "execute_result"
    }
   ],
   "source": [
    "pd.Series(arrNumpy)"
   ]
  },
  {
   "cell_type": "code",
   "execution_count": 52,
   "id": "f94eab91",
   "metadata": {},
   "outputs": [
    {
     "data": {
      "text/plain": [
       "Ali      10\n",
       "Ayse     20\n",
       "Ahmet    30\n",
       "dtype: int32"
      ]
     },
     "execution_count": 52,
     "metadata": {},
     "output_type": "execute_result"
    }
   ],
   "source": [
    "pd.Series(data=arrNumpy, index=arrName)"
   ]
  },
  {
   "cell_type": "markdown",
   "id": "dd676ec9",
   "metadata": {},
   "source": [
    "### Manuelde Series Array'leri olusturabiliriz"
   ]
  },
  {
   "cell_type": "markdown",
   "id": "991d8c2f",
   "metadata": {},
   "source": [
    "#### Series'i  kullanirken veri turlerini yazmadigimiz zaman ilk girilen Array DATA'yi,  ikinci girilen Array INDEX'i temsil eder."
   ]
  },
  {
   "cell_type": "code",
   "execution_count": 27,
   "id": "73070791",
   "metadata": {},
   "outputs": [
    {
     "data": {
      "text/plain": [
       "Ali      1\n",
       "Ayse     2\n",
       "Kenan    3\n",
       "Buse     4\n",
       "dtype: int64"
      ]
     },
     "execution_count": 27,
     "metadata": {},
     "output_type": "execute_result"
    }
   ],
   "source": [
    "pd.Series(index=['Ali', 'Ayse','Kenan','Buse'], data=[1, 2, 3, 4])"
   ]
  },
  {
   "cell_type": "code",
   "execution_count": 28,
   "id": "cb4fe04b",
   "metadata": {},
   "outputs": [],
   "source": [
    "yarismaSonucu1 = pd.Series([10, 30, 5], ['Ali', 'Ayse', 'Fatma'])"
   ]
  },
  {
   "cell_type": "code",
   "execution_count": 29,
   "id": "e7c784d4",
   "metadata": {},
   "outputs": [
    {
     "data": {
      "text/plain": [
       "Ali      10\n",
       "Ayse     30\n",
       "Fatma     5\n",
       "dtype: int64"
      ]
     },
     "execution_count": 29,
     "metadata": {},
     "output_type": "execute_result"
    }
   ],
   "source": [
    "yarismaSonucu1"
   ]
  },
  {
   "cell_type": "code",
   "execution_count": 30,
   "id": "fc76369f",
   "metadata": {},
   "outputs": [],
   "source": [
    "yarismaSonucu2 = pd.Series([20, 10, 15], ['Ali', 'Ayse', 'Fatma'])"
   ]
  },
  {
   "cell_type": "code",
   "execution_count": 31,
   "id": "75b8246b",
   "metadata": {},
   "outputs": [
    {
     "data": {
      "text/plain": [
       "Ali      20\n",
       "Ayse     10\n",
       "Fatma    15\n",
       "dtype: int64"
      ]
     },
     "execution_count": 31,
     "metadata": {},
     "output_type": "execute_result"
    }
   ],
   "source": [
    "yarismaSonucu2"
   ]
  },
  {
   "cell_type": "markdown",
   "id": "8bf6c952",
   "metadata": {},
   "source": [
    "#### Series'İ olustururken ki girdigimiz indexlerle data'lara ulasiyoruz."
   ]
  },
  {
   "cell_type": "code",
   "execution_count": 32,
   "id": "f5195168",
   "metadata": {},
   "outputs": [
    {
     "data": {
      "text/plain": [
       "15"
      ]
     },
     "execution_count": 32,
     "metadata": {},
     "output_type": "execute_result"
    }
   ],
   "source": [
    "yarismaSonucu2['Fatma']"
   ]
  },
  {
   "cell_type": "markdown",
   "id": "763bb870",
   "metadata": {},
   "source": [
    "### 2 Series Array'ini toplayabiliriz;"
   ]
  },
  {
   "cell_type": "code",
   "execution_count": 33,
   "id": "2ef911b1",
   "metadata": {},
   "outputs": [],
   "source": [
    "result = yarismaSonucu1 + yarismaSonucu2"
   ]
  },
  {
   "cell_type": "code",
   "execution_count": 41,
   "id": "21cf680c",
   "metadata": {},
   "outputs": [
    {
     "data": {
      "text/plain": [
       "Ali      30\n",
       "Ayse     40\n",
       "Fatma    20\n",
       "dtype: int64"
      ]
     },
     "execution_count": 41,
     "metadata": {},
     "output_type": "execute_result"
    }
   ],
   "source": [
    "result"
   ]
  },
  {
   "cell_type": "markdown",
   "id": "48cdb2f6",
   "metadata": {},
   "source": [
    "### Peki 2 farkli index'e sahip Series Array'ini toplamaya calisalim;"
   ]
  },
  {
   "cell_type": "code",
   "execution_count": 42,
   "id": "afbb76cc",
   "metadata": {},
   "outputs": [],
   "source": [
    "ser1 = pd.Series([10, 20, 30, 40], ['a', 'b', 'c', 'd'])"
   ]
  },
  {
   "cell_type": "code",
   "execution_count": 43,
   "id": "d6fce7b0",
   "metadata": {},
   "outputs": [],
   "source": [
    "ser2 = pd.Series([1, 2, 3, 4], ['a', 'c', 'e', 'g'])"
   ]
  },
  {
   "cell_type": "code",
   "execution_count": 44,
   "id": "576ff6c1",
   "metadata": {},
   "outputs": [
    {
     "data": {
      "text/plain": [
       "a    10\n",
       "b    20\n",
       "c    30\n",
       "d    40\n",
       "dtype: int64"
      ]
     },
     "execution_count": 44,
     "metadata": {},
     "output_type": "execute_result"
    }
   ],
   "source": [
    "ser1"
   ]
  },
  {
   "cell_type": "code",
   "execution_count": 45,
   "id": "39e3d0b8",
   "metadata": {},
   "outputs": [
    {
     "data": {
      "text/plain": [
       "a    1\n",
       "c    2\n",
       "e    3\n",
       "g    4\n",
       "dtype: int64"
      ]
     },
     "execution_count": 45,
     "metadata": {},
     "output_type": "execute_result"
    }
   ],
   "source": [
    "ser2"
   ]
  },
  {
   "cell_type": "code",
   "execution_count": 46,
   "id": "8708e721",
   "metadata": {},
   "outputs": [],
   "source": [
    "result2 = ser1 + ser2"
   ]
  },
  {
   "cell_type": "markdown",
   "id": "27d15f7b",
   "metadata": {},
   "source": [
    "### Sadece 2 Series Array'inde bulunan index'lerin data'larini topladi."
   ]
  },
  {
   "cell_type": "code",
   "execution_count": 53,
   "id": "ab02d2e4",
   "metadata": {},
   "outputs": [
    {
     "data": {
      "text/plain": [
       "a    11.0\n",
       "b     NaN\n",
       "c    32.0\n",
       "d     NaN\n",
       "e     NaN\n",
       "g     NaN\n",
       "dtype: float64"
      ]
     },
     "execution_count": 53,
     "metadata": {},
     "output_type": "execute_result"
    }
   ],
   "source": [
    "result2"
   ]
  },
  {
   "cell_type": "code",
   "execution_count": null,
   "id": "78d30439",
   "metadata": {},
   "outputs": [],
   "source": []
  }
 ],
 "metadata": {
  "kernelspec": {
   "display_name": "Python 3 (ipykernel)",
   "language": "python",
   "name": "python3"
  },
  "language_info": {
   "codemirror_mode": {
    "name": "ipython",
    "version": 3
   },
   "file_extension": ".py",
   "mimetype": "text/x-python",
   "name": "python",
   "nbconvert_exporter": "python",
   "pygments_lexer": "ipython3",
   "version": "3.9.5"
  }
 },
 "nbformat": 4,
 "nbformat_minor": 5
}
