{
 "cells": [
  {
   "cell_type": "code",
   "execution_count": 1,
   "id": "ab2414cc-0bd4-4fae-ada4-51f4b1dc1b9b",
   "metadata": {},
   "outputs": [
    {
     "name": "stderr",
     "output_type": "stream",
     "text": [
      "C:\\python39\\lib\\site-packages\\requests\\__init__.py:102: RequestsDependencyWarning: urllib3 (1.26.7) or chardet (5.0.0)/charset_normalizer (2.0.7) doesn't match a supported version!\n",
      "  warnings.warn(\"urllib3 ({}) or chardet ({})/charset_normalizer ({}) doesn't match a supported \"\n"
     ]
    }
   ],
   "source": [
    "import time\n",
    "import torch\n",
    "import torch.nn as nn\n",
    "from torchvision.datasets import MNIST\n",
    "from torch.optim import RMSprop\n",
    "from torchvision import transforms\n",
    "from torch.utils.data import DataLoader"
   ]
  },
  {
   "cell_type": "code",
   "execution_count": 2,
   "id": "bd589b05-9b1c-4207-8497-bcbe9612af9c",
   "metadata": {},
   "outputs": [
    {
     "data": {
      "text/plain": [
       "device(type='cuda')"
      ]
     },
     "execution_count": 2,
     "metadata": {},
     "output_type": "execute_result"
    }
   ],
   "source": [
    "start_time = time.time()\n",
    "\n",
    "device = torch.device('cuda' if torch.cuda.is_available() else 'cpu')\n",
    "device"
   ]
  },
  {
   "cell_type": "code",
   "execution_count": 3,
   "id": "2a508ffd-9648-4af7-a141-5a764020f11f",
   "metadata": {},
   "outputs": [],
   "source": [
    "transform = transforms.Compose([transforms.ToTensor(), transforms.Normalize((0.5,), (0.5,))]) # data preprocessing ve augmentasyon islemlerini birlestirmek icin kullanilir."
   ]
  },
  {
   "cell_type": "code",
   "execution_count": 4,
   "id": "c63e273e-6927-4120-8c65-cc77c23e0e7a",
   "metadata": {},
   "outputs": [],
   "source": [
    "train_dataset = MNIST(root='', train=True, download=False, transform=transform)\n",
    "test_dataset = MNIST(root='', train=False, download=True, transform=transform)"
   ]
  },
  {
   "cell_type": "code",
   "execution_count": 5,
   "id": "05a0d95d-f7d3-4b3f-b5ce-6102418df854",
   "metadata": {},
   "outputs": [],
   "source": [
    "train_data_loader = DataLoader(train_dataset, batch_size=64, shuffle=True)\n",
    "test_data_loader = DataLoader(test_dataset, batch_size=1000, shuffle=False)"
   ]
  },
  {
   "cell_type": "code",
   "execution_count": 6,
   "id": "c50e4117-45b2-4e1a-8b04-cbd50664fa38",
   "metadata": {},
   "outputs": [],
   "source": [
    "class SimpleAnn(nn.Module):\n",
    "    \n",
    "    def __init__(self, input_dim, hidden_dim, output_dim):\n",
    "        super().__init__()\n",
    "        \n",
    "        self.fc1 = nn.Linear(input_dim, hidden_dim)\n",
    "        self.relu1 = nn.ReLU()\n",
    "        \n",
    "        self.fc2 = nn.Linear(hidden_dim, hidden_dim)\n",
    "        self.relu2 = nn.ReLU()\n",
    "        \n",
    "        self.fc3 = nn.Linear(hidden_dim, output_dim)\n",
    "        self.log_softmax = nn.LogSoftmax(dim=1)\n",
    "        \n",
    "    def forward(self, x):\n",
    "        out = x.view(-1, 28*28)\n",
    "        \n",
    "        out = self.fc1(out)\n",
    "        out = self.relu1(out)\n",
    "        \n",
    "        out = self.fc2(out)\n",
    "        out = self.relu2(out)\n",
    "        \n",
    "        out = self.fc3(out)\n",
    "        out = self.log_softmax(out)\n",
    "        \n",
    "        return out"
   ]
  },
  {
   "cell_type": "code",
   "execution_count": 7,
   "id": "13987d8e-5775-4b67-99e0-98346f8b74a2",
   "metadata": {},
   "outputs": [],
   "source": [
    "input_dim = 28*28\n",
    "hidden_dim = 128\n",
    "output_dim = 10"
   ]
  },
  {
   "cell_type": "code",
   "execution_count": 8,
   "id": "d6d2628d-b4e5-4071-a37a-95b011203ba0",
   "metadata": {},
   "outputs": [],
   "source": [
    "model = SimpleAnn(input_dim=input_dim,\n",
    "                 hidden_dim=hidden_dim,\n",
    "                 output_dim=output_dim).to(device)"
   ]
  },
  {
   "cell_type": "code",
   "execution_count": 9,
   "id": "962bdfb5-9130-419d-b93c-987962965472",
   "metadata": {},
   "outputs": [],
   "source": [
    "criterion = nn.CrossEntropyLoss()\n",
    "\n",
    "lr = 1e-4\n",
    "optimizer = RMSprop(model.parameters(), lr=lr, momentum=0.9)"
   ]
  },
  {
   "cell_type": "code",
   "execution_count": 10,
   "id": "8cc4cc03-6c1c-4d0e-b4ff-5cda5e4f464c",
   "metadata": {},
   "outputs": [],
   "source": [
    "num_epoch = 30\n",
    "count = 0\n",
    "loss_list = []"
   ]
  },
  {
   "cell_type": "code",
   "execution_count": 11,
   "id": "fa17e575-7f87-4415-9800-2d03525eca74",
   "metadata": {},
   "outputs": [
    {
     "name": "stdout",
     "output_type": "stream",
     "text": [
      "Epoch 1/30, Loss: 0.17780403792858124\n",
      "Epoch 2/30, Loss: 0.2518538236618042\n",
      "Epoch 3/30, Loss: 0.14699581265449524\n",
      "Epoch 4/30, Loss: 0.09763103723526001\n",
      "Epoch 5/30, Loss: 0.14549218118190765\n",
      "Epoch 6/30, Loss: 0.3091594874858856\n",
      "Epoch 7/30, Loss: 0.219527468085289\n",
      "Epoch 8/30, Loss: 0.004463255405426025\n",
      "Epoch 9/30, Loss: 0.022847840562462807\n",
      "Epoch 10/30, Loss: 0.06613457202911377\n",
      "Epoch 11/30, Loss: 0.0019192604813724756\n",
      "Epoch 12/30, Loss: 0.0007478297920897603\n",
      "Epoch 13/30, Loss: 0.002960864920169115\n",
      "Epoch 14/30, Loss: 0.0034197031054645777\n",
      "Epoch 15/30, Loss: 0.0008968302863650024\n",
      "Epoch 16/30, Loss: 0.0022288665641099215\n",
      "Epoch 17/30, Loss: 0.22881759703159332\n",
      "Epoch 18/30, Loss: 0.0003365853917784989\n",
      "Epoch 19/30, Loss: 0.0035546571016311646\n",
      "Epoch 20/30, Loss: 0.27667224407196045\n",
      "Epoch 21/30, Loss: 0.002561437664553523\n",
      "Epoch 22/30, Loss: 0.03764021024107933\n",
      "Epoch 23/30, Loss: 5.094634980196133e-05\n",
      "Epoch 24/30, Loss: 0.023407092317938805\n",
      "Epoch 25/30, Loss: 0.0010568887228146195\n",
      "Epoch 26/30, Loss: 0.04218510538339615\n",
      "Epoch 27/30, Loss: 0.05048322677612305\n",
      "Epoch 28/30, Loss: 0.0011266228975728154\n",
      "Epoch 29/30, Loss: 0.0006078992155380547\n",
      "Epoch 30/30, Loss: 4.417322634253651e-05\n"
     ]
    }
   ],
   "source": [
    "for epoch in range(num_epoch):\n",
    "    for images, labels in train_data_loader:\n",
    "        images, labels = images.to(device), labels.to(device)\n",
    "        \n",
    "        optimizer.zero_grad()\n",
    "        outputs = model(images)\n",
    "        loss = criterion(outputs, labels)\n",
    "        loss.backward()\n",
    "        optimizer.step()\n",
    "        \n",
    "    print(f\"Epoch {epoch+1}/{num_epoch}, Loss: {loss.item()}\")"
   ]
  },
  {
   "cell_type": "code",
   "execution_count": null,
   "id": "2f734553-6550-4733-8b74-8a39681139cf",
   "metadata": {},
   "outputs": [],
   "source": [
    "model.eval() # pytorch modelini degerlendirme moduna getirir. Bu ozellikle test ve degerlendirme sirasinda kullanislidir.\n",
    "# Modelin train sirasinda ogrenilen ozelliklerini kullanmasini birakmasina ve test surecinde tutarli sonuclar uretmesine\n",
    "# yardimci olur.\n",
    "# Bu, ozellikle dropout veya batch normalization gibi train sirasinda kullanilan tekniklerin test sirasinda devre disi\n",
    "# birakilmasi gerektigi durumlar icin gecerlidir.\n",
    "\n",
    "correct = 0\n",
    "total = 0"
   ]
  },
  {
   "cell_type": "code",
   "execution_count": null,
   "id": "fe5c9a53-8c66-4ea7-b378-e46e781e1c89",
   "metadata": {
    "tags": []
   },
   "outputs": [],
   "source": [
    "with torch.no_grad():\n",
    "    for images, labels in test_data_loader:\n",
    "        images, labels = images.to(device), labels.to(device)\n",
    "        outputs = model(images)\n",
    "        _, predicted = torch.max(outputs.data, 1)\n",
    "        total += labels.size(0)\n",
    "        correct += (predicted == labels).sum().item()"
   ]
  },
  {
   "cell_type": "code",
   "execution_count": null,
   "id": "d338400d-abe1-48c8-b5c7-9416d388efaf",
   "metadata": {},
   "outputs": [],
   "source": [
    "accuracy = correct / total\n",
    "print(f\"Test Accuracy: % {accuracy * 100}\")"
   ]
  },
  {
   "cell_type": "code",
   "execution_count": null,
   "id": "f5d00d18-861f-4992-b9cd-270441fd9cc3",
   "metadata": {},
   "outputs": [],
   "source": [
    "end_time = time.time()\n",
    "print(end_time - start_time)"
   ]
  },
  {
   "cell_type": "code",
   "execution_count": null,
   "id": "c485dfcd-6da3-4e48-9d3e-9dc1d2f1e420",
   "metadata": {},
   "outputs": [],
   "source": []
  }
 ],
 "metadata": {
  "kernelspec": {
   "display_name": "Python 3 (ipykernel)",
   "language": "python",
   "name": "python3"
  },
  "language_info": {
   "codemirror_mode": {
    "name": "ipython",
    "version": 3
   },
   "file_extension": ".py",
   "mimetype": "text/x-python",
   "name": "python",
   "nbconvert_exporter": "python",
   "pygments_lexer": "ipython3",
   "version": "3.9.5"
  }
 },
 "nbformat": 4,
 "nbformat_minor": 5
}
