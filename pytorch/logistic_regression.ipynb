{
 "cells": [
  {
   "cell_type": "code",
   "execution_count": 1,
   "id": "55105275-29ef-4708-8e98-a6b144624a09",
   "metadata": {},
   "outputs": [
    {
     "name": "stderr",
     "output_type": "stream",
     "text": [
      "C:\\python39\\lib\\site-packages\\requests\\__init__.py:102: RequestsDependencyWarning: urllib3 (1.26.7) or chardet (5.0.0)/charset_normalizer (2.0.7) doesn't match a supported version!\n",
      "  warnings.warn(\"urllib3 ({}) or chardet ({})/charset_normalizer ({}) doesn't match a supported \"\n"
     ]
    }
   ],
   "source": [
    "import numpy as np\n",
    "import pandas as pd\n",
    "import matplotlib.pyplot as plt\n",
    "import torch\n",
    "import torch.nn as nn\n",
    "from torch.optim import RMSprop, SGD\n",
    "from torch.autograd import Variable\n",
    "from torch.utils.data import DataLoader, TensorDataset\n",
    "from torchvision.datasets import DatasetFolder, ImageFolder, ImageNet, mnist, MNIST\n",
    "import warnings\n",
    "\n",
    "warnings.filterwarnings('ignore')\n",
    "%matplotlib inline"
   ]
  },
  {
   "cell_type": "code",
   "execution_count": 4,
   "id": "7ada9301-b730-4645-8224-94895ff404b7",
   "metadata": {},
   "outputs": [],
   "source": [
    "X_train = MNIST(root='C:/Users/mehmet/Jupyter Notebook/Pytorch/', download=False, train=True)"
   ]
  },
  {
   "cell_type": "code",
   "execution_count": 5,
   "id": "bf7574ce-4117-4b16-872b-97d8b3810709",
   "metadata": {},
   "outputs": [
    {
     "data": {
      "text/plain": [
       "<matplotlib.image.AxesImage at 0x1e1611826a0>"
      ]
     },
     "execution_count": 5,
     "metadata": {},
     "output_type": "execute_result"
    },
    {
     "data": {
      "image/png": "[encoded data removed]",
      "text/plain": [
       "<Figure size 432x288 with 1 Axes>"
      ]
     },
     "metadata": {
      "needs_background": "light"
     },
     "output_type": "display_data"
    }
   ],
   "source": [
    "plt.imshow(X_train.data[1])"
   ]
  },
  {
   "cell_type": "code",
   "execution_count": 6,
   "id": "4f34df80-1763-45a5-9b91-b05e4d657cc6",
   "metadata": {},
   "outputs": [
    {
     "data": {
      "text/plain": [
       "tensor([5, 0, 4,  ..., 5, 6, 8])"
      ]
     },
     "execution_count": 6,
     "metadata": {},
     "output_type": "execute_result"
    }
   ],
   "source": [
    "X_train.targets"
   ]
  },
  {
   "cell_type": "code",
   "execution_count": 7,
   "id": "2071ec29-031d-4659-a31f-b06222710cda",
   "metadata": {},
   "outputs": [
    {
     "data": {
      "text/plain": [
       "<matplotlib.image.AxesImage at 0x1e16323a4f0>"
      ]
     },
     "execution_count": 7,
     "metadata": {},
     "output_type": "execute_result"
    },
    {
     "data": {
      "image/png": "[encoded data removed]",
      "text/plain": [
       "<Figure size 432x288 with 1 Axes>"
      ]
     },
     "metadata": {
      "needs_background": "light"
     },
     "output_type": "display_data"
    }
   ],
   "source": [
    "plt.imshow(X_train.train_data[1])"
   ]
  },
  {
   "cell_type": "code",
   "execution_count": 8,
   "id": "7ad5dc0f-dcf2-4404-929b-18b2aa8d1866",
   "metadata": {},
   "outputs": [
    {
     "data": {
      "text/plain": [
       "<matplotlib.image.AxesImage at 0x1e1632a8130>"
      ]
     },
     "execution_count": 8,
     "metadata": {},
     "output_type": "execute_result"
    },
    {
     "data": {
      "image/png": "[encoded data removed]",
      "text/plain": [
       "<Figure size 432x288 with 1 Axes>"
      ]
     },
     "metadata": {
      "needs_background": "light"
     },
     "output_type": "display_data"
    }
   ],
   "source": [
    "plt.imshow(X_train.test_data[1])"
   ]
  },
  {
   "cell_type": "code",
   "execution_count": 9,
   "id": "e0e9e8b8-56c4-4e33-80f9-f77fd3219d83",
   "metadata": {},
   "outputs": [
    {
     "data": {
      "text/plain": [
       "torch.Tensor"
      ]
     },
     "execution_count": 9,
     "metadata": {},
     "output_type": "execute_result"
    }
   ],
   "source": [
    "type(X_train.train_data)"
   ]
  },
  {
   "cell_type": "code",
   "execution_count": 10,
   "id": "efad3325-8435-4147-8b8e-cffcecfa4305",
   "metadata": {},
   "outputs": [
    {
     "data": {
      "text/plain": [
       "torch.Tensor"
      ]
     },
     "execution_count": 10,
     "metadata": {},
     "output_type": "execute_result"
    }
   ],
   "source": [
    "type(X_train.test_data)"
   ]
  },
  {
   "cell_type": "code",
   "execution_count": 11,
   "id": "a3addd9c-71de-46b0-8ee5-b78a7fe4d179",
   "metadata": {},
   "outputs": [
    {
     "data": {
      "text/plain": [
       "torch.Tensor"
      ]
     },
     "execution_count": 11,
     "metadata": {},
     "output_type": "execute_result"
    }
   ],
   "source": [
    "type(X_train.train_labels)"
   ]
  },
  {
   "cell_type": "code",
   "execution_count": 12,
   "id": "eb5ba506-f43c-4e0b-9602-53114ae9939d",
   "metadata": {},
   "outputs": [
    {
     "data": {
      "text/plain": [
       "torch.Tensor"
      ]
     },
     "execution_count": 12,
     "metadata": {},
     "output_type": "execute_result"
    }
   ],
   "source": [
    "type(X_train.test_labels)"
   ]
  },
  {
   "cell_type": "code",
   "execution_count": 13,
   "id": "35b6c7fa-e238-468c-9462-1ded1eb1d7f3",
   "metadata": {},
   "outputs": [
    {
     "data": {
      "text/plain": [
       "torch.utils.data.dataset.TensorDataset"
      ]
     },
     "execution_count": 13,
     "metadata": {},
     "output_type": "execute_result"
    }
   ],
   "source": [
    "train_tensor = TensorDataset(X_train.train_data, X_train.train_labels)\n",
    "test_tensor = TensorDataset(X_train.test_data, X_train.test_labels)\n",
    "type(train_tensor)"
   ]
  },
  {
   "cell_type": "code",
   "execution_count": 14,
   "id": "e95af127-c4f4-4f0f-a989-e559bea53dbf",
   "metadata": {},
   "outputs": [
    {
     "data": {
      "text/plain": [
       "(60000, 60000)"
      ]
     },
     "execution_count": 14,
     "metadata": {},
     "output_type": "execute_result"
    }
   ],
   "source": [
    "len(train_tensor), len(test_tensor)"
   ]
  },
  {
   "cell_type": "code",
   "execution_count": 15,
   "id": "ad7013c9-d4d3-436e-b717-fc4031876aa7",
   "metadata": {},
   "outputs": [
    {
     "data": {
      "text/plain": [
       "torch.utils.data.dataloader.DataLoader"
      ]
     },
     "execution_count": 15,
     "metadata": {},
     "output_type": "execute_result"
    }
   ],
   "source": [
    "batch_size = 100\n",
    "train_loader = DataLoader(train_tensor, batch_size=batch_size, shuffle=True)\n",
    "test_loader = DataLoader(test_tensor, batch_size=batch_size, shuffle=False)\n",
    "type(train_loader)"
   ]
  },
  {
   "cell_type": "code",
   "execution_count": 23,
   "id": "72bab42c-9c40-4814-961e-4748ff34651f",
   "metadata": {},
   "outputs": [],
   "source": [
    "class LogisticRegression(nn.Module):\n",
    "    def __init__(self, input_dim, output_dim):\n",
    "        super().__init__()\n",
    "        self.linear = nn.Linear(input_dim, output_dim)\n",
    "    \n",
    "    def forward(self, x):\n",
    "        x = self.linear(x)\n",
    "        return x"
   ]
  },
  {
   "cell_type": "code",
   "execution_count": 24,
   "id": "0e0a17da-dbf0-40fa-8878-25d389880cec",
   "metadata": {},
   "outputs": [],
   "source": [
    "input_dim = 28*28\n",
    "output_dim = 10\n",
    "model = LogisticRegression(input_dim, output_dim)\n",
    "\n",
    "lr = 1e-3\n",
    "entropy = nn.CrossEntropyLoss()\n",
    "optimizer = SGD(model.parameters(), lr=lr)"
   ]
  },
  {
   "cell_type": "code",
   "execution_count": 25,
   "id": "c7f530dc-9f9d-4bed-b9a5-7832de40c834",
   "metadata": {},
   "outputs": [],
   "source": [
    "count = 0\n",
    "loss_list = []\n",
    "iteration_list = []"
   ]
  },
  {
   "cell_type": "code",
   "execution_count": 40,
   "id": "5d17c529-aab6-4abd-b6b8-88dfe0e4eb02",
   "metadata": {},
   "outputs": [
    {
     "name": "stdout",
     "output_type": "stream",
     "text": [
      "Iteration: 5500 / Loss Data: 15.782234191894531 / Accuracy: 88.81666564941406\n",
      "Iteration: 6000 / Loss Data: 5.20335578918457 / Accuracy: 90.1050033569336\n",
      "Iteration: 6500 / Loss Data: 15.154175758361816 / Accuracy: 88.74166870117188\n",
      "Iteration: 7000 / Loss Data: 10.196858406066895 / Accuracy: 90.37000274658203\n",
      "Iteration: 7500 / Loss Data: 8.213878631591797 / Accuracy: 90.62000274658203\n",
      "Iteration: 8000 / Loss Data: 23.4305477142334 / Accuracy: 87.8116683959961\n",
      "Iteration: 8500 / Loss Data: 3.213942527770996 / Accuracy: 91.63833618164062\n",
      "Iteration: 9000 / Loss Data: 7.15557861328125 / Accuracy: 90.71499633789062\n",
      "Iteration: 9500 / Loss Data: 3.0582239627838135 / Accuracy: 90.97666931152344\n",
      "Iteration: 10000 / Loss Data: 5.785083770751953 / Accuracy: 91.56666564941406\n",
      "Iteration: 10500 / Loss Data: 13.599648475646973 / Accuracy: 86.5183334350586\n",
      "Iteration: 11000 / Loss Data: 14.560437202453613 / Accuracy: 87.68499755859375\n",
      "Iteration: 11500 / Loss Data: 13.195337295532227 / Accuracy: 88.6500015258789\n",
      "Iteration: 12000 / Loss Data: 7.624217987060547 / Accuracy: 86.04166412353516\n",
      "Iteration: 12500 / Loss Data: 11.244162559509277 / Accuracy: 87.64167022705078\n",
      "Iteration: 13000 / Loss Data: 4.2624311447143555 / Accuracy: 91.3316650390625\n",
      "Iteration: 13500 / Loss Data: 16.359643936157227 / Accuracy: 86.61000061035156\n",
      "Iteration: 14000 / Loss Data: 10.509943962097168 / Accuracy: 89.30999755859375\n",
      "Iteration: 14500 / Loss Data: 10.494301795959473 / Accuracy: 91.18333435058594\n",
      "Iteration: 15000 / Loss Data: 7.837090015411377 / Accuracy: 90.28166961669922\n",
      "Iteration: 15500 / Loss Data: 20.309005737304688 / Accuracy: 80.38500213623047\n",
      "Iteration: 16000 / Loss Data: 5.061690330505371 / Accuracy: 91.40666961669922\n",
      "Iteration: 16500 / Loss Data: 7.123906135559082 / Accuracy: 91.67333221435547\n",
      "Iteration: 17000 / Loss Data: 9.402111053466797 / Accuracy: 88.35832977294922\n",
      "Iteration: 17500 / Loss Data: 16.790231704711914 / Accuracy: 85.51499938964844\n",
      "Iteration: 18000 / Loss Data: 12.070758819580078 / Accuracy: 88.711669921875\n",
      "Iteration: 18500 / Loss Data: 13.767333030700684 / Accuracy: 90.68499755859375\n",
      "Iteration: 19000 / Loss Data: 3.948723077774048 / Accuracy: 88.788330078125\n",
      "Iteration: 19500 / Loss Data: 14.550620079040527 / Accuracy: 89.09833526611328\n",
      "Iteration: 20000 / Loss Data: 20.860078811645508 / Accuracy: 84.58833312988281\n",
      "Iteration: 20500 / Loss Data: 6.29481315612793 / Accuracy: 89.65166473388672\n",
      "Iteration: 21000 / Loss Data: 5.24299430847168 / Accuracy: 91.5816650390625\n",
      "Iteration: 21500 / Loss Data: 9.206148147583008 / Accuracy: 89.88166809082031\n",
      "Iteration: 22000 / Loss Data: 10.297884941101074 / Accuracy: 90.30166625976562\n",
      "Iteration: 22500 / Loss Data: 12.960004806518555 / Accuracy: 89.48833465576172\n",
      "Iteration: 23000 / Loss Data: 12.859021186828613 / Accuracy: 88.83833312988281\n"
     ]
    }
   ],
   "source": [
    "num_epoch = 30\n",
    "\n",
    "for epoch in range(num_epoch):\n",
    "    for images, labels in train_loader:\n",
    "        train = Variable(images.view(-1, 28*28).float())\n",
    "        optimizer.zero_grad()\n",
    "        outputs = model(train)\n",
    "        loss = entropy(outputs, labels.long())\n",
    "        loss.backward()\n",
    "        optimizer.step()\n",
    "        \n",
    "        count += 1\n",
    "        \n",
    "        if count % 50 == 0:\n",
    "            correct = 0\n",
    "            total = 0\n",
    "            for images, labels in test_loader:\n",
    "                test = Variable(images.view(-1, 28*28).float())\n",
    "                outputs = model(test)\n",
    "                predicted = torch.max(outputs.data, 1)[1]\n",
    "                total += len(labels)\n",
    "                correct += (predicted == labels).sum()\n",
    "            \n",
    "            accuracy = 100 * correct / float(total)\n",
    "            \n",
    "            loss_list.append(loss.data)\n",
    "            iteration_list.append(count)\n",
    "            \n",
    "        if count % 500 == 0:\n",
    "            print(f'Iteration: {count} / Loss Data: {loss.data} / \\\n",
    "Accuracy: {accuracy}')"
   ]
  },
  {
   "cell_type": "code",
   "execution_count": null,
   "id": "5dd3c77d-ce0f-43f9-8792-fd4e8e9ba4e1",
   "metadata": {},
   "outputs": [],
   "source": []
  }
 ],
 "metadata": {
  "kernelspec": {
   "display_name": "Python 3 (ipykernel)",
   "language": "python",
   "name": "python3"
  },
  "language_info": {
   "codemirror_mode": {
    "name": "ipython",
    "version": 3
   },
   "file_extension": ".py",
   "mimetype": "text/x-python",
   "name": "python",
   "nbconvert_exporter": "python",
   "pygments_lexer": "ipython3",
   "version": "3.9.5"
  }
 },
 "nbformat": 4,
 "nbformat_minor": 5
}
